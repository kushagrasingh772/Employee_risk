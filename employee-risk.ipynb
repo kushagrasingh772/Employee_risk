{
 "cells": [
  {
   "cell_type": "markdown",
   "id": "32bf0bbc",
   "metadata": {
    "papermill": {
     "duration": 0.083343,
     "end_time": "2021-08-16T10:44:03.331279",
     "exception": false,
     "start_time": "2021-08-16T10:44:03.247936",
     "status": "completed"
    },
    "tags": []
   },
   "source": [
    "# **Employee at Risk!** 📌\n",
    "\n",
    "Here is my notebook on the classification problem of predicting the employees at risk, working with the dataset \n",
    "\n",
    "https://www.kaggle.com/manasdalakoti/univai-hack-data\n",
    "\n"
   ]
  },
  {
   "cell_type": "markdown",
   "id": "92c83c78",
   "metadata": {
    "papermill": {
     "duration": 0.091021,
     "end_time": "2021-08-16T10:44:03.503278",
     "exception": false,
     "start_time": "2021-08-16T10:44:03.412257",
     "status": "completed"
    },
    "tags": []
   },
   "source": [
    "# **Importing the libraries**"
   ]
  },
  {
   "cell_type": "markdown",
   "id": "e19ea29f",
   "metadata": {
    "papermill": {
     "duration": 0.075485,
     "end_time": "2021-08-16T10:44:03.655307",
     "exception": false,
     "start_time": "2021-08-16T10:44:03.579822",
     "status": "completed"
    },
    "tags": []
   },
   "source": [
    "**Hello everyone**,\n",
    "\n",
    "This is my take on the binary classification of determining employees who are at a risk of termination or not.\n",
    "\n",
    "It is a Binary Classification Problem. The tools used are:\n",
    "\n",
    "**Pandas** for data manipulation and ingestion\n",
    "\n",
    "**Numpy** for multidimensional array computing\n",
    "\n",
    "**Matplotlib** and seaborn for data visualization\n",
    "\n",
    "**Word Cloud** for geeting the most populare string\n",
    "\n",
    "**Imblearn** for oversampling of the model\n",
    "\n",
    "**Scikit** Learn for Data Preprocessing\n",
    "\n"
   ]
  },
  {
   "cell_type": "markdown",
   "id": "fe86ba79",
   "metadata": {
    "papermill": {
     "duration": 0.074693,
     "end_time": "2021-08-16T10:44:03.807384",
     "exception": false,
     "start_time": "2021-08-16T10:44:03.732691",
     "status": "completed"
    },
    "tags": []
   },
   "source": [
    "# For modelling:\n",
    "\n",
    "**Random Forest** Classifier: \n",
    "\n",
    "> Accuracy Reached: **95.74%**\n",
    "\n",
    "**XG Boost** Classifier:\n",
    "\n",
    "> Accuracy Reached: **93.17%**\n",
    "\n",
    "**Light Gradient Boosting**:\n",
    "\n",
    "> Accuracy Reached: **91.10%**\n",
    "\n",
    "**Cat Boost** classifier:\n",
    "\n",
    "> Accuracy Reached: **95.74%**"
   ]
  },
  {
   "cell_type": "markdown",
   "id": "c13b8e63",
   "metadata": {
    "papermill": {
     "duration": 0.074826,
     "end_time": "2021-08-16T10:44:03.957640",
     "exception": false,
     "start_time": "2021-08-16T10:44:03.882814",
     "status": "completed"
    },
    "tags": []
   },
   "source": [
    "-> Feel free to leave any *suggestions* in the comments for the betterment of the notebook.\n",
    "\n",
    "-> Thank you for your time,**CHEERS**!🌟"
   ]
  },
  {
   "cell_type": "code",
   "execution_count": 1,
   "id": "88ebc688",
   "metadata": {
    "execution": {
     "iopub.execute_input": "2021-08-16T10:44:04.116135Z",
     "iopub.status.busy": "2021-08-16T10:44:04.114552Z",
     "iopub.status.idle": "2021-08-16T10:44:05.068111Z",
     "shell.execute_reply": "2021-08-16T10:44:05.067399Z",
     "shell.execute_reply.started": "2021-08-16T10:14:15.811245Z"
    },
    "papermill": {
     "duration": 1.03351,
     "end_time": "2021-08-16T10:44:05.068281",
     "exception": false,
     "start_time": "2021-08-16T10:44:04.034771",
     "status": "completed"
    },
    "tags": []
   },
   "outputs": [],
   "source": [
    "import pandas as pd\n",
    "import numpy as np\n",
    "import matplotlib.pyplot as plt\n",
    "import matplotlib as matplot\n",
    "import seaborn as sns\n",
    "%matplotlib inline"
   ]
  },
  {
   "cell_type": "markdown",
   "id": "87fa95b4",
   "metadata": {
    "papermill": {
     "duration": 0.076228,
     "end_time": "2021-08-16T10:44:05.222691",
     "exception": false,
     "start_time": "2021-08-16T10:44:05.146463",
     "status": "completed"
    },
    "tags": []
   },
   "source": [
    "# **Loading the dataset**"
   ]
  },
  {
   "cell_type": "code",
   "execution_count": 2,
   "id": "d4ebb97e",
   "metadata": {
    "execution": {
     "iopub.execute_input": "2021-08-16T10:44:05.379887Z",
     "iopub.status.busy": "2021-08-16T10:44:05.379133Z",
     "iopub.status.idle": "2021-08-16T10:44:06.117768Z",
     "shell.execute_reply": "2021-08-16T10:44:06.117119Z",
     "shell.execute_reply.started": "2021-08-16T10:14:16.927798Z"
    },
    "papermill": {
     "duration": 0.819372,
     "end_time": "2021-08-16T10:44:06.117947",
     "exception": false,
     "start_time": "2021-08-16T10:44:05.298575",
     "status": "completed"
    },
    "tags": []
   },
   "outputs": [],
   "source": [
    "train_data=pd.read_csv(\"../input/univai-hack-data/Training Data.csv\")\n",
    "test_data=pd.read_csv(\"../input/univai-hack-data/Test Data.csv\")"
   ]
  },
  {
   "cell_type": "markdown",
   "id": "10ba3f98",
   "metadata": {
    "papermill": {
     "duration": 0.075299,
     "end_time": "2021-08-16T10:44:06.275846",
     "exception": false,
     "start_time": "2021-08-16T10:44:06.200547",
     "status": "completed"
    },
    "tags": []
   },
   "source": [
    "# **Data Analysis**"
   ]
  },
  {
   "cell_type": "code",
   "execution_count": 3,
   "id": "b289fa4b",
   "metadata": {
    "execution": {
     "iopub.execute_input": "2021-08-16T10:44:06.432273Z",
     "iopub.status.busy": "2021-08-16T10:44:06.431464Z",
     "iopub.status.idle": "2021-08-16T10:44:06.439173Z",
     "shell.execute_reply": "2021-08-16T10:44:06.438478Z",
     "shell.execute_reply.started": "2021-08-16T10:14:17.777869Z"
    },
    "papermill": {
     "duration": 0.087652,
     "end_time": "2021-08-16T10:44:06.439327",
     "exception": false,
     "start_time": "2021-08-16T10:44:06.351675",
     "status": "completed"
    },
    "tags": []
   },
   "outputs": [
    {
     "name": "stdout",
     "output_type": "stream",
     "text": [
      "Shape of train : (252000, 13)\n",
      "Shape of test : (28000, 12)\n"
     ]
    }
   ],
   "source": [
    "print(\"Shape of train :\", train_data.shape)\n",
    "print(\"Shape of test :\", test_data.shape)"
   ]
  },
  {
   "cell_type": "code",
   "execution_count": 4,
   "id": "e92ef963",
   "metadata": {
    "execution": {
     "iopub.execute_input": "2021-08-16T10:44:06.604266Z",
     "iopub.status.busy": "2021-08-16T10:44:06.603384Z",
     "iopub.status.idle": "2021-08-16T10:44:06.626928Z",
     "shell.execute_reply": "2021-08-16T10:44:06.626278Z",
     "shell.execute_reply.started": "2021-08-16T10:14:17.787153Z"
    },
    "papermill": {
     "duration": 0.109757,
     "end_time": "2021-08-16T10:44:06.627066",
     "exception": false,
     "start_time": "2021-08-16T10:44:06.517309",
     "status": "completed"
    },
    "tags": []
   },
   "outputs": [
    {
     "data": {
      "text/html": [
       "<div>\n",
       "<style scoped>\n",
       "    .dataframe tbody tr th:only-of-type {\n",
       "        vertical-align: middle;\n",
       "    }\n",
       "\n",
       "    .dataframe tbody tr th {\n",
       "        vertical-align: top;\n",
       "    }\n",
       "\n",
       "    .dataframe thead th {\n",
       "        text-align: right;\n",
       "    }\n",
       "</style>\n",
       "<table border=\"1\" class=\"dataframe\">\n",
       "  <thead>\n",
       "    <tr style=\"text-align: right;\">\n",
       "      <th></th>\n",
       "      <th>Id</th>\n",
       "      <th>income</th>\n",
       "      <th>age</th>\n",
       "      <th>experience</th>\n",
       "      <th>married</th>\n",
       "      <th>house_ownership</th>\n",
       "      <th>car_ownership</th>\n",
       "      <th>profession</th>\n",
       "      <th>city</th>\n",
       "      <th>state</th>\n",
       "      <th>current_job_years</th>\n",
       "      <th>current_house_years</th>\n",
       "      <th>risk_flag</th>\n",
       "    </tr>\n",
       "  </thead>\n",
       "  <tbody>\n",
       "    <tr>\n",
       "      <th>0</th>\n",
       "      <td>1</td>\n",
       "      <td>1303835</td>\n",
       "      <td>23</td>\n",
       "      <td>3</td>\n",
       "      <td>single</td>\n",
       "      <td>rented</td>\n",
       "      <td>no</td>\n",
       "      <td>Mechanical_engineer</td>\n",
       "      <td>Rewa</td>\n",
       "      <td>Madhya_Pradesh</td>\n",
       "      <td>3</td>\n",
       "      <td>13</td>\n",
       "      <td>0</td>\n",
       "    </tr>\n",
       "    <tr>\n",
       "      <th>1</th>\n",
       "      <td>2</td>\n",
       "      <td>7574516</td>\n",
       "      <td>40</td>\n",
       "      <td>10</td>\n",
       "      <td>single</td>\n",
       "      <td>rented</td>\n",
       "      <td>no</td>\n",
       "      <td>Software_Developer</td>\n",
       "      <td>Parbhani</td>\n",
       "      <td>Maharashtra</td>\n",
       "      <td>9</td>\n",
       "      <td>13</td>\n",
       "      <td>0</td>\n",
       "    </tr>\n",
       "    <tr>\n",
       "      <th>2</th>\n",
       "      <td>3</td>\n",
       "      <td>3991815</td>\n",
       "      <td>66</td>\n",
       "      <td>4</td>\n",
       "      <td>married</td>\n",
       "      <td>rented</td>\n",
       "      <td>no</td>\n",
       "      <td>Technical_writer</td>\n",
       "      <td>Alappuzha</td>\n",
       "      <td>Kerala</td>\n",
       "      <td>4</td>\n",
       "      <td>10</td>\n",
       "      <td>0</td>\n",
       "    </tr>\n",
       "    <tr>\n",
       "      <th>3</th>\n",
       "      <td>4</td>\n",
       "      <td>6256451</td>\n",
       "      <td>41</td>\n",
       "      <td>2</td>\n",
       "      <td>single</td>\n",
       "      <td>rented</td>\n",
       "      <td>yes</td>\n",
       "      <td>Software_Developer</td>\n",
       "      <td>Bhubaneswar</td>\n",
       "      <td>Odisha</td>\n",
       "      <td>2</td>\n",
       "      <td>12</td>\n",
       "      <td>1</td>\n",
       "    </tr>\n",
       "    <tr>\n",
       "      <th>4</th>\n",
       "      <td>5</td>\n",
       "      <td>5768871</td>\n",
       "      <td>47</td>\n",
       "      <td>11</td>\n",
       "      <td>single</td>\n",
       "      <td>rented</td>\n",
       "      <td>no</td>\n",
       "      <td>Civil_servant</td>\n",
       "      <td>Tiruchirappalli[10]</td>\n",
       "      <td>Tamil_Nadu</td>\n",
       "      <td>3</td>\n",
       "      <td>14</td>\n",
       "      <td>1</td>\n",
       "    </tr>\n",
       "  </tbody>\n",
       "</table>\n",
       "</div>"
      ],
      "text/plain": [
       "   Id   income  age  experience  married house_ownership car_ownership  \\\n",
       "0   1  1303835   23           3   single          rented            no   \n",
       "1   2  7574516   40          10   single          rented            no   \n",
       "2   3  3991815   66           4  married          rented            no   \n",
       "3   4  6256451   41           2   single          rented           yes   \n",
       "4   5  5768871   47          11   single          rented            no   \n",
       "\n",
       "            profession                 city           state  \\\n",
       "0  Mechanical_engineer                 Rewa  Madhya_Pradesh   \n",
       "1   Software_Developer             Parbhani     Maharashtra   \n",
       "2     Technical_writer            Alappuzha          Kerala   \n",
       "3   Software_Developer          Bhubaneswar          Odisha   \n",
       "4        Civil_servant  Tiruchirappalli[10]      Tamil_Nadu   \n",
       "\n",
       "   current_job_years  current_house_years  risk_flag  \n",
       "0                  3                   13          0  \n",
       "1                  9                   13          0  \n",
       "2                  4                   10          0  \n",
       "3                  2                   12          1  \n",
       "4                  3                   14          1  "
      ]
     },
     "execution_count": 4,
     "metadata": {},
     "output_type": "execute_result"
    }
   ],
   "source": [
    "train_data.head()"
   ]
  },
  {
   "cell_type": "code",
   "execution_count": 5,
   "id": "9485de96",
   "metadata": {
    "execution": {
     "iopub.execute_input": "2021-08-16T10:44:06.929339Z",
     "iopub.status.busy": "2021-08-16T10:44:06.785048Z",
     "iopub.status.idle": "2021-08-16T10:44:06.954049Z",
     "shell.execute_reply": "2021-08-16T10:44:06.953504Z",
     "shell.execute_reply.started": "2021-08-16T10:14:17.828895Z"
    },
    "papermill": {
     "duration": 0.250919,
     "end_time": "2021-08-16T10:44:06.954208",
     "exception": false,
     "start_time": "2021-08-16T10:44:06.703289",
     "status": "completed"
    },
    "tags": []
   },
   "outputs": [
    {
     "name": "stdout",
     "output_type": "stream",
     "text": [
      "<class 'pandas.core.frame.DataFrame'>\n",
      "RangeIndex: 252000 entries, 0 to 251999\n",
      "Data columns (total 13 columns):\n",
      " #   Column               Non-Null Count   Dtype \n",
      "---  ------               --------------   ----- \n",
      " 0   Id                   252000 non-null  int64 \n",
      " 1   income               252000 non-null  int64 \n",
      " 2   age                  252000 non-null  int64 \n",
      " 3   experience           252000 non-null  int64 \n",
      " 4   married              252000 non-null  object\n",
      " 5   house_ownership      252000 non-null  object\n",
      " 6   car_ownership        252000 non-null  object\n",
      " 7   profession           252000 non-null  object\n",
      " 8   city                 252000 non-null  object\n",
      " 9   state                252000 non-null  object\n",
      " 10  current_job_years    252000 non-null  int64 \n",
      " 11  current_house_years  252000 non-null  int64 \n",
      " 12  risk_flag            252000 non-null  int64 \n",
      "dtypes: int64(7), object(6)\n",
      "memory usage: 25.0+ MB\n"
     ]
    }
   ],
   "source": [
    "train_data.info()"
   ]
  },
  {
   "cell_type": "markdown",
   "id": "8971ce9e",
   "metadata": {
    "papermill": {
     "duration": 0.077963,
     "end_time": "2021-08-16T10:44:07.109615",
     "exception": false,
     "start_time": "2021-08-16T10:44:07.031652",
     "status": "completed"
    },
    "tags": []
   },
   "source": [
    "***Checking for the presence of NULL values*** "
   ]
  },
  {
   "cell_type": "code",
   "execution_count": 6,
   "id": "351ffdcb",
   "metadata": {
    "execution": {
     "iopub.execute_input": "2021-08-16T10:44:07.413213Z",
     "iopub.status.busy": "2021-08-16T10:44:07.412525Z",
     "iopub.status.idle": "2021-08-16T10:44:07.420666Z",
     "shell.execute_reply": "2021-08-16T10:44:07.421118Z",
     "shell.execute_reply.started": "2021-08-16T10:14:18.003459Z"
    },
    "papermill": {
     "duration": 0.235282,
     "end_time": "2021-08-16T10:44:07.421313",
     "exception": false,
     "start_time": "2021-08-16T10:44:07.186031",
     "status": "completed"
    },
    "tags": []
   },
   "outputs": [
    {
     "data": {
      "text/plain": [
       "Id                     False\n",
       "income                 False\n",
       "age                    False\n",
       "experience             False\n",
       "married                False\n",
       "house_ownership        False\n",
       "car_ownership          False\n",
       "profession             False\n",
       "city                   False\n",
       "state                  False\n",
       "current_job_years      False\n",
       "current_house_years    False\n",
       "risk_flag              False\n",
       "dtype: bool"
      ]
     },
     "execution_count": 6,
     "metadata": {},
     "output_type": "execute_result"
    }
   ],
   "source": [
    "train_data.isnull().any()"
   ]
  },
  {
   "cell_type": "code",
   "execution_count": 7,
   "id": "3a69a410",
   "metadata": {
    "execution": {
     "iopub.execute_input": "2021-08-16T10:44:07.593936Z",
     "iopub.status.busy": "2021-08-16T10:44:07.593260Z",
     "iopub.status.idle": "2021-08-16T10:44:07.597789Z",
     "shell.execute_reply": "2021-08-16T10:44:07.597250Z",
     "shell.execute_reply.started": "2021-08-16T10:14:18.160037Z"
    },
    "papermill": {
     "duration": 0.09708,
     "end_time": "2021-08-16T10:44:07.597926",
     "exception": false,
     "start_time": "2021-08-16T10:44:07.500846",
     "status": "completed"
    },
    "tags": []
   },
   "outputs": [
    {
     "data": {
      "text/html": [
       "<div>\n",
       "<style scoped>\n",
       "    .dataframe tbody tr th:only-of-type {\n",
       "        vertical-align: middle;\n",
       "    }\n",
       "\n",
       "    .dataframe tbody tr th {\n",
       "        vertical-align: top;\n",
       "    }\n",
       "\n",
       "    .dataframe thead th {\n",
       "        text-align: right;\n",
       "    }\n",
       "</style>\n",
       "<table border=\"1\" class=\"dataframe\">\n",
       "  <thead>\n",
       "    <tr style=\"text-align: right;\">\n",
       "      <th></th>\n",
       "      <th>id</th>\n",
       "      <th>income</th>\n",
       "      <th>age</th>\n",
       "      <th>experience</th>\n",
       "      <th>married</th>\n",
       "      <th>house_ownership</th>\n",
       "      <th>car_ownership</th>\n",
       "      <th>profession</th>\n",
       "      <th>city</th>\n",
       "      <th>state</th>\n",
       "      <th>current_job_years</th>\n",
       "      <th>current_house_years</th>\n",
       "    </tr>\n",
       "  </thead>\n",
       "  <tbody>\n",
       "    <tr>\n",
       "      <th>0</th>\n",
       "      <td>1</td>\n",
       "      <td>7393090</td>\n",
       "      <td>59</td>\n",
       "      <td>19</td>\n",
       "      <td>single</td>\n",
       "      <td>rented</td>\n",
       "      <td>no</td>\n",
       "      <td>Geologist</td>\n",
       "      <td>Malda</td>\n",
       "      <td>West Bengal</td>\n",
       "      <td>4</td>\n",
       "      <td>13</td>\n",
       "    </tr>\n",
       "    <tr>\n",
       "      <th>1</th>\n",
       "      <td>2</td>\n",
       "      <td>1215004</td>\n",
       "      <td>25</td>\n",
       "      <td>5</td>\n",
       "      <td>single</td>\n",
       "      <td>rented</td>\n",
       "      <td>no</td>\n",
       "      <td>Firefighter</td>\n",
       "      <td>Jalna</td>\n",
       "      <td>Maharashtra</td>\n",
       "      <td>5</td>\n",
       "      <td>10</td>\n",
       "    </tr>\n",
       "    <tr>\n",
       "      <th>2</th>\n",
       "      <td>3</td>\n",
       "      <td>8901342</td>\n",
       "      <td>50</td>\n",
       "      <td>12</td>\n",
       "      <td>single</td>\n",
       "      <td>rented</td>\n",
       "      <td>no</td>\n",
       "      <td>Lawyer</td>\n",
       "      <td>Thane</td>\n",
       "      <td>Maharashtra</td>\n",
       "      <td>9</td>\n",
       "      <td>14</td>\n",
       "    </tr>\n",
       "    <tr>\n",
       "      <th>3</th>\n",
       "      <td>4</td>\n",
       "      <td>1944421</td>\n",
       "      <td>49</td>\n",
       "      <td>9</td>\n",
       "      <td>married</td>\n",
       "      <td>rented</td>\n",
       "      <td>yes</td>\n",
       "      <td>Analyst</td>\n",
       "      <td>Latur</td>\n",
       "      <td>Maharashtra</td>\n",
       "      <td>3</td>\n",
       "      <td>12</td>\n",
       "    </tr>\n",
       "    <tr>\n",
       "      <th>4</th>\n",
       "      <td>5</td>\n",
       "      <td>13429</td>\n",
       "      <td>25</td>\n",
       "      <td>18</td>\n",
       "      <td>single</td>\n",
       "      <td>rented</td>\n",
       "      <td>yes</td>\n",
       "      <td>Comedian</td>\n",
       "      <td>Berhampore</td>\n",
       "      <td>West Bengal</td>\n",
       "      <td>13</td>\n",
       "      <td>11</td>\n",
       "    </tr>\n",
       "  </tbody>\n",
       "</table>\n",
       "</div>"
      ],
      "text/plain": [
       "   id   income  age  experience  married house_ownership car_ownership  \\\n",
       "0   1  7393090   59          19   single          rented            no   \n",
       "1   2  1215004   25           5   single          rented            no   \n",
       "2   3  8901342   50          12   single          rented            no   \n",
       "3   4  1944421   49           9  married          rented           yes   \n",
       "4   5    13429   25          18   single          rented           yes   \n",
       "\n",
       "    profession        city        state  current_job_years  \\\n",
       "0    Geologist       Malda  West Bengal                  4   \n",
       "1  Firefighter       Jalna  Maharashtra                  5   \n",
       "2       Lawyer       Thane  Maharashtra                  9   \n",
       "3      Analyst       Latur  Maharashtra                  3   \n",
       "4     Comedian  Berhampore  West Bengal                 13   \n",
       "\n",
       "   current_house_years  \n",
       "0                   13  \n",
       "1                   10  \n",
       "2                   14  \n",
       "3                   12  \n",
       "4                   11  "
      ]
     },
     "execution_count": 7,
     "metadata": {},
     "output_type": "execute_result"
    }
   ],
   "source": [
    "test_data.head()"
   ]
  },
  {
   "cell_type": "code",
   "execution_count": 8,
   "id": "faee8956",
   "metadata": {
    "execution": {
     "iopub.execute_input": "2021-08-16T10:44:07.775140Z",
     "iopub.status.busy": "2021-08-16T10:44:07.774456Z",
     "iopub.status.idle": "2021-08-16T10:44:07.781418Z",
     "shell.execute_reply": "2021-08-16T10:44:07.780836Z",
     "shell.execute_reply.started": "2021-08-16T10:14:18.180139Z"
    },
    "papermill": {
     "duration": 0.105391,
     "end_time": "2021-08-16T10:44:07.781558",
     "exception": false,
     "start_time": "2021-08-16T10:44:07.676167",
     "status": "completed"
    },
    "tags": []
   },
   "outputs": [
    {
     "data": {
      "text/plain": [
       "id                     False\n",
       "income                 False\n",
       "age                    False\n",
       "experience             False\n",
       "married                False\n",
       "house_ownership        False\n",
       "car_ownership          False\n",
       "profession             False\n",
       "city                   False\n",
       "state                  False\n",
       "current_job_years      False\n",
       "current_house_years    False\n",
       "dtype: bool"
      ]
     },
     "execution_count": 8,
     "metadata": {},
     "output_type": "execute_result"
    }
   ],
   "source": [
    "test_data.isnull().any()"
   ]
  },
  {
   "cell_type": "code",
   "execution_count": 9,
   "id": "bd2f4261",
   "metadata": {
    "execution": {
     "iopub.execute_input": "2021-08-16T10:44:07.942512Z",
     "iopub.status.busy": "2021-08-16T10:44:07.941659Z",
     "iopub.status.idle": "2021-08-16T10:44:07.949122Z",
     "shell.execute_reply": "2021-08-16T10:44:07.949638Z",
     "shell.execute_reply.started": "2021-08-16T10:14:18.215292Z"
    },
    "papermill": {
     "duration": 0.090363,
     "end_time": "2021-08-16T10:44:07.949810",
     "exception": false,
     "start_time": "2021-08-16T10:44:07.859447",
     "status": "completed"
    },
    "tags": []
   },
   "outputs": [
    {
     "data": {
      "text/plain": [
       "0    221004\n",
       "1     30996\n",
       "Name: risk_flag, dtype: int64"
      ]
     },
     "execution_count": 9,
     "metadata": {},
     "output_type": "execute_result"
    }
   ],
   "source": [
    "train_data['risk_flag'].value_counts()"
   ]
  },
  {
   "cell_type": "markdown",
   "id": "c0d6abae",
   "metadata": {
    "papermill": {
     "duration": 0.078814,
     "end_time": "2021-08-16T10:44:08.109143",
     "exception": false,
     "start_time": "2021-08-16T10:44:08.030329",
     "status": "completed"
    },
    "tags": []
   },
   "source": [
    "**finding the percentage of employee at risk**"
   ]
  },
  {
   "cell_type": "code",
   "execution_count": 10,
   "id": "5cc9c02d",
   "metadata": {
    "execution": {
     "iopub.execute_input": "2021-08-16T10:44:08.269317Z",
     "iopub.status.busy": "2021-08-16T10:44:08.268639Z",
     "iopub.status.idle": "2021-08-16T10:44:08.274380Z",
     "shell.execute_reply": "2021-08-16T10:44:08.273706Z",
     "shell.execute_reply.started": "2021-08-16T10:14:18.229878Z"
    },
    "papermill": {
     "duration": 0.086523,
     "end_time": "2021-08-16T10:44:08.274516",
     "exception": false,
     "start_time": "2021-08-16T10:44:08.187993",
     "status": "completed"
    },
    "tags": []
   },
   "outputs": [
    {
     "name": "stdout",
     "output_type": "stream",
     "text": [
      "Percentage of Employees at risk is 12.30%\n"
     ]
    }
   ],
   "source": [
    "\n",
    "\n",
    "risk = (30996/252000)*100\n",
    "print(\"Percentage of Employees at risk is {:.2f}%\".format(risk))"
   ]
  },
  {
   "cell_type": "markdown",
   "id": "ea1d58b8",
   "metadata": {
    "papermill": {
     "duration": 0.081856,
     "end_time": "2021-08-16T10:44:08.435203",
     "exception": false,
     "start_time": "2021-08-16T10:44:08.353347",
     "status": "completed"
    },
    "tags": []
   },
   "source": [
    "**finding the percentage of Employee at no risk**"
   ]
  },
  {
   "cell_type": "code",
   "execution_count": 11,
   "id": "7244b61c",
   "metadata": {
    "execution": {
     "iopub.execute_input": "2021-08-16T10:44:08.600431Z",
     "iopub.status.busy": "2021-08-16T10:44:08.599726Z",
     "iopub.status.idle": "2021-08-16T10:44:08.602859Z",
     "shell.execute_reply": "2021-08-16T10:44:08.603444Z",
     "shell.execute_reply.started": "2021-08-16T10:14:18.239369Z"
    },
    "papermill": {
     "duration": 0.087661,
     "end_time": "2021-08-16T10:44:08.603623",
     "exception": false,
     "start_time": "2021-08-16T10:44:08.515962",
     "status": "completed"
    },
    "tags": []
   },
   "outputs": [
    {
     "name": "stdout",
     "output_type": "stream",
     "text": [
      "Percentage of Employees at no risk is 87.70%\n"
     ]
    }
   ],
   "source": [
    "\n",
    "\n",
    "no_risk = (221004/252000)*100\n",
    "print(\"Percentage of Employees at no risk is {:.2f}%\".format(no_risk))"
   ]
  },
  {
   "cell_type": "markdown",
   "id": "407b4586",
   "metadata": {
    "papermill": {
     "duration": 0.077922,
     "end_time": "2021-08-16T10:44:08.760978",
     "exception": false,
     "start_time": "2021-08-16T10:44:08.683056",
     "status": "completed"
    },
    "tags": []
   },
   "source": [
    "# Data Visualization"
   ]
  },
  {
   "cell_type": "markdown",
   "id": "446444d7",
   "metadata": {
    "papermill": {
     "duration": 0.078812,
     "end_time": "2021-08-16T10:44:08.918391",
     "exception": false,
     "start_time": "2021-08-16T10:44:08.839579",
     "status": "completed"
    },
    "tags": []
   },
   "source": [
    "**plotting a scatter plot**"
   ]
  },
  {
   "cell_type": "code",
   "execution_count": 12,
   "id": "d258747f",
   "metadata": {
    "execution": {
     "iopub.execute_input": "2021-08-16T10:44:09.100963Z",
     "iopub.status.busy": "2021-08-16T10:44:09.100264Z",
     "iopub.status.idle": "2021-08-16T10:44:09.293638Z",
     "shell.execute_reply": "2021-08-16T10:44:09.293008Z",
     "shell.execute_reply.started": "2021-08-16T10:14:18.252736Z"
    },
    "papermill": {
     "duration": 0.297161,
     "end_time": "2021-08-16T10:44:09.293797",
     "exception": false,
     "start_time": "2021-08-16T10:44:08.996636",
     "status": "completed"
    },
    "tags": []
   },
   "outputs": [
    {
     "data": {
      "image/png": "[encoded data removed]",
      "text/plain": [
       "<Figure size 432x288 with 1 Axes>"
      ]
     },
     "metadata": {
      "needs_background": "light"
     },
     "output_type": "display_data"
    }
   ],
   "source": [
    "\n",
    "\n",
    "plt.hist(train_data['risk_flag'])\n",
    "plt.title('plot to show the gap in Flagged and Non-Flagged Employees')\n",
    "plt.xlabel('0 - No Risk and 1- Risk', fontsize = 20)\n",
    "plt.ylabel('count',fontsize= 15)\n",
    "plt.show()"
   ]
  },
  {
   "cell_type": "code",
   "execution_count": 13,
   "id": "f19e146e",
   "metadata": {
    "execution": {
     "iopub.execute_input": "2021-08-16T10:44:09.461062Z",
     "iopub.status.busy": "2021-08-16T10:44:09.460355Z",
     "iopub.status.idle": "2021-08-16T10:44:11.168532Z",
     "shell.execute_reply": "2021-08-16T10:44:11.167826Z",
     "shell.execute_reply.started": "2021-08-16T10:14:18.476306Z"
    },
    "papermill": {
     "duration": 1.793187,
     "end_time": "2021-08-16T10:44:11.168701",
     "exception": false,
     "start_time": "2021-08-16T10:44:09.375514",
     "status": "completed"
    },
    "tags": []
   },
   "outputs": [
    {
     "name": "stderr",
     "output_type": "stream",
     "text": [
      "/opt/conda/lib/python3.7/site-packages/seaborn/distributions.py:2557: FutureWarning: `distplot` is a deprecated function and will be removed in a future version. Please adapt your code to use either `displot` (a figure-level function with similar flexibility) or `histplot` (an axes-level function for histograms).\n",
      "  warnings.warn(msg, FutureWarning)\n"
     ]
    },
    {
     "data": {
      "image/png": "[encoded data removed]",
      "text/plain": [
       "<Figure size 432x288 with 1 Axes>"
      ]
     },
     "metadata": {
      "needs_background": "light"
     },
     "output_type": "display_data"
    }
   ],
   "source": [
    "# checking the distribution of age of Employees in the company\n",
    "\n",
    "sns.distplot(train_data['age'], color = 'green')\n",
    "plt.title('Distribution of Age of Employees', fontsize = 30)\n",
    "plt.xlabel('Age', fontsize = 20)\n",
    "plt.ylabel('count',fontsize=15)\n",
    "plt.show()"
   ]
  },
  {
   "cell_type": "markdown",
   "id": "892a6796",
   "metadata": {
    "papermill": {
     "duration": 0.082392,
     "end_time": "2021-08-16T10:44:11.332697",
     "exception": false,
     "start_time": "2021-08-16T10:44:11.250305",
     "status": "completed"
    },
    "tags": []
   },
   "source": [
    "**Boxplot for determing IQR minimum and maximum**"
   ]
  },
  {
   "cell_type": "code",
   "execution_count": 14,
   "id": "794c5b01",
   "metadata": {
    "execution": {
     "iopub.execute_input": "2021-08-16T10:44:11.503833Z",
     "iopub.status.busy": "2021-08-16T10:44:11.503126Z",
     "iopub.status.idle": "2021-08-16T10:44:12.026418Z",
     "shell.execute_reply": "2021-08-16T10:44:12.025867Z",
     "shell.execute_reply.started": "2021-08-16T10:14:20.176151Z"
    },
    "papermill": {
     "duration": 0.612084,
     "end_time": "2021-08-16T10:44:12.026552",
     "exception": false,
     "start_time": "2021-08-16T10:44:11.414468",
     "status": "completed"
    },
    "tags": []
   },
   "outputs": [
    {
     "data": {
      "image/png": "[encoded data removed]",
      "text/plain": [
       "<Figure size 432x288 with 1 Axes>"
      ]
     },
     "metadata": {
      "needs_background": "light"
     },
     "output_type": "display_data"
    }
   ],
   "source": [
    "boxplot=train_data.boxplot(column=['age'])"
   ]
  },
  {
   "cell_type": "markdown",
   "id": "35839dde",
   "metadata": {
    "papermill": {
     "duration": 0.083883,
     "end_time": "2021-08-16T10:44:12.195007",
     "exception": false,
     "start_time": "2021-08-16T10:44:12.111124",
     "status": "completed"
    },
    "tags": []
   },
   "source": [
    "**Dividing the age column into different groups:**\n",
    "\n",
    "**0** denotes young people\n",
    "\n",
    "**1** denotes middle age employee\n",
    "\n",
    "**2** denotes more aged employee\n",
    "\n",
    "**3** denotes elderly employee"
   ]
  },
  {
   "cell_type": "code",
   "execution_count": 15,
   "id": "f54872f8",
   "metadata": {
    "execution": {
     "iopub.execute_input": "2021-08-16T10:44:12.361892Z",
     "iopub.status.busy": "2021-08-16T10:44:12.360934Z",
     "iopub.status.idle": "2021-08-16T10:44:12.389010Z",
     "shell.execute_reply": "2021-08-16T10:44:12.389509Z",
     "shell.execute_reply.started": "2021-08-16T10:14:20.704508Z"
    },
    "papermill": {
     "duration": 0.112924,
     "end_time": "2021-08-16T10:44:12.389720",
     "exception": false,
     "start_time": "2021-08-16T10:44:12.276796",
     "status": "completed"
    },
    "tags": []
   },
   "outputs": [],
   "source": [
    "train_test_data=[train_data, test_data]\n",
    "\n",
    "for dataset in train_test_data: \n",
    "\n",
    "     dataset.loc[(dataset['age'] >= 20) & (dataset['age']<35), 'age'] = 0 \n",
    "\n",
    "     dataset.loc[(dataset['age'] >= 35) & (dataset['age'] < 50), 'age'] = 1 \n",
    "\n",
    "     dataset.loc[(dataset['age'] >= 50) & (dataset['age'] < 65), 'age'] = 2 \n",
    "\n",
    "     dataset.loc[(dataset['age'] >= 65) , 'age'] = 3 "
   ]
  },
  {
   "cell_type": "code",
   "execution_count": 16,
   "id": "a85645ed",
   "metadata": {
    "execution": {
     "iopub.execute_input": "2021-08-16T10:44:12.572966Z",
     "iopub.status.busy": "2021-08-16T10:44:12.572036Z",
     "iopub.status.idle": "2021-08-16T10:44:12.576367Z",
     "shell.execute_reply": "2021-08-16T10:44:12.575850Z",
     "shell.execute_reply.started": "2021-08-16T10:14:20.741946Z"
    },
    "papermill": {
     "duration": 0.103786,
     "end_time": "2021-08-16T10:44:12.576499",
     "exception": false,
     "start_time": "2021-08-16T10:44:12.472713",
     "status": "completed"
    },
    "tags": []
   },
   "outputs": [
    {
     "data": {
      "text/html": [
       "<div>\n",
       "<style scoped>\n",
       "    .dataframe tbody tr th:only-of-type {\n",
       "        vertical-align: middle;\n",
       "    }\n",
       "\n",
       "    .dataframe tbody tr th {\n",
       "        vertical-align: top;\n",
       "    }\n",
       "\n",
       "    .dataframe thead th {\n",
       "        text-align: right;\n",
       "    }\n",
       "</style>\n",
       "<table border=\"1\" class=\"dataframe\">\n",
       "  <thead>\n",
       "    <tr style=\"text-align: right;\">\n",
       "      <th></th>\n",
       "      <th>Id</th>\n",
       "      <th>income</th>\n",
       "      <th>age</th>\n",
       "      <th>experience</th>\n",
       "      <th>married</th>\n",
       "      <th>house_ownership</th>\n",
       "      <th>car_ownership</th>\n",
       "      <th>profession</th>\n",
       "      <th>city</th>\n",
       "      <th>state</th>\n",
       "      <th>current_job_years</th>\n",
       "      <th>current_house_years</th>\n",
       "      <th>risk_flag</th>\n",
       "    </tr>\n",
       "  </thead>\n",
       "  <tbody>\n",
       "    <tr>\n",
       "      <th>0</th>\n",
       "      <td>1</td>\n",
       "      <td>1303835</td>\n",
       "      <td>0</td>\n",
       "      <td>3</td>\n",
       "      <td>single</td>\n",
       "      <td>rented</td>\n",
       "      <td>no</td>\n",
       "      <td>Mechanical_engineer</td>\n",
       "      <td>Rewa</td>\n",
       "      <td>Madhya_Pradesh</td>\n",
       "      <td>3</td>\n",
       "      <td>13</td>\n",
       "      <td>0</td>\n",
       "    </tr>\n",
       "    <tr>\n",
       "      <th>1</th>\n",
       "      <td>2</td>\n",
       "      <td>7574516</td>\n",
       "      <td>1</td>\n",
       "      <td>10</td>\n",
       "      <td>single</td>\n",
       "      <td>rented</td>\n",
       "      <td>no</td>\n",
       "      <td>Software_Developer</td>\n",
       "      <td>Parbhani</td>\n",
       "      <td>Maharashtra</td>\n",
       "      <td>9</td>\n",
       "      <td>13</td>\n",
       "      <td>0</td>\n",
       "    </tr>\n",
       "    <tr>\n",
       "      <th>2</th>\n",
       "      <td>3</td>\n",
       "      <td>3991815</td>\n",
       "      <td>3</td>\n",
       "      <td>4</td>\n",
       "      <td>married</td>\n",
       "      <td>rented</td>\n",
       "      <td>no</td>\n",
       "      <td>Technical_writer</td>\n",
       "      <td>Alappuzha</td>\n",
       "      <td>Kerala</td>\n",
       "      <td>4</td>\n",
       "      <td>10</td>\n",
       "      <td>0</td>\n",
       "    </tr>\n",
       "    <tr>\n",
       "      <th>3</th>\n",
       "      <td>4</td>\n",
       "      <td>6256451</td>\n",
       "      <td>1</td>\n",
       "      <td>2</td>\n",
       "      <td>single</td>\n",
       "      <td>rented</td>\n",
       "      <td>yes</td>\n",
       "      <td>Software_Developer</td>\n",
       "      <td>Bhubaneswar</td>\n",
       "      <td>Odisha</td>\n",
       "      <td>2</td>\n",
       "      <td>12</td>\n",
       "      <td>1</td>\n",
       "    </tr>\n",
       "    <tr>\n",
       "      <th>4</th>\n",
       "      <td>5</td>\n",
       "      <td>5768871</td>\n",
       "      <td>1</td>\n",
       "      <td>11</td>\n",
       "      <td>single</td>\n",
       "      <td>rented</td>\n",
       "      <td>no</td>\n",
       "      <td>Civil_servant</td>\n",
       "      <td>Tiruchirappalli[10]</td>\n",
       "      <td>Tamil_Nadu</td>\n",
       "      <td>3</td>\n",
       "      <td>14</td>\n",
       "      <td>1</td>\n",
       "    </tr>\n",
       "  </tbody>\n",
       "</table>\n",
       "</div>"
      ],
      "text/plain": [
       "   Id   income  age  experience  married house_ownership car_ownership  \\\n",
       "0   1  1303835    0           3   single          rented            no   \n",
       "1   2  7574516    1          10   single          rented            no   \n",
       "2   3  3991815    3           4  married          rented            no   \n",
       "3   4  6256451    1           2   single          rented           yes   \n",
       "4   5  5768871    1          11   single          rented            no   \n",
       "\n",
       "            profession                 city           state  \\\n",
       "0  Mechanical_engineer                 Rewa  Madhya_Pradesh   \n",
       "1   Software_Developer             Parbhani     Maharashtra   \n",
       "2     Technical_writer            Alappuzha          Kerala   \n",
       "3   Software_Developer          Bhubaneswar          Odisha   \n",
       "4        Civil_servant  Tiruchirappalli[10]      Tamil_Nadu   \n",
       "\n",
       "   current_job_years  current_house_years  risk_flag  \n",
       "0                  3                   13          0  \n",
       "1                  9                   13          0  \n",
       "2                  4                   10          0  \n",
       "3                  2                   12          1  \n",
       "4                  3                   14          1  "
      ]
     },
     "execution_count": 16,
     "metadata": {},
     "output_type": "execute_result"
    }
   ],
   "source": [
    "train_data.head()"
   ]
  },
  {
   "cell_type": "markdown",
   "id": "415d3673",
   "metadata": {
    "papermill": {
     "duration": 0.086449,
     "end_time": "2021-08-16T10:44:12.745675",
     "exception": false,
     "start_time": "2021-08-16T10:44:12.659226",
     "status": "completed"
    },
    "tags": []
   },
   "source": [
    "**Making a correlation function in form a bar chart**"
   ]
  },
  {
   "cell_type": "code",
   "execution_count": 17,
   "id": "441e80aa",
   "metadata": {
    "execution": {
     "iopub.execute_input": "2021-08-16T10:44:12.919962Z",
     "iopub.status.busy": "2021-08-16T10:44:12.919258Z",
     "iopub.status.idle": "2021-08-16T10:44:12.922495Z",
     "shell.execute_reply": "2021-08-16T10:44:12.921973Z",
     "shell.execute_reply.started": "2021-08-16T10:14:20.762380Z"
    },
    "papermill": {
     "duration": 0.093692,
     "end_time": "2021-08-16T10:44:12.922666",
     "exception": false,
     "start_time": "2021-08-16T10:44:12.828974",
     "status": "completed"
    },
    "tags": []
   },
   "outputs": [],
   "source": [
    "def bar_chart(feature):\n",
    "    risk = train_data[train_data['risk_flag']==1][feature].value_counts()\n",
    "    no_risk = train_data[train_data['risk_flag']==0][feature].value_counts()\n",
    "    df = pd.DataFrame([risk,no_risk])\n",
    "    df.index = ['risk','no risk']\n",
    "    df.plot(kind='bar',stacked=True, figsize=(20,8))"
   ]
  },
  {
   "cell_type": "code",
   "execution_count": 18,
   "id": "65b0cf76",
   "metadata": {
    "execution": {
     "iopub.execute_input": "2021-08-16T10:44:13.094809Z",
     "iopub.status.busy": "2021-08-16T10:44:13.094077Z",
     "iopub.status.idle": "2021-08-16T10:44:13.109264Z",
     "shell.execute_reply": "2021-08-16T10:44:13.109787Z",
     "shell.execute_reply.started": "2021-08-16T10:14:20.772350Z"
    },
    "papermill": {
     "duration": 0.103133,
     "end_time": "2021-08-16T10:44:13.109955",
     "exception": false,
     "start_time": "2021-08-16T10:44:13.006822",
     "status": "completed"
    },
    "tags": []
   },
   "outputs": [
    {
     "data": {
      "text/html": [
       "<div>\n",
       "<style scoped>\n",
       "    .dataframe tbody tr th:only-of-type {\n",
       "        vertical-align: middle;\n",
       "    }\n",
       "\n",
       "    .dataframe tbody tr th {\n",
       "        vertical-align: top;\n",
       "    }\n",
       "\n",
       "    .dataframe thead th {\n",
       "        text-align: right;\n",
       "    }\n",
       "</style>\n",
       "<table border=\"1\" class=\"dataframe\">\n",
       "  <thead>\n",
       "    <tr style=\"text-align: right;\">\n",
       "      <th></th>\n",
       "      <th>id</th>\n",
       "      <th>income</th>\n",
       "      <th>age</th>\n",
       "      <th>experience</th>\n",
       "      <th>married</th>\n",
       "      <th>house_ownership</th>\n",
       "      <th>car_ownership</th>\n",
       "      <th>profession</th>\n",
       "      <th>city</th>\n",
       "      <th>state</th>\n",
       "      <th>current_job_years</th>\n",
       "      <th>current_house_years</th>\n",
       "    </tr>\n",
       "  </thead>\n",
       "  <tbody>\n",
       "    <tr>\n",
       "      <th>0</th>\n",
       "      <td>1</td>\n",
       "      <td>7393090</td>\n",
       "      <td>2</td>\n",
       "      <td>19</td>\n",
       "      <td>single</td>\n",
       "      <td>rented</td>\n",
       "      <td>no</td>\n",
       "      <td>Geologist</td>\n",
       "      <td>Malda</td>\n",
       "      <td>West Bengal</td>\n",
       "      <td>4</td>\n",
       "      <td>13</td>\n",
       "    </tr>\n",
       "    <tr>\n",
       "      <th>1</th>\n",
       "      <td>2</td>\n",
       "      <td>1215004</td>\n",
       "      <td>0</td>\n",
       "      <td>5</td>\n",
       "      <td>single</td>\n",
       "      <td>rented</td>\n",
       "      <td>no</td>\n",
       "      <td>Firefighter</td>\n",
       "      <td>Jalna</td>\n",
       "      <td>Maharashtra</td>\n",
       "      <td>5</td>\n",
       "      <td>10</td>\n",
       "    </tr>\n",
       "    <tr>\n",
       "      <th>2</th>\n",
       "      <td>3</td>\n",
       "      <td>8901342</td>\n",
       "      <td>2</td>\n",
       "      <td>12</td>\n",
       "      <td>single</td>\n",
       "      <td>rented</td>\n",
       "      <td>no</td>\n",
       "      <td>Lawyer</td>\n",
       "      <td>Thane</td>\n",
       "      <td>Maharashtra</td>\n",
       "      <td>9</td>\n",
       "      <td>14</td>\n",
       "    </tr>\n",
       "    <tr>\n",
       "      <th>3</th>\n",
       "      <td>4</td>\n",
       "      <td>1944421</td>\n",
       "      <td>1</td>\n",
       "      <td>9</td>\n",
       "      <td>married</td>\n",
       "      <td>rented</td>\n",
       "      <td>yes</td>\n",
       "      <td>Analyst</td>\n",
       "      <td>Latur</td>\n",
       "      <td>Maharashtra</td>\n",
       "      <td>3</td>\n",
       "      <td>12</td>\n",
       "    </tr>\n",
       "    <tr>\n",
       "      <th>4</th>\n",
       "      <td>5</td>\n",
       "      <td>13429</td>\n",
       "      <td>0</td>\n",
       "      <td>18</td>\n",
       "      <td>single</td>\n",
       "      <td>rented</td>\n",
       "      <td>yes</td>\n",
       "      <td>Comedian</td>\n",
       "      <td>Berhampore</td>\n",
       "      <td>West Bengal</td>\n",
       "      <td>13</td>\n",
       "      <td>11</td>\n",
       "    </tr>\n",
       "  </tbody>\n",
       "</table>\n",
       "</div>"
      ],
      "text/plain": [
       "   id   income  age  experience  married house_ownership car_ownership  \\\n",
       "0   1  7393090    2          19   single          rented            no   \n",
       "1   2  1215004    0           5   single          rented            no   \n",
       "2   3  8901342    2          12   single          rented            no   \n",
       "3   4  1944421    1           9  married          rented           yes   \n",
       "4   5    13429    0          18   single          rented           yes   \n",
       "\n",
       "    profession        city        state  current_job_years  \\\n",
       "0    Geologist       Malda  West Bengal                  4   \n",
       "1  Firefighter       Jalna  Maharashtra                  5   \n",
       "2       Lawyer       Thane  Maharashtra                  9   \n",
       "3      Analyst       Latur  Maharashtra                  3   \n",
       "4     Comedian  Berhampore  West Bengal                 13   \n",
       "\n",
       "   current_house_years  \n",
       "0                   13  \n",
       "1                   10  \n",
       "2                   14  \n",
       "3                   12  \n",
       "4                   11  "
      ]
     },
     "execution_count": 18,
     "metadata": {},
     "output_type": "execute_result"
    }
   ],
   "source": [
    "test_data.head()"
   ]
  },
  {
   "cell_type": "code",
   "execution_count": 19,
   "id": "fc01cc38",
   "metadata": {
    "execution": {
     "iopub.execute_input": "2021-08-16T10:44:13.286448Z",
     "iopub.status.busy": "2021-08-16T10:44:13.285698Z",
     "iopub.status.idle": "2021-08-16T10:44:13.551786Z",
     "shell.execute_reply": "2021-08-16T10:44:13.552256Z",
     "shell.execute_reply.started": "2021-08-16T10:14:20.803291Z"
    },
    "papermill": {
     "duration": 0.359678,
     "end_time": "2021-08-16T10:44:13.552444",
     "exception": false,
     "start_time": "2021-08-16T10:44:13.192766",
     "status": "completed"
    },
    "tags": []
   },
   "outputs": [
    {
     "data": {
      "image/png": "[encoded data removed]",
      "text/plain": [
       "<Figure size 1440x576 with 1 Axes>"
      ]
     },
     "metadata": {
      "needs_background": "light"
     },
     "output_type": "display_data"
    }
   ],
   "source": [
    "bar_chart('age')"
   ]
  },
  {
   "cell_type": "markdown",
   "id": "e899b400",
   "metadata": {
    "papermill": {
     "duration": 0.087401,
     "end_time": "2021-08-16T10:44:13.724233",
     "exception": false,
     "start_time": "2021-08-16T10:44:13.636832",
     "status": "completed"
    },
    "tags": []
   },
   "source": [
    "*The graph shows that there is not much variation with age group with respect to the risk factor as all the age groups have equal distribution of risk of termination in proportion*"
   ]
  },
  {
   "cell_type": "code",
   "execution_count": 20,
   "id": "c78b7fba",
   "metadata": {
    "execution": {
     "iopub.execute_input": "2021-08-16T10:44:13.898058Z",
     "iopub.status.busy": "2021-08-16T10:44:13.897339Z",
     "iopub.status.idle": "2021-08-16T10:44:14.418670Z",
     "shell.execute_reply": "2021-08-16T10:44:14.418068Z",
     "shell.execute_reply.started": "2021-08-16T10:14:21.077689Z"
    },
    "papermill": {
     "duration": 0.610164,
     "end_time": "2021-08-16T10:44:14.418823",
     "exception": false,
     "start_time": "2021-08-16T10:44:13.808659",
     "status": "completed"
    },
    "tags": []
   },
   "outputs": [
    {
     "data": {
      "image/png": "[encoded data removed]",
      "text/plain": [
       "<Figure size 432x288 with 1 Axes>"
      ]
     },
     "metadata": {
      "needs_background": "light"
     },
     "output_type": "display_data"
    }
   ],
   "source": [
    "boxplot=train_data.boxplot(column=['experience'])"
   ]
  },
  {
   "cell_type": "markdown",
   "id": "c91fac18",
   "metadata": {
    "papermill": {
     "duration": 0.084805,
     "end_time": "2021-08-16T10:44:14.589356",
     "exception": false,
     "start_time": "2021-08-16T10:44:14.504551",
     "status": "completed"
    },
    "tags": []
   },
   "source": [
    "**Dividing the experience column into different groups:**\n",
    "\n",
    "**0** denotes intern/novice\n",
    "\n",
    "**1** denotes a mid level experienced employee \n",
    "\n",
    "**2** denotes seasoned employee\n",
    "\n",
    "**3** denotes a veteran employee"
   ]
  },
  {
   "cell_type": "code",
   "execution_count": 21,
   "id": "d2023048",
   "metadata": {
    "execution": {
     "iopub.execute_input": "2021-08-16T10:44:14.766659Z",
     "iopub.status.busy": "2021-08-16T10:44:14.765997Z",
     "iopub.status.idle": "2021-08-16T10:44:14.788891Z",
     "shell.execute_reply": "2021-08-16T10:44:14.788328Z",
     "shell.execute_reply.started": "2021-08-16T10:14:21.602522Z"
    },
    "papermill": {
     "duration": 0.113345,
     "end_time": "2021-08-16T10:44:14.789039",
     "exception": false,
     "start_time": "2021-08-16T10:44:14.675694",
     "status": "completed"
    },
    "tags": []
   },
   "outputs": [],
   "source": [
    "train_test_data=[train_data, test_data]\n",
    "\n",
    "for dataset in train_test_data: \n",
    "\n",
    "     dataset.loc[(dataset['experience']<5), 'experience'] = 0 \n",
    "\n",
    "     dataset.loc[(dataset['experience'] >= 5) & (dataset['experience'] < 10), 'experience'] = 1 \n",
    "\n",
    "     dataset.loc[(dataset['experience'] >= 10) & (dataset['experience'] < 15), 'experience'] = 2 \n",
    "\n",
    "     dataset.loc[(dataset['experience'] >= 15) , 'experience'] = 3 "
   ]
  },
  {
   "cell_type": "code",
   "execution_count": 22,
   "id": "4b0da6c7",
   "metadata": {
    "execution": {
     "iopub.execute_input": "2021-08-16T10:44:14.978615Z",
     "iopub.status.busy": "2021-08-16T10:44:14.977681Z",
     "iopub.status.idle": "2021-08-16T10:44:14.981825Z",
     "shell.execute_reply": "2021-08-16T10:44:14.981315Z",
     "shell.execute_reply.started": "2021-08-16T10:14:21.637257Z"
    },
    "papermill": {
     "duration": 0.106547,
     "end_time": "2021-08-16T10:44:14.981966",
     "exception": false,
     "start_time": "2021-08-16T10:44:14.875419",
     "status": "completed"
    },
    "tags": []
   },
   "outputs": [
    {
     "data": {
      "text/html": [
       "<div>\n",
       "<style scoped>\n",
       "    .dataframe tbody tr th:only-of-type {\n",
       "        vertical-align: middle;\n",
       "    }\n",
       "\n",
       "    .dataframe tbody tr th {\n",
       "        vertical-align: top;\n",
       "    }\n",
       "\n",
       "    .dataframe thead th {\n",
       "        text-align: right;\n",
       "    }\n",
       "</style>\n",
       "<table border=\"1\" class=\"dataframe\">\n",
       "  <thead>\n",
       "    <tr style=\"text-align: right;\">\n",
       "      <th></th>\n",
       "      <th>Id</th>\n",
       "      <th>income</th>\n",
       "      <th>age</th>\n",
       "      <th>experience</th>\n",
       "      <th>married</th>\n",
       "      <th>house_ownership</th>\n",
       "      <th>car_ownership</th>\n",
       "      <th>profession</th>\n",
       "      <th>city</th>\n",
       "      <th>state</th>\n",
       "      <th>current_job_years</th>\n",
       "      <th>current_house_years</th>\n",
       "      <th>risk_flag</th>\n",
       "    </tr>\n",
       "  </thead>\n",
       "  <tbody>\n",
       "    <tr>\n",
       "      <th>0</th>\n",
       "      <td>1</td>\n",
       "      <td>1303835</td>\n",
       "      <td>0</td>\n",
       "      <td>0</td>\n",
       "      <td>single</td>\n",
       "      <td>rented</td>\n",
       "      <td>no</td>\n",
       "      <td>Mechanical_engineer</td>\n",
       "      <td>Rewa</td>\n",
       "      <td>Madhya_Pradesh</td>\n",
       "      <td>3</td>\n",
       "      <td>13</td>\n",
       "      <td>0</td>\n",
       "    </tr>\n",
       "    <tr>\n",
       "      <th>1</th>\n",
       "      <td>2</td>\n",
       "      <td>7574516</td>\n",
       "      <td>1</td>\n",
       "      <td>2</td>\n",
       "      <td>single</td>\n",
       "      <td>rented</td>\n",
       "      <td>no</td>\n",
       "      <td>Software_Developer</td>\n",
       "      <td>Parbhani</td>\n",
       "      <td>Maharashtra</td>\n",
       "      <td>9</td>\n",
       "      <td>13</td>\n",
       "      <td>0</td>\n",
       "    </tr>\n",
       "    <tr>\n",
       "      <th>2</th>\n",
       "      <td>3</td>\n",
       "      <td>3991815</td>\n",
       "      <td>3</td>\n",
       "      <td>0</td>\n",
       "      <td>married</td>\n",
       "      <td>rented</td>\n",
       "      <td>no</td>\n",
       "      <td>Technical_writer</td>\n",
       "      <td>Alappuzha</td>\n",
       "      <td>Kerala</td>\n",
       "      <td>4</td>\n",
       "      <td>10</td>\n",
       "      <td>0</td>\n",
       "    </tr>\n",
       "    <tr>\n",
       "      <th>3</th>\n",
       "      <td>4</td>\n",
       "      <td>6256451</td>\n",
       "      <td>1</td>\n",
       "      <td>0</td>\n",
       "      <td>single</td>\n",
       "      <td>rented</td>\n",
       "      <td>yes</td>\n",
       "      <td>Software_Developer</td>\n",
       "      <td>Bhubaneswar</td>\n",
       "      <td>Odisha</td>\n",
       "      <td>2</td>\n",
       "      <td>12</td>\n",
       "      <td>1</td>\n",
       "    </tr>\n",
       "    <tr>\n",
       "      <th>4</th>\n",
       "      <td>5</td>\n",
       "      <td>5768871</td>\n",
       "      <td>1</td>\n",
       "      <td>2</td>\n",
       "      <td>single</td>\n",
       "      <td>rented</td>\n",
       "      <td>no</td>\n",
       "      <td>Civil_servant</td>\n",
       "      <td>Tiruchirappalli[10]</td>\n",
       "      <td>Tamil_Nadu</td>\n",
       "      <td>3</td>\n",
       "      <td>14</td>\n",
       "      <td>1</td>\n",
       "    </tr>\n",
       "  </tbody>\n",
       "</table>\n",
       "</div>"
      ],
      "text/plain": [
       "   Id   income  age  experience  married house_ownership car_ownership  \\\n",
       "0   1  1303835    0           0   single          rented            no   \n",
       "1   2  7574516    1           2   single          rented            no   \n",
       "2   3  3991815    3           0  married          rented            no   \n",
       "3   4  6256451    1           0   single          rented           yes   \n",
       "4   5  5768871    1           2   single          rented            no   \n",
       "\n",
       "            profession                 city           state  \\\n",
       "0  Mechanical_engineer                 Rewa  Madhya_Pradesh   \n",
       "1   Software_Developer             Parbhani     Maharashtra   \n",
       "2     Technical_writer            Alappuzha          Kerala   \n",
       "3   Software_Developer          Bhubaneswar          Odisha   \n",
       "4        Civil_servant  Tiruchirappalli[10]      Tamil_Nadu   \n",
       "\n",
       "   current_job_years  current_house_years  risk_flag  \n",
       "0                  3                   13          0  \n",
       "1                  9                   13          0  \n",
       "2                  4                   10          0  \n",
       "3                  2                   12          1  \n",
       "4                  3                   14          1  "
      ]
     },
     "execution_count": 22,
     "metadata": {},
     "output_type": "execute_result"
    }
   ],
   "source": [
    "train_data.head()"
   ]
  },
  {
   "cell_type": "code",
   "execution_count": 23,
   "id": "1a7b4e4d",
   "metadata": {
    "execution": {
     "iopub.execute_input": "2021-08-16T10:44:15.170390Z",
     "iopub.status.busy": "2021-08-16T10:44:15.169451Z",
     "iopub.status.idle": "2021-08-16T10:44:15.173992Z",
     "shell.execute_reply": "2021-08-16T10:44:15.173209Z",
     "shell.execute_reply.started": "2021-08-16T10:14:21.662166Z"
    },
    "papermill": {
     "duration": 0.104474,
     "end_time": "2021-08-16T10:44:15.174132",
     "exception": false,
     "start_time": "2021-08-16T10:44:15.069658",
     "status": "completed"
    },
    "tags": []
   },
   "outputs": [
    {
     "data": {
      "text/html": [
       "<div>\n",
       "<style scoped>\n",
       "    .dataframe tbody tr th:only-of-type {\n",
       "        vertical-align: middle;\n",
       "    }\n",
       "\n",
       "    .dataframe tbody tr th {\n",
       "        vertical-align: top;\n",
       "    }\n",
       "\n",
       "    .dataframe thead th {\n",
       "        text-align: right;\n",
       "    }\n",
       "</style>\n",
       "<table border=\"1\" class=\"dataframe\">\n",
       "  <thead>\n",
       "    <tr style=\"text-align: right;\">\n",
       "      <th></th>\n",
       "      <th>id</th>\n",
       "      <th>income</th>\n",
       "      <th>age</th>\n",
       "      <th>experience</th>\n",
       "      <th>married</th>\n",
       "      <th>house_ownership</th>\n",
       "      <th>car_ownership</th>\n",
       "      <th>profession</th>\n",
       "      <th>city</th>\n",
       "      <th>state</th>\n",
       "      <th>current_job_years</th>\n",
       "      <th>current_house_years</th>\n",
       "    </tr>\n",
       "  </thead>\n",
       "  <tbody>\n",
       "    <tr>\n",
       "      <th>0</th>\n",
       "      <td>1</td>\n",
       "      <td>7393090</td>\n",
       "      <td>2</td>\n",
       "      <td>3</td>\n",
       "      <td>single</td>\n",
       "      <td>rented</td>\n",
       "      <td>no</td>\n",
       "      <td>Geologist</td>\n",
       "      <td>Malda</td>\n",
       "      <td>West Bengal</td>\n",
       "      <td>4</td>\n",
       "      <td>13</td>\n",
       "    </tr>\n",
       "    <tr>\n",
       "      <th>1</th>\n",
       "      <td>2</td>\n",
       "      <td>1215004</td>\n",
       "      <td>0</td>\n",
       "      <td>1</td>\n",
       "      <td>single</td>\n",
       "      <td>rented</td>\n",
       "      <td>no</td>\n",
       "      <td>Firefighter</td>\n",
       "      <td>Jalna</td>\n",
       "      <td>Maharashtra</td>\n",
       "      <td>5</td>\n",
       "      <td>10</td>\n",
       "    </tr>\n",
       "    <tr>\n",
       "      <th>2</th>\n",
       "      <td>3</td>\n",
       "      <td>8901342</td>\n",
       "      <td>2</td>\n",
       "      <td>2</td>\n",
       "      <td>single</td>\n",
       "      <td>rented</td>\n",
       "      <td>no</td>\n",
       "      <td>Lawyer</td>\n",
       "      <td>Thane</td>\n",
       "      <td>Maharashtra</td>\n",
       "      <td>9</td>\n",
       "      <td>14</td>\n",
       "    </tr>\n",
       "    <tr>\n",
       "      <th>3</th>\n",
       "      <td>4</td>\n",
       "      <td>1944421</td>\n",
       "      <td>1</td>\n",
       "      <td>1</td>\n",
       "      <td>married</td>\n",
       "      <td>rented</td>\n",
       "      <td>yes</td>\n",
       "      <td>Analyst</td>\n",
       "      <td>Latur</td>\n",
       "      <td>Maharashtra</td>\n",
       "      <td>3</td>\n",
       "      <td>12</td>\n",
       "    </tr>\n",
       "    <tr>\n",
       "      <th>4</th>\n",
       "      <td>5</td>\n",
       "      <td>13429</td>\n",
       "      <td>0</td>\n",
       "      <td>3</td>\n",
       "      <td>single</td>\n",
       "      <td>rented</td>\n",
       "      <td>yes</td>\n",
       "      <td>Comedian</td>\n",
       "      <td>Berhampore</td>\n",
       "      <td>West Bengal</td>\n",
       "      <td>13</td>\n",
       "      <td>11</td>\n",
       "    </tr>\n",
       "  </tbody>\n",
       "</table>\n",
       "</div>"
      ],
      "text/plain": [
       "   id   income  age  experience  married house_ownership car_ownership  \\\n",
       "0   1  7393090    2           3   single          rented            no   \n",
       "1   2  1215004    0           1   single          rented            no   \n",
       "2   3  8901342    2           2   single          rented            no   \n",
       "3   4  1944421    1           1  married          rented           yes   \n",
       "4   5    13429    0           3   single          rented           yes   \n",
       "\n",
       "    profession        city        state  current_job_years  \\\n",
       "0    Geologist       Malda  West Bengal                  4   \n",
       "1  Firefighter       Jalna  Maharashtra                  5   \n",
       "2       Lawyer       Thane  Maharashtra                  9   \n",
       "3      Analyst       Latur  Maharashtra                  3   \n",
       "4     Comedian  Berhampore  West Bengal                 13   \n",
       "\n",
       "   current_house_years  \n",
       "0                   13  \n",
       "1                   10  \n",
       "2                   14  \n",
       "3                   12  \n",
       "4                   11  "
      ]
     },
     "execution_count": 23,
     "metadata": {},
     "output_type": "execute_result"
    }
   ],
   "source": [
    "test_data.head()"
   ]
  },
  {
   "cell_type": "code",
   "execution_count": 24,
   "id": "718e4aa3",
   "metadata": {
    "execution": {
     "iopub.execute_input": "2021-08-16T10:44:15.351430Z",
     "iopub.status.busy": "2021-08-16T10:44:15.350429Z",
     "iopub.status.idle": "2021-08-16T10:44:15.605947Z",
     "shell.execute_reply": "2021-08-16T10:44:15.605395Z",
     "shell.execute_reply.started": "2021-08-16T10:14:21.844127Z"
    },
    "papermill": {
     "duration": 0.345429,
     "end_time": "2021-08-16T10:44:15.606082",
     "exception": false,
     "start_time": "2021-08-16T10:44:15.260653",
     "status": "completed"
    },
    "tags": []
   },
   "outputs": [
    {
     "data": {
      "image/png": "[encoded data removed]",
      "text/plain": [
       "<Figure size 1440x576 with 1 Axes>"
      ]
     },
     "metadata": {
      "needs_background": "light"
     },
     "output_type": "display_data"
    }
   ],
   "source": [
    "bar_chart('experience')"
   ]
  },
  {
   "cell_type": "markdown",
   "id": "77bebc72",
   "metadata": {
    "papermill": {
     "duration": 0.107433,
     "end_time": "2021-08-16T10:44:15.809833",
     "exception": false,
     "start_time": "2021-08-16T10:44:15.702400",
     "status": "completed"
    },
    "tags": []
   },
   "source": [
    "*The distribution of age is pretty much balanced too*"
   ]
  },
  {
   "cell_type": "code",
   "execution_count": 25,
   "id": "f27aee91",
   "metadata": {
    "execution": {
     "iopub.execute_input": "2021-08-16T10:44:15.986355Z",
     "iopub.status.busy": "2021-08-16T10:44:15.985291Z",
     "iopub.status.idle": "2021-08-16T10:44:16.382203Z",
     "shell.execute_reply": "2021-08-16T10:44:16.381544Z",
     "shell.execute_reply.started": "2021-08-16T10:14:22.080837Z"
    },
    "papermill": {
     "duration": 0.486173,
     "end_time": "2021-08-16T10:44:16.382343",
     "exception": false,
     "start_time": "2021-08-16T10:44:15.896170",
     "status": "completed"
    },
    "tags": []
   },
   "outputs": [
    {
     "data": {
      "image/png": "[encoded data removed]",
      "text/plain": [
       "<Figure size 1440x576 with 1 Axes>"
      ]
     },
     "metadata": {
      "needs_background": "light"
     },
     "output_type": "display_data"
    }
   ],
   "source": [
    "bar_chart('married')"
   ]
  },
  {
   "cell_type": "code",
   "execution_count": 26,
   "id": "8d99f42c",
   "metadata": {
    "execution": {
     "iopub.execute_input": "2021-08-16T10:44:16.622522Z",
     "iopub.status.busy": "2021-08-16T10:44:16.621852Z",
     "iopub.status.idle": "2021-08-16T10:44:16.629299Z",
     "shell.execute_reply": "2021-08-16T10:44:16.628709Z",
     "shell.execute_reply.started": "2021-08-16T10:14:22.340969Z"
    },
    "papermill": {
     "duration": 0.159801,
     "end_time": "2021-08-16T10:44:16.629438",
     "exception": false,
     "start_time": "2021-08-16T10:44:16.469637",
     "status": "completed"
    },
    "tags": []
   },
   "outputs": [
    {
     "data": {
      "text/plain": [
       "rented          231898\n",
       "owned            12918\n",
       "norent_noown      7184\n",
       "Name: house_ownership, dtype: int64"
      ]
     },
     "execution_count": 26,
     "metadata": {},
     "output_type": "execute_result"
    }
   ],
   "source": [
    "train_data['house_ownership'].value_counts()"
   ]
  },
  {
   "cell_type": "code",
   "execution_count": 27,
   "id": "d7f1058e",
   "metadata": {
    "execution": {
     "iopub.execute_input": "2021-08-16T10:44:16.865421Z",
     "iopub.status.busy": "2021-08-16T10:44:16.864347Z",
     "iopub.status.idle": "2021-08-16T10:44:17.165647Z",
     "shell.execute_reply": "2021-08-16T10:44:17.164970Z",
     "shell.execute_reply.started": "2021-08-16T10:14:22.413094Z"
    },
    "papermill": {
     "duration": 0.44694,
     "end_time": "2021-08-16T10:44:17.165790",
     "exception": false,
     "start_time": "2021-08-16T10:44:16.718850",
     "status": "completed"
    },
    "tags": []
   },
   "outputs": [
    {
     "data": {
      "image/png": "[encoded data removed]",
      "text/plain": [
       "<Figure size 1440x576 with 1 Axes>"
      ]
     },
     "metadata": {
      "needs_background": "light"
     },
     "output_type": "display_data"
    }
   ],
   "source": [
    "bar_chart('house_ownership')"
   ]
  },
  {
   "cell_type": "markdown",
   "id": "d5351d14",
   "metadata": {
    "papermill": {
     "duration": 0.088698,
     "end_time": "2021-08-16T10:44:17.342916",
     "exception": false,
     "start_time": "2021-08-16T10:44:17.254218",
     "status": "completed"
    },
    "tags": []
   },
   "source": [
    "*We can see that most of the employees have rented house follwed by owners and then non rented, but it's distribution of risk is eqaully spread out.*"
   ]
  },
  {
   "cell_type": "code",
   "execution_count": 28,
   "id": "0a0e2f76",
   "metadata": {
    "execution": {
     "iopub.execute_input": "2021-08-16T10:44:17.526062Z",
     "iopub.status.busy": "2021-08-16T10:44:17.525404Z",
     "iopub.status.idle": "2021-08-16T10:44:17.591146Z",
     "shell.execute_reply": "2021-08-16T10:44:17.591636Z",
     "shell.execute_reply.started": "2021-08-16T10:14:22.710653Z"
    },
    "papermill": {
     "duration": 0.15867,
     "end_time": "2021-08-16T10:44:17.591824",
     "exception": false,
     "start_time": "2021-08-16T10:44:17.433154",
     "status": "completed"
    },
    "tags": []
   },
   "outputs": [
    {
     "data": {
      "text/plain": [
       "single     226272\n",
       "married     25728\n",
       "Name: married, dtype: int64"
      ]
     },
     "execution_count": 28,
     "metadata": {},
     "output_type": "execute_result"
    }
   ],
   "source": [
    "\n",
    "\n",
    "train_data['married'].value_counts()"
   ]
  },
  {
   "cell_type": "code",
   "execution_count": 29,
   "id": "3b9fc86a",
   "metadata": {
    "execution": {
     "iopub.execute_input": "2021-08-16T10:44:17.773210Z",
     "iopub.status.busy": "2021-08-16T10:44:17.772507Z",
     "iopub.status.idle": "2021-08-16T10:44:18.091045Z",
     "shell.execute_reply": "2021-08-16T10:44:18.090417Z",
     "shell.execute_reply.started": "2021-08-16T10:14:22.782903Z"
    },
    "papermill": {
     "duration": 0.409748,
     "end_time": "2021-08-16T10:44:18.091178",
     "exception": false,
     "start_time": "2021-08-16T10:44:17.681430",
     "status": "completed"
    },
    "tags": []
   },
   "outputs": [
    {
     "data": {
      "image/png": "[encoded data removed]",
      "text/plain": [
       "<Figure size 576x576 with 1 Axes>"
      ]
     },
     "metadata": {},
     "output_type": "display_data"
    }
   ],
   "source": [
    "# plotting a pie chart\n",
    "\n",
    "size = [226272, 25728]\n",
    "labels = \"single\", \"married\"\n",
    "colors = ['yellow', 'pink']\n",
    "explode = [0, 0.1]\n",
    "\n",
    "plt.rcParams['figure.figsize'] = (8, 8)\n",
    "plt.pie(size, labels = labels, colors = colors, explode = explode, shadow = True, autopct = \"%.2f%%\")\n",
    "plt.title('A Pie Chart Representing marital status', fontsize = 30)\n",
    "plt.axis('off')\n",
    "plt.legend()\n",
    "plt.show()\n"
   ]
  },
  {
   "cell_type": "code",
   "execution_count": 30,
   "id": "5ded739d",
   "metadata": {
    "execution": {
     "iopub.execute_input": "2021-08-16T10:44:18.293911Z",
     "iopub.status.busy": "2021-08-16T10:44:18.293093Z",
     "iopub.status.idle": "2021-08-16T10:44:18.368160Z",
     "shell.execute_reply": "2021-08-16T10:44:18.367509Z",
     "shell.execute_reply.started": "2021-08-16T10:14:23.072473Z"
    },
    "papermill": {
     "duration": 0.180628,
     "end_time": "2021-08-16T10:44:18.368315",
     "exception": false,
     "start_time": "2021-08-16T10:44:18.187687",
     "status": "completed"
    },
    "tags": []
   },
   "outputs": [
    {
     "data": {
      "text/plain": [
       "no     176000\n",
       "yes     76000\n",
       "Name: car_ownership, dtype: int64"
      ]
     },
     "execution_count": 30,
     "metadata": {},
     "output_type": "execute_result"
    }
   ],
   "source": [
    "\n",
    "\n",
    "train_data['car_ownership'].value_counts()"
   ]
  },
  {
   "cell_type": "markdown",
   "id": "0a1ee84f",
   "metadata": {
    "papermill": {
     "duration": 0.099874,
     "end_time": "2021-08-16T10:44:18.590437",
     "exception": false,
     "start_time": "2021-08-16T10:44:18.490563",
     "status": "completed"
    },
    "tags": []
   },
   "source": [
    "Plotting pie chart"
   ]
  },
  {
   "cell_type": "code",
   "execution_count": 31,
   "id": "35725aba",
   "metadata": {
    "execution": {
     "iopub.execute_input": "2021-08-16T10:44:18.779370Z",
     "iopub.status.busy": "2021-08-16T10:44:18.778398Z",
     "iopub.status.idle": "2021-08-16T10:44:19.083816Z",
     "shell.execute_reply": "2021-08-16T10:44:19.084309Z",
     "shell.execute_reply.started": "2021-08-16T10:14:23.143226Z"
    },
    "papermill": {
     "duration": 0.403047,
     "end_time": "2021-08-16T10:44:19.084477",
     "exception": false,
     "start_time": "2021-08-16T10:44:18.681430",
     "status": "completed"
    },
    "tags": []
   },
   "outputs": [
    {
     "data": {
      "image/png": "[encoded data removed]",
      "text/plain": [
       "<Figure size 576x576 with 1 Axes>"
      ]
     },
     "metadata": {},
     "output_type": "display_data"
    }
   ],
   "source": [
    "\n",
    "\n",
    "size = [226272, 25728]\n",
    "labels = \"no\", \"yes\"\n",
    "colors = ['red', 'blue']\n",
    "explode = [0, 0.1]\n",
    "\n",
    "plt.rcParams['figure.figsize'] = (8, 8)\n",
    "plt.pie(size, labels = labels, colors = colors, explode = explode, shadow = True, autopct = \"%.2f%%\")\n",
    "plt.title('A Pie Chart Representing car owner status', fontsize = 30)\n",
    "plt.axis('off')\n",
    "plt.legend()\n",
    "plt.show()"
   ]
  },
  {
   "cell_type": "markdown",
   "id": "a920e332",
   "metadata": {
    "papermill": {
     "duration": 0.091463,
     "end_time": "2021-08-16T10:44:19.276795",
     "exception": false,
     "start_time": "2021-08-16T10:44:19.185332",
     "status": "completed"
    },
    "tags": []
   },
   "source": [
    "**checking dependency of marriage over risk**"
   ]
  },
  {
   "cell_type": "code",
   "execution_count": 32,
   "id": "687f977d",
   "metadata": {
    "execution": {
     "iopub.execute_input": "2021-08-16T10:44:19.474690Z",
     "iopub.status.busy": "2021-08-16T10:44:19.473753Z",
     "iopub.status.idle": "2021-08-16T10:44:19.712023Z",
     "shell.execute_reply": "2021-08-16T10:44:19.712483Z",
     "shell.execute_reply.started": "2021-08-16T10:14:23.424999Z"
    },
    "papermill": {
     "duration": 0.342692,
     "end_time": "2021-08-16T10:44:19.712687",
     "exception": false,
     "start_time": "2021-08-16T10:44:19.369995",
     "status": "completed"
    },
    "tags": []
   },
   "outputs": [
    {
     "data": {
      "image/png": "[encoded data removed]",
      "text/plain": [
       "<Figure size 504x360 with 1 Axes>"
      ]
     },
     "metadata": {
      "needs_background": "light"
     },
     "output_type": "display_data"
    }
   ],
   "source": [
    "\n",
    "\n",
    "data = pd.crosstab(train_data['married'], train_data['risk_flag'])\n",
    "data.div(data.sum(1).astype('float'), axis = 0).plot(kind = 'bar', stacked = True, figsize = (7, 5), color = ['pink', 'yellow'])\n",
    "\n",
    "plt.title('Dependency of Marriage in determining Risk of Employees', fontsize = 30)\n",
    "plt.xlabel('married', fontsize = 25)\n",
    "plt.legend()\n",
    "plt.show()\n"
   ]
  },
  {
   "cell_type": "markdown",
   "id": "c8eb6420",
   "metadata": {
    "papermill": {
     "duration": 0.094392,
     "end_time": "2021-08-16T10:44:19.899870",
     "exception": false,
     "start_time": "2021-08-16T10:44:19.805478",
     "status": "completed"
    },
    "tags": []
   },
   "source": [
    "**checking dependency of car ownership over risk**"
   ]
  },
  {
   "cell_type": "code",
   "execution_count": 33,
   "id": "f76b98ed",
   "metadata": {
    "execution": {
     "iopub.execute_input": "2021-08-16T10:44:20.100569Z",
     "iopub.status.busy": "2021-08-16T10:44:20.099452Z",
     "iopub.status.idle": "2021-08-16T10:44:20.328397Z",
     "shell.execute_reply": "2021-08-16T10:44:20.327780Z",
     "shell.execute_reply.started": "2021-08-16T10:14:23.665591Z"
    },
    "papermill": {
     "duration": 0.333414,
     "end_time": "2021-08-16T10:44:20.328531",
     "exception": false,
     "start_time": "2021-08-16T10:44:19.995117",
     "status": "completed"
    },
    "tags": []
   },
   "outputs": [
    {
     "data": {
      "image/png": "[encoded data removed]",
      "text/plain": [
       "<Figure size 504x360 with 1 Axes>"
      ]
     },
     "metadata": {
      "needs_background": "light"
     },
     "output_type": "display_data"
    }
   ],
   "source": [
    "\n",
    "\n",
    "data = pd.crosstab(train_data['car_ownership'], train_data['risk_flag'])\n",
    "data.div(data.sum(1).astype('float'), axis = 0).plot(kind = 'bar', stacked = True, figsize = (7, 5), color = ['green', 'yellow'])\n",
    "\n",
    "plt.title('Dependency of Car in determining Risk of Employees', fontsize = 30)\n",
    "plt.xlabel('Car Owned', fontsize = 25)\n",
    "plt.legend()\n",
    "plt.show()"
   ]
  },
  {
   "cell_type": "code",
   "execution_count": 34,
   "id": "8a312ae0",
   "metadata": {
    "execution": {
     "iopub.execute_input": "2021-08-16T10:44:20.524096Z",
     "iopub.status.busy": "2021-08-16T10:44:20.523384Z",
     "iopub.status.idle": "2021-08-16T10:44:29.232336Z",
     "shell.execute_reply": "2021-08-16T10:44:29.233088Z",
     "shell.execute_reply.started": "2021-08-16T10:14:23.891523Z"
    },
    "papermill": {
     "duration": 8.810043,
     "end_time": "2021-08-16T10:44:29.233333",
     "exception": false,
     "start_time": "2021-08-16T10:44:20.423290",
     "status": "completed"
    },
    "tags": []
   },
   "outputs": [
    {
     "name": "stdout",
     "output_type": "stream",
     "text": [
      "Requirement already satisfied: wordcloud in /opt/conda/lib/python3.7/site-packages (1.8.1)\r\n",
      "Requirement already satisfied: numpy>=1.6.1 in /opt/conda/lib/python3.7/site-packages (from wordcloud) (1.19.5)\r\n",
      "Requirement already satisfied: matplotlib in /opt/conda/lib/python3.7/site-packages (from wordcloud) (3.4.2)\r\n",
      "Requirement already satisfied: pillow in /opt/conda/lib/python3.7/site-packages (from wordcloud) (8.2.0)\r\n",
      "Requirement already satisfied: kiwisolver>=1.0.1 in /opt/conda/lib/python3.7/site-packages (from matplotlib->wordcloud) (1.3.1)\r\n",
      "Requirement already satisfied: cycler>=0.10 in /opt/conda/lib/python3.7/site-packages (from matplotlib->wordcloud) (0.10.0)\r\n",
      "Requirement already satisfied: python-dateutil>=2.7 in /opt/conda/lib/python3.7/site-packages (from matplotlib->wordcloud) (2.8.1)\r\n",
      "Requirement already satisfied: pyparsing>=2.2.1 in /opt/conda/lib/python3.7/site-packages (from matplotlib->wordcloud) (2.4.7)\r\n",
      "Requirement already satisfied: six in /opt/conda/lib/python3.7/site-packages (from cycler>=0.10->matplotlib->wordcloud) (1.15.0)\r\n",
      "\u001b[33mWARNING: Running pip as root will break packages and permissions. You should install packages reliably by using venv: https://pip.pypa.io/warnings/venv\u001b[0m\r\n",
      "Note: you may need to restart the kernel to use updated packages.\n"
     ]
    }
   ],
   "source": [
    "pip install wordcloud"
   ]
  },
  {
   "cell_type": "markdown",
   "id": "e8cc65c0",
   "metadata": {
    "papermill": {
     "duration": 0.096456,
     "end_time": "2021-08-16T10:44:29.433989",
     "exception": false,
     "start_time": "2021-08-16T10:44:29.337533",
     "status": "completed"
    },
    "tags": []
   },
   "source": [
    "**Searching for the most popular professions**"
   ]
  },
  {
   "cell_type": "code",
   "execution_count": 35,
   "id": "c080b659",
   "metadata": {
    "execution": {
     "iopub.execute_input": "2021-08-16T10:44:29.637301Z",
     "iopub.status.busy": "2021-08-16T10:44:29.636536Z",
     "iopub.status.idle": "2021-08-16T10:44:29.921313Z",
     "shell.execute_reply": "2021-08-16T10:44:29.921822Z",
     "shell.execute_reply.started": "2021-08-16T10:14:32.787888Z"
    },
    "papermill": {
     "duration": 0.389685,
     "end_time": "2021-08-16T10:44:29.921998",
     "exception": false,
     "start_time": "2021-08-16T10:44:29.532313",
     "status": "completed"
    },
    "tags": []
   },
   "outputs": [
    {
     "name": "stdout",
     "output_type": "stream",
     "text": [
      "<wordcloud.wordcloud.WordCloud object at 0x7f1e313a7cd0>\n"
     ]
    },
    {
     "data": {
      "image/png": "[encoded data removed]",
      "text/plain": [
       "<Figure size 864x576 with 1 Axes>"
      ]
     },
     "metadata": {
      "needs_background": "light"
     },
     "output_type": "display_data"
    }
   ],
   "source": [
    "\n",
    "\n",
    "from wordcloud import WordCloud\n",
    "from wordcloud import STOPWORDS\n",
    "\n",
    "stopword = set(STOPWORDS)\n",
    "\n",
    "wordcloud = WordCloud(background_color = 'black', stopwords = stopword).generate(str(train_data['profession']))\n",
    "\n",
    "plt.rcParams['figure.figsize'] = (12, 8)\n",
    "print(wordcloud)\n",
    "plt.imshow(wordcloud)\n",
    "plt.title('Most Popular profession', fontsize = 30)\n",
    "plt.axis('off')\n",
    "plt.show()"
   ]
  },
  {
   "cell_type": "markdown",
   "id": "d8e4c88b",
   "metadata": {
    "papermill": {
     "duration": 0.10359,
     "end_time": "2021-08-16T10:44:30.127881",
     "exception": false,
     "start_time": "2021-08-16T10:44:30.024291",
     "status": "completed"
    },
    "tags": []
   },
   "source": [
    "**Showcasing different states**"
   ]
  },
  {
   "cell_type": "code",
   "execution_count": 36,
   "id": "33e4793e",
   "metadata": {
    "execution": {
     "iopub.execute_input": "2021-08-16T10:44:30.338288Z",
     "iopub.status.busy": "2021-08-16T10:44:30.337273Z",
     "iopub.status.idle": "2021-08-16T10:44:31.036146Z",
     "shell.execute_reply": "2021-08-16T10:44:31.036585Z",
     "shell.execute_reply.started": "2021-08-16T10:14:33.078727Z"
    },
    "papermill": {
     "duration": 0.807032,
     "end_time": "2021-08-16T10:44:31.036775",
     "exception": false,
     "start_time": "2021-08-16T10:44:30.229743",
     "status": "completed"
    },
    "tags": []
   },
   "outputs": [
    {
     "name": "stderr",
     "output_type": "stream",
     "text": [
      "/opt/conda/lib/python3.7/site-packages/seaborn/_decorators.py:43: FutureWarning: Pass the following variable as a keyword arg: x. From version 0.12, the only valid positional argument will be `data`, and passing other arguments without an explicit keyword will result in an error or misinterpretation.\n",
      "  FutureWarning\n"
     ]
    },
    {
     "data": {
      "image/png": "[encoded data removed]",
      "text/plain": [
       "<Figure size 1440x720 with 1 Axes>"
      ]
     },
     "metadata": {
      "needs_background": "light"
     },
     "output_type": "display_data"
    }
   ],
   "source": [
    "\n",
    "\n",
    "plt.rcParams['figure.figsize'] = (20, 10)\n",
    "sns.countplot(train_data['state'], color = 'yellow')\n",
    "plt.title('Different city in the company', fontsize = 30)\n",
    "plt.xticks(rotation = 60)\n",
    "plt.xlabel('Region Code', fontsize = 15)\n",
    "plt.ylabel('count', fontsize = 15)\n",
    "plt.show()"
   ]
  },
  {
   "cell_type": "markdown",
   "id": "adec8a6a",
   "metadata": {
    "papermill": {
     "duration": 0.104064,
     "end_time": "2021-08-16T10:44:31.245888",
     "exception": false,
     "start_time": "2021-08-16T10:44:31.141824",
     "status": "completed"
    },
    "tags": []
   },
   "source": [
    "**checking the distribution of length of service**"
   ]
  },
  {
   "cell_type": "code",
   "execution_count": 37,
   "id": "1bd2085f",
   "metadata": {
    "execution": {
     "iopub.execute_input": "2021-08-16T10:44:31.477384Z",
     "iopub.status.busy": "2021-08-16T10:44:31.476460Z",
     "iopub.status.idle": "2021-08-16T10:44:33.092273Z",
     "shell.execute_reply": "2021-08-16T10:44:33.091740Z",
     "shell.execute_reply.started": "2021-08-16T10:14:33.746907Z"
    },
    "papermill": {
     "duration": 1.743386,
     "end_time": "2021-08-16T10:44:33.092417",
     "exception": false,
     "start_time": "2021-08-16T10:44:31.349031",
     "status": "completed"
    },
    "tags": []
   },
   "outputs": [
    {
     "name": "stderr",
     "output_type": "stream",
     "text": [
      "/opt/conda/lib/python3.7/site-packages/seaborn/distributions.py:2557: FutureWarning: `distplot` is a deprecated function and will be removed in a future version. Please adapt your code to use either `displot` (a figure-level function with similar flexibility) or `histplot` (an axes-level function for histograms).\n",
      "  warnings.warn(msg, FutureWarning)\n"
     ]
    },
    {
     "data": {
      "image/png": "[encoded data removed]",
      "text/plain": [
       "<Figure size 1440x720 with 1 Axes>"
      ]
     },
     "metadata": {
      "needs_background": "light"
     },
     "output_type": "display_data"
    }
   ],
   "source": [
    "\n",
    "\n",
    "sns.distplot(train_data['current_job_years'], color = 'green')\n",
    "plt.title('Distribution of length of service among the Employees', fontsize = 30)\n",
    "plt.xlabel('Length of Service in years', fontsize = 15)\n",
    "plt.ylabel('count')\n",
    "plt.show()"
   ]
  },
  {
   "cell_type": "code",
   "execution_count": 38,
   "id": "98cb6b37",
   "metadata": {
    "execution": {
     "iopub.execute_input": "2021-08-16T10:44:33.376976Z",
     "iopub.status.busy": "2021-08-16T10:44:33.373142Z",
     "iopub.status.idle": "2021-08-16T10:44:33.537650Z",
     "shell.execute_reply": "2021-08-16T10:44:33.537096Z",
     "shell.execute_reply.started": "2021-08-16T10:14:35.337722Z"
    },
    "papermill": {
     "duration": 0.336559,
     "end_time": "2021-08-16T10:44:33.537801",
     "exception": false,
     "start_time": "2021-08-16T10:44:33.201242",
     "status": "completed"
    },
    "tags": []
   },
   "outputs": [
    {
     "data": {
      "image/png": "[encoded data removed]",
      "text/plain": [
       "<Figure size 1080x504 with 1 Axes>"
      ]
     },
     "metadata": {
      "needs_background": "light"
     },
     "output_type": "display_data"
    }
   ],
   "source": [
    "train_data['house_ownership'].value_counts().sort_values().plot.bar(color = 'violet', figsize = (15, 7))\n",
    "plt.title('Distribution of house of the Employees', fontsize = 30)\n",
    "plt.xlabel('House', fontsize = 15)\n",
    "plt.ylabel('count')\n",
    "plt.show()"
   ]
  },
  {
   "cell_type": "code",
   "execution_count": 39,
   "id": "4c90bd18",
   "metadata": {
    "execution": {
     "iopub.execute_input": "2021-08-16T10:44:33.780545Z",
     "iopub.status.busy": "2021-08-16T10:44:33.774718Z",
     "iopub.status.idle": "2021-08-16T10:44:35.269643Z",
     "shell.execute_reply": "2021-08-16T10:44:35.269059Z",
     "shell.execute_reply.started": "2021-08-16T10:14:35.554312Z"
    },
    "papermill": {
     "duration": 1.624442,
     "end_time": "2021-08-16T10:44:35.269791",
     "exception": false,
     "start_time": "2021-08-16T10:44:33.645349",
     "status": "completed"
    },
    "tags": []
   },
   "outputs": [
    {
     "name": "stderr",
     "output_type": "stream",
     "text": [
      "/opt/conda/lib/python3.7/site-packages/seaborn/distributions.py:2557: FutureWarning: `distplot` is a deprecated function and will be removed in a future version. Please adapt your code to use either `displot` (a figure-level function with similar flexibility) or `histplot` (an axes-level function for histograms).\n",
      "  warnings.warn(msg, FutureWarning)\n"
     ]
    },
    {
     "data": {
      "image/png": "[encoded data removed]",
      "text/plain": [
       "<Figure size 1440x720 with 1 Axes>"
      ]
     },
     "metadata": {
      "needs_background": "light"
     },
     "output_type": "display_data"
    }
   ],
   "source": [
    "\n",
    "\n",
    "sns.distplot(train_data['current_house_years'], color = 'green')\n",
    "plt.title('Distribution of house years among the Employees', fontsize = 30)\n",
    "plt.xlabel('Length of Service in years', fontsize = 15)\n",
    "plt.ylabel('count')\n",
    "plt.show()"
   ]
  },
  {
   "cell_type": "code",
   "execution_count": 40,
   "id": "0c74405d",
   "metadata": {
    "execution": {
     "iopub.execute_input": "2021-08-16T10:44:35.526380Z",
     "iopub.status.busy": "2021-08-16T10:44:35.522950Z",
     "iopub.status.idle": "2021-08-16T10:44:36.065210Z",
     "shell.execute_reply": "2021-08-16T10:44:36.065732Z",
     "shell.execute_reply.started": "2021-08-16T10:14:37.120303Z"
    },
    "papermill": {
     "duration": 0.684788,
     "end_time": "2021-08-16T10:44:36.065915",
     "exception": false,
     "start_time": "2021-08-16T10:44:35.381127",
     "status": "completed"
    },
    "tags": []
   },
   "outputs": [
    {
     "data": {
      "image/png": "[encoded data removed]",
      "text/plain": [
       "<Figure size 1440x720 with 1 Axes>"
      ]
     },
     "metadata": {
      "needs_background": "light"
     },
     "output_type": "display_data"
    }
   ],
   "source": [
    "boxplot=train_data.boxplot(column=['current_house_years'])"
   ]
  },
  {
   "cell_type": "markdown",
   "id": "c635b8f1",
   "metadata": {
    "papermill": {
     "duration": 0.110253,
     "end_time": "2021-08-16T10:44:36.289086",
     "exception": false,
     "start_time": "2021-08-16T10:44:36.178833",
     "status": "completed"
    },
    "tags": []
   },
   "source": [
    "*performing statistical analysis of the income column*"
   ]
  },
  {
   "cell_type": "code",
   "execution_count": 41,
   "id": "1a883249",
   "metadata": {
    "execution": {
     "iopub.execute_input": "2021-08-16T10:44:36.515997Z",
     "iopub.status.busy": "2021-08-16T10:44:36.515336Z",
     "iopub.status.idle": "2021-08-16T10:44:36.533407Z",
     "shell.execute_reply": "2021-08-16T10:44:36.532760Z",
     "shell.execute_reply.started": "2021-08-16T10:14:37.659348Z"
    },
    "papermill": {
     "duration": 0.133728,
     "end_time": "2021-08-16T10:44:36.533557",
     "exception": false,
     "start_time": "2021-08-16T10:44:36.399829",
     "status": "completed"
    },
    "tags": []
   },
   "outputs": [
    {
     "data": {
      "text/plain": [
       "count    2.520000e+05\n",
       "mean     4.997117e+06\n",
       "std      2.878311e+06\n",
       "min      1.031000e+04\n",
       "25%      2.503015e+06\n",
       "50%      5.000694e+06\n",
       "75%      7.477502e+06\n",
       "max      9.999938e+06\n",
       "Name: income, dtype: float64"
      ]
     },
     "execution_count": 41,
     "metadata": {},
     "output_type": "execute_result"
    }
   ],
   "source": [
    "train_data['income'].describe()"
   ]
  },
  {
   "cell_type": "markdown",
   "id": "d4c4f179",
   "metadata": {
    "papermill": {
     "duration": 0.11245,
     "end_time": "2021-08-16T10:44:36.757811",
     "exception": false,
     "start_time": "2021-08-16T10:44:36.645361",
     "status": "completed"
    },
    "tags": []
   },
   "source": [
    "**Dividing the income column into different groups:**\n",
    "\n",
    "**0** denotes intern/novice\n",
    "\n",
    "**1** denotes a mid level earner employee \n",
    "\n",
    "**2** denotes handsome salary owner employee\n",
    "\n",
    "**3** denotes a veteran employee"
   ]
  },
  {
   "cell_type": "code",
   "execution_count": 42,
   "id": "50a103f3",
   "metadata": {
    "execution": {
     "iopub.execute_input": "2021-08-16T10:44:36.984473Z",
     "iopub.status.busy": "2021-08-16T10:44:36.983447Z",
     "iopub.status.idle": "2021-08-16T10:44:37.013333Z",
     "shell.execute_reply": "2021-08-16T10:44:37.012221Z",
     "shell.execute_reply.started": "2021-08-16T10:14:37.683189Z"
    },
    "papermill": {
     "duration": 0.143994,
     "end_time": "2021-08-16T10:44:37.013500",
     "exception": false,
     "start_time": "2021-08-16T10:44:36.869506",
     "status": "completed"
    },
    "tags": []
   },
   "outputs": [],
   "source": [
    "train_test_data=[train_data, test_data]\n",
    "\n",
    "for dataset in train_test_data: \n",
    "\n",
    "     dataset.loc[(dataset['income']<2612345), 'income'] = 0 \n",
    "\n",
    "     dataset.loc[(dataset['income'] >= 2612345) & (dataset['income'] < 5212345), 'income'] = 1 \n",
    "\n",
    "     dataset.loc[(dataset['income'] >= 5212345) & (dataset['income'] < 7512345), 'income'] = 2 \n",
    "\n",
    "     dataset.loc[(dataset['income'] >= 7512345) , 'income'] = 3 "
   ]
  },
  {
   "cell_type": "code",
   "execution_count": 43,
   "id": "dc971e02",
   "metadata": {
    "execution": {
     "iopub.execute_input": "2021-08-16T10:44:37.254928Z",
     "iopub.status.busy": "2021-08-16T10:44:37.253923Z",
     "iopub.status.idle": "2021-08-16T10:44:37.258078Z",
     "shell.execute_reply": "2021-08-16T10:44:37.258522Z",
     "shell.execute_reply.started": "2021-08-16T10:14:37.719221Z"
    },
    "papermill": {
     "duration": 0.132363,
     "end_time": "2021-08-16T10:44:37.258713",
     "exception": false,
     "start_time": "2021-08-16T10:44:37.126350",
     "status": "completed"
    },
    "tags": []
   },
   "outputs": [
    {
     "data": {
      "text/html": [
       "<div>\n",
       "<style scoped>\n",
       "    .dataframe tbody tr th:only-of-type {\n",
       "        vertical-align: middle;\n",
       "    }\n",
       "\n",
       "    .dataframe tbody tr th {\n",
       "        vertical-align: top;\n",
       "    }\n",
       "\n",
       "    .dataframe thead th {\n",
       "        text-align: right;\n",
       "    }\n",
       "</style>\n",
       "<table border=\"1\" class=\"dataframe\">\n",
       "  <thead>\n",
       "    <tr style=\"text-align: right;\">\n",
       "      <th></th>\n",
       "      <th>Id</th>\n",
       "      <th>income</th>\n",
       "      <th>age</th>\n",
       "      <th>experience</th>\n",
       "      <th>married</th>\n",
       "      <th>house_ownership</th>\n",
       "      <th>car_ownership</th>\n",
       "      <th>profession</th>\n",
       "      <th>city</th>\n",
       "      <th>state</th>\n",
       "      <th>current_job_years</th>\n",
       "      <th>current_house_years</th>\n",
       "      <th>risk_flag</th>\n",
       "    </tr>\n",
       "  </thead>\n",
       "  <tbody>\n",
       "    <tr>\n",
       "      <th>0</th>\n",
       "      <td>1</td>\n",
       "      <td>0</td>\n",
       "      <td>0</td>\n",
       "      <td>0</td>\n",
       "      <td>single</td>\n",
       "      <td>rented</td>\n",
       "      <td>no</td>\n",
       "      <td>Mechanical_engineer</td>\n",
       "      <td>Rewa</td>\n",
       "      <td>Madhya_Pradesh</td>\n",
       "      <td>3</td>\n",
       "      <td>13</td>\n",
       "      <td>0</td>\n",
       "    </tr>\n",
       "    <tr>\n",
       "      <th>1</th>\n",
       "      <td>2</td>\n",
       "      <td>3</td>\n",
       "      <td>1</td>\n",
       "      <td>2</td>\n",
       "      <td>single</td>\n",
       "      <td>rented</td>\n",
       "      <td>no</td>\n",
       "      <td>Software_Developer</td>\n",
       "      <td>Parbhani</td>\n",
       "      <td>Maharashtra</td>\n",
       "      <td>9</td>\n",
       "      <td>13</td>\n",
       "      <td>0</td>\n",
       "    </tr>\n",
       "    <tr>\n",
       "      <th>2</th>\n",
       "      <td>3</td>\n",
       "      <td>1</td>\n",
       "      <td>3</td>\n",
       "      <td>0</td>\n",
       "      <td>married</td>\n",
       "      <td>rented</td>\n",
       "      <td>no</td>\n",
       "      <td>Technical_writer</td>\n",
       "      <td>Alappuzha</td>\n",
       "      <td>Kerala</td>\n",
       "      <td>4</td>\n",
       "      <td>10</td>\n",
       "      <td>0</td>\n",
       "    </tr>\n",
       "    <tr>\n",
       "      <th>3</th>\n",
       "      <td>4</td>\n",
       "      <td>2</td>\n",
       "      <td>1</td>\n",
       "      <td>0</td>\n",
       "      <td>single</td>\n",
       "      <td>rented</td>\n",
       "      <td>yes</td>\n",
       "      <td>Software_Developer</td>\n",
       "      <td>Bhubaneswar</td>\n",
       "      <td>Odisha</td>\n",
       "      <td>2</td>\n",
       "      <td>12</td>\n",
       "      <td>1</td>\n",
       "    </tr>\n",
       "    <tr>\n",
       "      <th>4</th>\n",
       "      <td>5</td>\n",
       "      <td>2</td>\n",
       "      <td>1</td>\n",
       "      <td>2</td>\n",
       "      <td>single</td>\n",
       "      <td>rented</td>\n",
       "      <td>no</td>\n",
       "      <td>Civil_servant</td>\n",
       "      <td>Tiruchirappalli[10]</td>\n",
       "      <td>Tamil_Nadu</td>\n",
       "      <td>3</td>\n",
       "      <td>14</td>\n",
       "      <td>1</td>\n",
       "    </tr>\n",
       "  </tbody>\n",
       "</table>\n",
       "</div>"
      ],
      "text/plain": [
       "   Id  income  age  experience  married house_ownership car_ownership  \\\n",
       "0   1       0    0           0   single          rented            no   \n",
       "1   2       3    1           2   single          rented            no   \n",
       "2   3       1    3           0  married          rented            no   \n",
       "3   4       2    1           0   single          rented           yes   \n",
       "4   5       2    1           2   single          rented            no   \n",
       "\n",
       "            profession                 city           state  \\\n",
       "0  Mechanical_engineer                 Rewa  Madhya_Pradesh   \n",
       "1   Software_Developer             Parbhani     Maharashtra   \n",
       "2     Technical_writer            Alappuzha          Kerala   \n",
       "3   Software_Developer          Bhubaneswar          Odisha   \n",
       "4        Civil_servant  Tiruchirappalli[10]      Tamil_Nadu   \n",
       "\n",
       "   current_job_years  current_house_years  risk_flag  \n",
       "0                  3                   13          0  \n",
       "1                  9                   13          0  \n",
       "2                  4                   10          0  \n",
       "3                  2                   12          1  \n",
       "4                  3                   14          1  "
      ]
     },
     "execution_count": 43,
     "metadata": {},
     "output_type": "execute_result"
    }
   ],
   "source": [
    "train_data.head()"
   ]
  },
  {
   "cell_type": "code",
   "execution_count": 44,
   "id": "b2b5d94c",
   "metadata": {
    "execution": {
     "iopub.execute_input": "2021-08-16T10:44:37.502242Z",
     "iopub.status.busy": "2021-08-16T10:44:37.501329Z",
     "iopub.status.idle": "2021-08-16T10:44:37.506314Z",
     "shell.execute_reply": "2021-08-16T10:44:37.505782Z",
     "shell.execute_reply.started": "2021-08-16T10:14:37.742008Z"
    },
    "papermill": {
     "duration": 0.134602,
     "end_time": "2021-08-16T10:44:37.506447",
     "exception": false,
     "start_time": "2021-08-16T10:44:37.371845",
     "status": "completed"
    },
    "tags": []
   },
   "outputs": [
    {
     "data": {
      "text/html": [
       "<div>\n",
       "<style scoped>\n",
       "    .dataframe tbody tr th:only-of-type {\n",
       "        vertical-align: middle;\n",
       "    }\n",
       "\n",
       "    .dataframe tbody tr th {\n",
       "        vertical-align: top;\n",
       "    }\n",
       "\n",
       "    .dataframe thead th {\n",
       "        text-align: right;\n",
       "    }\n",
       "</style>\n",
       "<table border=\"1\" class=\"dataframe\">\n",
       "  <thead>\n",
       "    <tr style=\"text-align: right;\">\n",
       "      <th></th>\n",
       "      <th>id</th>\n",
       "      <th>income</th>\n",
       "      <th>age</th>\n",
       "      <th>experience</th>\n",
       "      <th>married</th>\n",
       "      <th>house_ownership</th>\n",
       "      <th>car_ownership</th>\n",
       "      <th>profession</th>\n",
       "      <th>city</th>\n",
       "      <th>state</th>\n",
       "      <th>current_job_years</th>\n",
       "      <th>current_house_years</th>\n",
       "    </tr>\n",
       "  </thead>\n",
       "  <tbody>\n",
       "    <tr>\n",
       "      <th>0</th>\n",
       "      <td>1</td>\n",
       "      <td>2</td>\n",
       "      <td>2</td>\n",
       "      <td>3</td>\n",
       "      <td>single</td>\n",
       "      <td>rented</td>\n",
       "      <td>no</td>\n",
       "      <td>Geologist</td>\n",
       "      <td>Malda</td>\n",
       "      <td>West Bengal</td>\n",
       "      <td>4</td>\n",
       "      <td>13</td>\n",
       "    </tr>\n",
       "    <tr>\n",
       "      <th>1</th>\n",
       "      <td>2</td>\n",
       "      <td>0</td>\n",
       "      <td>0</td>\n",
       "      <td>1</td>\n",
       "      <td>single</td>\n",
       "      <td>rented</td>\n",
       "      <td>no</td>\n",
       "      <td>Firefighter</td>\n",
       "      <td>Jalna</td>\n",
       "      <td>Maharashtra</td>\n",
       "      <td>5</td>\n",
       "      <td>10</td>\n",
       "    </tr>\n",
       "    <tr>\n",
       "      <th>2</th>\n",
       "      <td>3</td>\n",
       "      <td>3</td>\n",
       "      <td>2</td>\n",
       "      <td>2</td>\n",
       "      <td>single</td>\n",
       "      <td>rented</td>\n",
       "      <td>no</td>\n",
       "      <td>Lawyer</td>\n",
       "      <td>Thane</td>\n",
       "      <td>Maharashtra</td>\n",
       "      <td>9</td>\n",
       "      <td>14</td>\n",
       "    </tr>\n",
       "    <tr>\n",
       "      <th>3</th>\n",
       "      <td>4</td>\n",
       "      <td>0</td>\n",
       "      <td>1</td>\n",
       "      <td>1</td>\n",
       "      <td>married</td>\n",
       "      <td>rented</td>\n",
       "      <td>yes</td>\n",
       "      <td>Analyst</td>\n",
       "      <td>Latur</td>\n",
       "      <td>Maharashtra</td>\n",
       "      <td>3</td>\n",
       "      <td>12</td>\n",
       "    </tr>\n",
       "    <tr>\n",
       "      <th>4</th>\n",
       "      <td>5</td>\n",
       "      <td>0</td>\n",
       "      <td>0</td>\n",
       "      <td>3</td>\n",
       "      <td>single</td>\n",
       "      <td>rented</td>\n",
       "      <td>yes</td>\n",
       "      <td>Comedian</td>\n",
       "      <td>Berhampore</td>\n",
       "      <td>West Bengal</td>\n",
       "      <td>13</td>\n",
       "      <td>11</td>\n",
       "    </tr>\n",
       "  </tbody>\n",
       "</table>\n",
       "</div>"
      ],
      "text/plain": [
       "   id  income  age  experience  married house_ownership car_ownership  \\\n",
       "0   1       2    2           3   single          rented            no   \n",
       "1   2       0    0           1   single          rented            no   \n",
       "2   3       3    2           2   single          rented            no   \n",
       "3   4       0    1           1  married          rented           yes   \n",
       "4   5       0    0           3   single          rented           yes   \n",
       "\n",
       "    profession        city        state  current_job_years  \\\n",
       "0    Geologist       Malda  West Bengal                  4   \n",
       "1  Firefighter       Jalna  Maharashtra                  5   \n",
       "2       Lawyer       Thane  Maharashtra                  9   \n",
       "3      Analyst       Latur  Maharashtra                  3   \n",
       "4     Comedian  Berhampore  West Bengal                 13   \n",
       "\n",
       "   current_house_years  \n",
       "0                   13  \n",
       "1                   10  \n",
       "2                   14  \n",
       "3                   12  \n",
       "4                   11  "
      ]
     },
     "execution_count": 44,
     "metadata": {},
     "output_type": "execute_result"
    }
   ],
   "source": [
    "test_data.head()"
   ]
  },
  {
   "cell_type": "code",
   "execution_count": 45,
   "id": "03fbae0c",
   "metadata": {
    "execution": {
     "iopub.execute_input": "2021-08-16T10:44:37.775710Z",
     "iopub.status.busy": "2021-08-16T10:44:37.773915Z",
     "iopub.status.idle": "2021-08-16T10:44:38.032463Z",
     "shell.execute_reply": "2021-08-16T10:44:38.031764Z",
     "shell.execute_reply.started": "2021-08-16T10:14:37.766444Z"
    },
    "papermill": {
     "duration": 0.413369,
     "end_time": "2021-08-16T10:44:38.032623",
     "exception": false,
     "start_time": "2021-08-16T10:44:37.619254",
     "status": "completed"
    },
    "tags": []
   },
   "outputs": [
    {
     "data": {
      "image/png": "[encoded data removed]",
      "text/plain": [
       "<Figure size 1440x576 with 1 Axes>"
      ]
     },
     "metadata": {
      "needs_background": "light"
     },
     "output_type": "display_data"
    }
   ],
   "source": [
    "bar_chart('income')"
   ]
  },
  {
   "cell_type": "code",
   "execution_count": 46,
   "id": "3e772c5c",
   "metadata": {
    "execution": {
     "iopub.execute_input": "2021-08-16T10:44:38.268960Z",
     "iopub.status.busy": "2021-08-16T10:44:38.268285Z",
     "iopub.status.idle": "2021-08-16T10:44:39.040069Z",
     "shell.execute_reply": "2021-08-16T10:44:39.040572Z",
     "shell.execute_reply.started": "2021-08-16T10:14:38.021267Z"
    },
    "papermill": {
     "duration": 0.892664,
     "end_time": "2021-08-16T10:44:39.040763",
     "exception": false,
     "start_time": "2021-08-16T10:44:38.148099",
     "status": "completed"
    },
    "tags": []
   },
   "outputs": [
    {
     "data": {
      "image/png": "[encoded data removed]",
      "text/plain": [
       "<Figure size 1440x576 with 1 Axes>"
      ]
     },
     "metadata": {
      "needs_background": "light"
     },
     "output_type": "display_data"
    }
   ],
   "source": [
    "# checking dependency of different regions in promotion\n",
    "\n",
    "data = pd.crosstab(train_data['state'], train_data['risk_flag'])\n",
    "data.div(data.sum(1).astype('float'), axis = 0).plot(kind = 'bar', stacked = True, figsize = (20, 8), color = ['lightblue', 'purple'])\n",
    "\n",
    "plt.title('Dependency of state in determining Promotion of Employees', fontsize = 30)\n",
    "plt.xlabel('Different state of the Company', fontsize = 20)\n",
    "plt.legend()\n",
    "plt.show()"
   ]
  },
  {
   "cell_type": "code",
   "execution_count": 47,
   "id": "3e6e7de5",
   "metadata": {
    "execution": {
     "iopub.execute_input": "2021-08-16T10:44:39.279522Z",
     "iopub.status.busy": "2021-08-16T10:44:39.278861Z",
     "iopub.status.idle": "2021-08-16T10:44:39.647323Z",
     "shell.execute_reply": "2021-08-16T10:44:39.646656Z",
     "shell.execute_reply.started": "2021-08-16T10:14:38.827926Z"
    },
    "papermill": {
     "duration": 0.489752,
     "end_time": "2021-08-16T10:44:39.647461",
     "exception": false,
     "start_time": "2021-08-16T10:44:39.157709",
     "status": "completed"
    },
    "tags": []
   },
   "outputs": [
    {
     "data": {
      "image/png": "[encoded data removed]",
      "text/plain": [
       "<Figure size 1440x576 with 1 Axes>"
      ]
     },
     "metadata": {
      "needs_background": "light"
     },
     "output_type": "display_data"
    }
   ],
   "source": [
    "data = pd.crosstab(train_data['current_job_years'], train_data['risk_flag'])\n",
    "data.div(data.sum(1).astype('float'), axis = 0).plot(kind = 'bar', stacked = True, figsize = (20, 8), color = ['lightblue', 'purple'])\n",
    "\n",
    "plt.title('Dependency of current job years in determining risk of Employees', fontsize = 30)\n",
    "plt.xlabel('Different state of the Company', fontsize = 20)\n",
    "plt.legend()\n",
    "plt.show()"
   ]
  },
  {
   "cell_type": "code",
   "execution_count": 48,
   "id": "22c1ff78",
   "metadata": {
    "execution": {
     "iopub.execute_input": "2021-08-16T10:44:39.897130Z",
     "iopub.status.busy": "2021-08-16T10:44:39.896334Z",
     "iopub.status.idle": "2021-08-16T10:44:40.155194Z",
     "shell.execute_reply": "2021-08-16T10:44:40.155723Z",
     "shell.execute_reply.started": "2021-08-16T10:14:39.186190Z"
    },
    "papermill": {
     "duration": 0.388604,
     "end_time": "2021-08-16T10:44:40.156021",
     "exception": false,
     "start_time": "2021-08-16T10:44:39.767417",
     "status": "completed"
    },
    "tags": []
   },
   "outputs": [
    {
     "data": {
      "image/png": "[encoded data removed]",
      "text/plain": [
       "<Figure size 1440x576 with 1 Axes>"
      ]
     },
     "metadata": {
      "needs_background": "light"
     },
     "output_type": "display_data"
    }
   ],
   "source": [
    "data = pd.crosstab(train_data['current_house_years'], train_data['risk_flag'])\n",
    "data.div(data.sum(1).astype('float'), axis = 0).plot(kind = 'bar', stacked = True, figsize = (20, 8), color = ['lightblue', 'purple'])\n",
    "\n",
    "plt.title('Dependency of current job years in determining risk of Employees', fontsize = 30)\n",
    "plt.xlabel('Different state of the Company', fontsize = 20)\n",
    "plt.legend()\n",
    "plt.show()"
   ]
  },
  {
   "cell_type": "code",
   "execution_count": 49,
   "id": "cad0d2bb",
   "metadata": {
    "execution": {
     "iopub.execute_input": "2021-08-16T10:44:40.402151Z",
     "iopub.status.busy": "2021-08-16T10:44:40.400923Z",
     "iopub.status.idle": "2021-08-16T10:44:41.719620Z",
     "shell.execute_reply": "2021-08-16T10:44:41.720124Z",
     "shell.execute_reply.started": "2021-08-16T10:14:39.438754Z"
    },
    "papermill": {
     "duration": 1.445445,
     "end_time": "2021-08-16T10:44:41.720287",
     "exception": false,
     "start_time": "2021-08-16T10:44:40.274842",
     "status": "completed"
    },
    "tags": []
   },
   "outputs": [
    {
     "data": {
      "image/png": "[encoded data removed]",
      "text/plain": [
       "<Figure size 1440x576 with 1 Axes>"
      ]
     },
     "metadata": {
      "needs_background": "light"
     },
     "output_type": "display_data"
    }
   ],
   "source": [
    "data = pd.crosstab(train_data['profession'], train_data['risk_flag'])\n",
    "data.div(data.sum(1).astype('float'), axis = 0).plot(kind = 'bar', stacked = True, figsize = (20, 8), color = ['orange', 'lightgreen'])\n",
    "\n",
    "plt.title('Dependency of Departments in determining Promotion of Employees', fontsize = 30)\n",
    "plt.xlabel('Different Departments of the Company', fontsize = 20)\n",
    "plt.legend()\n",
    "plt.show()"
   ]
  },
  {
   "cell_type": "markdown",
   "id": "66e808e5",
   "metadata": {
    "papermill": {
     "duration": 0.120364,
     "end_time": "2021-08-16T10:44:41.960119",
     "exception": false,
     "start_time": "2021-08-16T10:44:41.839755",
     "status": "completed"
    },
    "tags": []
   },
   "source": [
    "**Dropping city column**"
   ]
  },
  {
   "cell_type": "code",
   "execution_count": 50,
   "id": "2e1119f9",
   "metadata": {
    "execution": {
     "iopub.execute_input": "2021-08-16T10:44:42.217797Z",
     "iopub.status.busy": "2021-08-16T10:44:42.216745Z",
     "iopub.status.idle": "2021-08-16T10:44:42.227871Z",
     "shell.execute_reply": "2021-08-16T10:44:42.227314Z",
     "shell.execute_reply.started": "2021-08-16T10:14:40.671002Z"
    },
    "papermill": {
     "duration": 0.146619,
     "end_time": "2021-08-16T10:44:42.228019",
     "exception": false,
     "start_time": "2021-08-16T10:44:42.081400",
     "status": "completed"
    },
    "tags": []
   },
   "outputs": [],
   "source": [
    "train_data.drop(columns='city',inplace=True)"
   ]
  },
  {
   "cell_type": "code",
   "execution_count": 51,
   "id": "d9cca475",
   "metadata": {
    "execution": {
     "iopub.execute_input": "2021-08-16T10:44:42.485475Z",
     "iopub.status.busy": "2021-08-16T10:44:42.484550Z",
     "iopub.status.idle": "2021-08-16T10:44:42.489619Z",
     "shell.execute_reply": "2021-08-16T10:44:42.489034Z",
     "shell.execute_reply.started": "2021-08-16T10:14:40.700133Z"
    },
    "papermill": {
     "duration": 0.140848,
     "end_time": "2021-08-16T10:44:42.489772",
     "exception": false,
     "start_time": "2021-08-16T10:44:42.348924",
     "status": "completed"
    },
    "tags": []
   },
   "outputs": [
    {
     "data": {
      "text/html": [
       "<div>\n",
       "<style scoped>\n",
       "    .dataframe tbody tr th:only-of-type {\n",
       "        vertical-align: middle;\n",
       "    }\n",
       "\n",
       "    .dataframe tbody tr th {\n",
       "        vertical-align: top;\n",
       "    }\n",
       "\n",
       "    .dataframe thead th {\n",
       "        text-align: right;\n",
       "    }\n",
       "</style>\n",
       "<table border=\"1\" class=\"dataframe\">\n",
       "  <thead>\n",
       "    <tr style=\"text-align: right;\">\n",
       "      <th></th>\n",
       "      <th>Id</th>\n",
       "      <th>income</th>\n",
       "      <th>age</th>\n",
       "      <th>experience</th>\n",
       "      <th>married</th>\n",
       "      <th>house_ownership</th>\n",
       "      <th>car_ownership</th>\n",
       "      <th>profession</th>\n",
       "      <th>state</th>\n",
       "      <th>current_job_years</th>\n",
       "      <th>current_house_years</th>\n",
       "      <th>risk_flag</th>\n",
       "    </tr>\n",
       "  </thead>\n",
       "  <tbody>\n",
       "    <tr>\n",
       "      <th>0</th>\n",
       "      <td>1</td>\n",
       "      <td>0</td>\n",
       "      <td>0</td>\n",
       "      <td>0</td>\n",
       "      <td>single</td>\n",
       "      <td>rented</td>\n",
       "      <td>no</td>\n",
       "      <td>Mechanical_engineer</td>\n",
       "      <td>Madhya_Pradesh</td>\n",
       "      <td>3</td>\n",
       "      <td>13</td>\n",
       "      <td>0</td>\n",
       "    </tr>\n",
       "    <tr>\n",
       "      <th>1</th>\n",
       "      <td>2</td>\n",
       "      <td>3</td>\n",
       "      <td>1</td>\n",
       "      <td>2</td>\n",
       "      <td>single</td>\n",
       "      <td>rented</td>\n",
       "      <td>no</td>\n",
       "      <td>Software_Developer</td>\n",
       "      <td>Maharashtra</td>\n",
       "      <td>9</td>\n",
       "      <td>13</td>\n",
       "      <td>0</td>\n",
       "    </tr>\n",
       "    <tr>\n",
       "      <th>2</th>\n",
       "      <td>3</td>\n",
       "      <td>1</td>\n",
       "      <td>3</td>\n",
       "      <td>0</td>\n",
       "      <td>married</td>\n",
       "      <td>rented</td>\n",
       "      <td>no</td>\n",
       "      <td>Technical_writer</td>\n",
       "      <td>Kerala</td>\n",
       "      <td>4</td>\n",
       "      <td>10</td>\n",
       "      <td>0</td>\n",
       "    </tr>\n",
       "    <tr>\n",
       "      <th>3</th>\n",
       "      <td>4</td>\n",
       "      <td>2</td>\n",
       "      <td>1</td>\n",
       "      <td>0</td>\n",
       "      <td>single</td>\n",
       "      <td>rented</td>\n",
       "      <td>yes</td>\n",
       "      <td>Software_Developer</td>\n",
       "      <td>Odisha</td>\n",
       "      <td>2</td>\n",
       "      <td>12</td>\n",
       "      <td>1</td>\n",
       "    </tr>\n",
       "    <tr>\n",
       "      <th>4</th>\n",
       "      <td>5</td>\n",
       "      <td>2</td>\n",
       "      <td>1</td>\n",
       "      <td>2</td>\n",
       "      <td>single</td>\n",
       "      <td>rented</td>\n",
       "      <td>no</td>\n",
       "      <td>Civil_servant</td>\n",
       "      <td>Tamil_Nadu</td>\n",
       "      <td>3</td>\n",
       "      <td>14</td>\n",
       "      <td>1</td>\n",
       "    </tr>\n",
       "  </tbody>\n",
       "</table>\n",
       "</div>"
      ],
      "text/plain": [
       "   Id  income  age  experience  married house_ownership car_ownership  \\\n",
       "0   1       0    0           0   single          rented            no   \n",
       "1   2       3    1           2   single          rented            no   \n",
       "2   3       1    3           0  married          rented            no   \n",
       "3   4       2    1           0   single          rented           yes   \n",
       "4   5       2    1           2   single          rented            no   \n",
       "\n",
       "            profession           state  current_job_years  \\\n",
       "0  Mechanical_engineer  Madhya_Pradesh                  3   \n",
       "1   Software_Developer     Maharashtra                  9   \n",
       "2     Technical_writer          Kerala                  4   \n",
       "3   Software_Developer          Odisha                  2   \n",
       "4        Civil_servant      Tamil_Nadu                  3   \n",
       "\n",
       "   current_house_years  risk_flag  \n",
       "0                   13          0  \n",
       "1                   13          0  \n",
       "2                   10          0  \n",
       "3                   12          1  \n",
       "4                   14          1  "
      ]
     },
     "execution_count": 51,
     "metadata": {},
     "output_type": "execute_result"
    }
   ],
   "source": [
    "train_data.head()"
   ]
  },
  {
   "cell_type": "code",
   "execution_count": 52,
   "id": "71c93a5e",
   "metadata": {
    "execution": {
     "iopub.execute_input": "2021-08-16T10:44:42.740337Z",
     "iopub.status.busy": "2021-08-16T10:44:42.739389Z",
     "iopub.status.idle": "2021-08-16T10:44:42.743743Z",
     "shell.execute_reply": "2021-08-16T10:44:42.743130Z",
     "shell.execute_reply.started": "2021-08-16T10:14:40.721261Z"
    },
    "papermill": {
     "duration": 0.133913,
     "end_time": "2021-08-16T10:44:42.743881",
     "exception": false,
     "start_time": "2021-08-16T10:44:42.609968",
     "status": "completed"
    },
    "tags": []
   },
   "outputs": [],
   "source": [
    "test_data.drop(columns='city',inplace=True)"
   ]
  },
  {
   "cell_type": "code",
   "execution_count": 53,
   "id": "7df552ef",
   "metadata": {
    "execution": {
     "iopub.execute_input": "2021-08-16T10:44:43.001409Z",
     "iopub.status.busy": "2021-08-16T10:44:43.000749Z",
     "iopub.status.idle": "2021-08-16T10:44:43.005878Z",
     "shell.execute_reply": "2021-08-16T10:44:43.005271Z",
     "shell.execute_reply.started": "2021-08-16T10:14:40.735153Z"
    },
    "papermill": {
     "duration": 0.142506,
     "end_time": "2021-08-16T10:44:43.006043",
     "exception": false,
     "start_time": "2021-08-16T10:44:42.863537",
     "status": "completed"
    },
    "tags": []
   },
   "outputs": [
    {
     "data": {
      "text/html": [
       "<div>\n",
       "<style scoped>\n",
       "    .dataframe tbody tr th:only-of-type {\n",
       "        vertical-align: middle;\n",
       "    }\n",
       "\n",
       "    .dataframe tbody tr th {\n",
       "        vertical-align: top;\n",
       "    }\n",
       "\n",
       "    .dataframe thead th {\n",
       "        text-align: right;\n",
       "    }\n",
       "</style>\n",
       "<table border=\"1\" class=\"dataframe\">\n",
       "  <thead>\n",
       "    <tr style=\"text-align: right;\">\n",
       "      <th></th>\n",
       "      <th>id</th>\n",
       "      <th>income</th>\n",
       "      <th>age</th>\n",
       "      <th>experience</th>\n",
       "      <th>married</th>\n",
       "      <th>house_ownership</th>\n",
       "      <th>car_ownership</th>\n",
       "      <th>profession</th>\n",
       "      <th>state</th>\n",
       "      <th>current_job_years</th>\n",
       "      <th>current_house_years</th>\n",
       "    </tr>\n",
       "  </thead>\n",
       "  <tbody>\n",
       "    <tr>\n",
       "      <th>0</th>\n",
       "      <td>1</td>\n",
       "      <td>2</td>\n",
       "      <td>2</td>\n",
       "      <td>3</td>\n",
       "      <td>single</td>\n",
       "      <td>rented</td>\n",
       "      <td>no</td>\n",
       "      <td>Geologist</td>\n",
       "      <td>West Bengal</td>\n",
       "      <td>4</td>\n",
       "      <td>13</td>\n",
       "    </tr>\n",
       "    <tr>\n",
       "      <th>1</th>\n",
       "      <td>2</td>\n",
       "      <td>0</td>\n",
       "      <td>0</td>\n",
       "      <td>1</td>\n",
       "      <td>single</td>\n",
       "      <td>rented</td>\n",
       "      <td>no</td>\n",
       "      <td>Firefighter</td>\n",
       "      <td>Maharashtra</td>\n",
       "      <td>5</td>\n",
       "      <td>10</td>\n",
       "    </tr>\n",
       "    <tr>\n",
       "      <th>2</th>\n",
       "      <td>3</td>\n",
       "      <td>3</td>\n",
       "      <td>2</td>\n",
       "      <td>2</td>\n",
       "      <td>single</td>\n",
       "      <td>rented</td>\n",
       "      <td>no</td>\n",
       "      <td>Lawyer</td>\n",
       "      <td>Maharashtra</td>\n",
       "      <td>9</td>\n",
       "      <td>14</td>\n",
       "    </tr>\n",
       "    <tr>\n",
       "      <th>3</th>\n",
       "      <td>4</td>\n",
       "      <td>0</td>\n",
       "      <td>1</td>\n",
       "      <td>1</td>\n",
       "      <td>married</td>\n",
       "      <td>rented</td>\n",
       "      <td>yes</td>\n",
       "      <td>Analyst</td>\n",
       "      <td>Maharashtra</td>\n",
       "      <td>3</td>\n",
       "      <td>12</td>\n",
       "    </tr>\n",
       "    <tr>\n",
       "      <th>4</th>\n",
       "      <td>5</td>\n",
       "      <td>0</td>\n",
       "      <td>0</td>\n",
       "      <td>3</td>\n",
       "      <td>single</td>\n",
       "      <td>rented</td>\n",
       "      <td>yes</td>\n",
       "      <td>Comedian</td>\n",
       "      <td>West Bengal</td>\n",
       "      <td>13</td>\n",
       "      <td>11</td>\n",
       "    </tr>\n",
       "  </tbody>\n",
       "</table>\n",
       "</div>"
      ],
      "text/plain": [
       "   id  income  age  experience  married house_ownership car_ownership  \\\n",
       "0   1       2    2           3   single          rented            no   \n",
       "1   2       0    0           1   single          rented            no   \n",
       "2   3       3    2           2   single          rented            no   \n",
       "3   4       0    1           1  married          rented           yes   \n",
       "4   5       0    0           3   single          rented           yes   \n",
       "\n",
       "    profession        state  current_job_years  current_house_years  \n",
       "0    Geologist  West Bengal                  4                   13  \n",
       "1  Firefighter  Maharashtra                  5                   10  \n",
       "2       Lawyer  Maharashtra                  9                   14  \n",
       "3      Analyst  Maharashtra                  3                   12  \n",
       "4     Comedian  West Bengal                 13                   11  "
      ]
     },
     "execution_count": 53,
     "metadata": {},
     "output_type": "execute_result"
    }
   ],
   "source": [
    "test_data.head()"
   ]
  },
  {
   "cell_type": "markdown",
   "id": "82381618",
   "metadata": {
    "papermill": {
     "duration": 0.120521,
     "end_time": "2021-08-16T10:44:43.254437",
     "exception": false,
     "start_time": "2021-08-16T10:44:43.133916",
     "status": "completed"
    },
    "tags": []
   },
   "source": [
    "# Data Preprocessing"
   ]
  },
  {
   "cell_type": "markdown",
   "id": "80ea87e0",
   "metadata": {
    "papermill": {
     "duration": 0.120923,
     "end_time": "2021-08-16T10:44:43.495680",
     "exception": false,
     "start_time": "2021-08-16T10:44:43.374757",
     "status": "completed"
    },
    "tags": []
   },
   "source": [
    "**removing the employee_id colum**"
   ]
  },
  {
   "cell_type": "code",
   "execution_count": 54,
   "id": "632f4b00",
   "metadata": {
    "execution": {
     "iopub.execute_input": "2021-08-16T10:44:43.762381Z",
     "iopub.status.busy": "2021-08-16T10:44:43.761705Z",
     "iopub.status.idle": "2021-08-16T10:44:43.767192Z",
     "shell.execute_reply": "2021-08-16T10:44:43.766549Z",
     "shell.execute_reply.started": "2021-08-16T10:14:40.757824Z"
    },
    "papermill": {
     "duration": 0.148962,
     "end_time": "2021-08-16T10:44:43.767327",
     "exception": false,
     "start_time": "2021-08-16T10:44:43.618365",
     "status": "completed"
    },
    "tags": []
   },
   "outputs": [
    {
     "data": {
      "text/plain": [
       "Index(['income', 'age', 'experience', 'married', 'house_ownership',\n",
       "       'car_ownership', 'profession', 'state', 'current_job_years',\n",
       "       'current_house_years', 'risk_flag'],\n",
       "      dtype='object')"
      ]
     },
     "execution_count": 54,
     "metadata": {},
     "output_type": "execute_result"
    }
   ],
   "source": [
    "\n",
    "train_data.drop(columns=['Id'],inplace=True)\n",
    "\n",
    "train_data.columns"
   ]
  },
  {
   "cell_type": "code",
   "execution_count": 55,
   "id": "3b927803",
   "metadata": {
    "execution": {
     "iopub.execute_input": "2021-08-16T10:44:44.017510Z",
     "iopub.status.busy": "2021-08-16T10:44:44.016885Z",
     "iopub.status.idle": "2021-08-16T10:44:44.029706Z",
     "shell.execute_reply": "2021-08-16T10:44:44.029194Z",
     "shell.execute_reply.started": "2021-08-16T10:14:40.791858Z"
    },
    "papermill": {
     "duration": 0.139465,
     "end_time": "2021-08-16T10:44:44.029855",
     "exception": false,
     "start_time": "2021-08-16T10:44:43.890390",
     "status": "completed"
    },
    "tags": []
   },
   "outputs": [
    {
     "data": {
      "text/html": [
       "<div>\n",
       "<style scoped>\n",
       "    .dataframe tbody tr th:only-of-type {\n",
       "        vertical-align: middle;\n",
       "    }\n",
       "\n",
       "    .dataframe tbody tr th {\n",
       "        vertical-align: top;\n",
       "    }\n",
       "\n",
       "    .dataframe thead th {\n",
       "        text-align: right;\n",
       "    }\n",
       "</style>\n",
       "<table border=\"1\" class=\"dataframe\">\n",
       "  <thead>\n",
       "    <tr style=\"text-align: right;\">\n",
       "      <th></th>\n",
       "      <th>income</th>\n",
       "      <th>age</th>\n",
       "      <th>experience</th>\n",
       "      <th>married</th>\n",
       "      <th>house_ownership</th>\n",
       "      <th>car_ownership</th>\n",
       "      <th>profession</th>\n",
       "      <th>state</th>\n",
       "      <th>current_job_years</th>\n",
       "      <th>current_house_years</th>\n",
       "      <th>risk_flag</th>\n",
       "    </tr>\n",
       "  </thead>\n",
       "  <tbody>\n",
       "    <tr>\n",
       "      <th>0</th>\n",
       "      <td>0</td>\n",
       "      <td>0</td>\n",
       "      <td>0</td>\n",
       "      <td>single</td>\n",
       "      <td>rented</td>\n",
       "      <td>no</td>\n",
       "      <td>Mechanical_engineer</td>\n",
       "      <td>Madhya_Pradesh</td>\n",
       "      <td>3</td>\n",
       "      <td>13</td>\n",
       "      <td>0</td>\n",
       "    </tr>\n",
       "    <tr>\n",
       "      <th>1</th>\n",
       "      <td>3</td>\n",
       "      <td>1</td>\n",
       "      <td>2</td>\n",
       "      <td>single</td>\n",
       "      <td>rented</td>\n",
       "      <td>no</td>\n",
       "      <td>Software_Developer</td>\n",
       "      <td>Maharashtra</td>\n",
       "      <td>9</td>\n",
       "      <td>13</td>\n",
       "      <td>0</td>\n",
       "    </tr>\n",
       "    <tr>\n",
       "      <th>2</th>\n",
       "      <td>1</td>\n",
       "      <td>3</td>\n",
       "      <td>0</td>\n",
       "      <td>married</td>\n",
       "      <td>rented</td>\n",
       "      <td>no</td>\n",
       "      <td>Technical_writer</td>\n",
       "      <td>Kerala</td>\n",
       "      <td>4</td>\n",
       "      <td>10</td>\n",
       "      <td>0</td>\n",
       "    </tr>\n",
       "    <tr>\n",
       "      <th>3</th>\n",
       "      <td>2</td>\n",
       "      <td>1</td>\n",
       "      <td>0</td>\n",
       "      <td>single</td>\n",
       "      <td>rented</td>\n",
       "      <td>yes</td>\n",
       "      <td>Software_Developer</td>\n",
       "      <td>Odisha</td>\n",
       "      <td>2</td>\n",
       "      <td>12</td>\n",
       "      <td>1</td>\n",
       "    </tr>\n",
       "    <tr>\n",
       "      <th>4</th>\n",
       "      <td>2</td>\n",
       "      <td>1</td>\n",
       "      <td>2</td>\n",
       "      <td>single</td>\n",
       "      <td>rented</td>\n",
       "      <td>no</td>\n",
       "      <td>Civil_servant</td>\n",
       "      <td>Tamil_Nadu</td>\n",
       "      <td>3</td>\n",
       "      <td>14</td>\n",
       "      <td>1</td>\n",
       "    </tr>\n",
       "  </tbody>\n",
       "</table>\n",
       "</div>"
      ],
      "text/plain": [
       "   income  age  experience  married house_ownership car_ownership  \\\n",
       "0       0    0           0   single          rented            no   \n",
       "1       3    1           2   single          rented            no   \n",
       "2       1    3           0  married          rented            no   \n",
       "3       2    1           0   single          rented           yes   \n",
       "4       2    1           2   single          rented            no   \n",
       "\n",
       "            profession           state  current_job_years  \\\n",
       "0  Mechanical_engineer  Madhya_Pradesh                  3   \n",
       "1   Software_Developer     Maharashtra                  9   \n",
       "2     Technical_writer          Kerala                  4   \n",
       "3   Software_Developer          Odisha                  2   \n",
       "4        Civil_servant      Tamil_Nadu                  3   \n",
       "\n",
       "   current_house_years  risk_flag  \n",
       "0                   13          0  \n",
       "1                   13          0  \n",
       "2                   10          0  \n",
       "3                   12          1  \n",
       "4                   14          1  "
      ]
     },
     "execution_count": 55,
     "metadata": {},
     "output_type": "execute_result"
    }
   ],
   "source": [
    "train_data.head()"
   ]
  },
  {
   "cell_type": "markdown",
   "id": "5b74d3d9",
   "metadata": {
    "papermill": {
     "duration": 0.1208,
     "end_time": "2021-08-16T10:44:44.274920",
     "exception": false,
     "start_time": "2021-08-16T10:44:44.154120",
     "status": "completed"
    },
    "tags": []
   },
   "source": [
    "**saving the employee_id for further usage**"
   ]
  },
  {
   "cell_type": "code",
   "execution_count": 56,
   "id": "d6ae9940",
   "metadata": {
    "execution": {
     "iopub.execute_input": "2021-08-16T10:44:44.526295Z",
     "iopub.status.busy": "2021-08-16T10:44:44.525617Z",
     "iopub.status.idle": "2021-08-16T10:44:44.528661Z",
     "shell.execute_reply": "2021-08-16T10:44:44.529172Z",
     "shell.execute_reply.started": "2021-08-16T10:14:40.808959Z"
    },
    "papermill": {
     "duration": 0.13332,
     "end_time": "2021-08-16T10:44:44.529349",
     "exception": false,
     "start_time": "2021-08-16T10:44:44.396029",
     "status": "completed"
    },
    "tags": []
   },
   "outputs": [
    {
     "data": {
      "text/plain": [
       "Index(['income', 'age', 'experience', 'married', 'house_ownership',\n",
       "       'car_ownership', 'profession', 'state', 'current_job_years',\n",
       "       'current_house_years'],\n",
       "      dtype='object')"
      ]
     },
     "execution_count": 56,
     "metadata": {},
     "output_type": "execute_result"
    }
   ],
   "source": [
    "\n",
    "\n",
    "emp_id = test_data['id']\n",
    "\n",
    "# removing the employee_id column\n",
    "\n",
    "test_data = test_data.drop(['id'], axis = 1)\n",
    "\n",
    "test_data.columns"
   ]
  },
  {
   "cell_type": "markdown",
   "id": "4e688b33",
   "metadata": {
    "papermill": {
     "duration": 0.122273,
     "end_time": "2021-08-16T10:44:44.773457",
     "exception": false,
     "start_time": "2021-08-16T10:44:44.651184",
     "status": "completed"
    },
    "tags": []
   },
   "source": [
    "**Test Set Creation**"
   ]
  },
  {
   "cell_type": "code",
   "execution_count": 57,
   "id": "ca25b478",
   "metadata": {
    "execution": {
     "iopub.execute_input": "2021-08-16T10:44:45.021169Z",
     "iopub.status.busy": "2021-08-16T10:44:45.020479Z",
     "iopub.status.idle": "2021-08-16T10:44:45.026545Z",
     "shell.execute_reply": "2021-08-16T10:44:45.026041Z",
     "shell.execute_reply.started": "2021-08-16T10:14:40.825502Z"
    },
    "papermill": {
     "duration": 0.131376,
     "end_time": "2021-08-16T10:44:45.026710",
     "exception": false,
     "start_time": "2021-08-16T10:44:44.895334",
     "status": "completed"
    },
    "tags": []
   },
   "outputs": [
    {
     "data": {
      "text/plain": [
       "Index(['income', 'age', 'experience', 'married', 'house_ownership',\n",
       "       'car_ownership', 'profession', 'state', 'current_job_years',\n",
       "       'current_house_years'],\n",
       "      dtype='object')"
      ]
     },
     "execution_count": 57,
     "metadata": {},
     "output_type": "execute_result"
    }
   ],
   "source": [
    "\n",
    "\n",
    "x_test = test_data\n",
    "\n",
    "x_test.columns"
   ]
  },
  {
   "cell_type": "markdown",
   "id": "8aecdc3b",
   "metadata": {
    "papermill": {
     "duration": 0.123018,
     "end_time": "2021-08-16T10:44:45.273817",
     "exception": false,
     "start_time": "2021-08-16T10:44:45.150799",
     "status": "completed"
    },
    "tags": []
   },
   "source": [
    "**One hot encoder for handiling Categorical Data**"
   ]
  },
  {
   "cell_type": "code",
   "execution_count": 58,
   "id": "ca7a9eec",
   "metadata": {
    "execution": {
     "iopub.execute_input": "2021-08-16T10:44:45.532313Z",
     "iopub.status.busy": "2021-08-16T10:44:45.531635Z",
     "iopub.status.idle": "2021-08-16T10:44:45.563576Z",
     "shell.execute_reply": "2021-08-16T10:44:45.564123Z",
     "shell.execute_reply.started": "2021-08-16T10:14:40.836278Z"
    },
    "papermill": {
     "duration": 0.166297,
     "end_time": "2021-08-16T10:44:45.564317",
     "exception": false,
     "start_time": "2021-08-16T10:44:45.398020",
     "status": "completed"
    },
    "tags": []
   },
   "outputs": [
    {
     "data": {
      "text/plain": [
       "Index(['income', 'age', 'experience', 'current_job_years',\n",
       "       'current_house_years', 'married_married', 'married_single',\n",
       "       'house_ownership_norent_noown', 'house_ownership_owned',\n",
       "       'house_ownership_rented', 'car_ownership_no', 'car_ownership_yes',\n",
       "       'profession_Air traffic controller', 'profession_Analyst',\n",
       "       'profession_Architect', 'profession_Army officer', 'profession_Artist',\n",
       "       'profession_Aviator', 'profession_Biomedical Engineer',\n",
       "       'profession_Chartered Accountant', 'profession_Chef',\n",
       "       'profession_Chemical engineer', 'profession_Civil engineer',\n",
       "       'profession_Civil servant', 'profession_Comedian',\n",
       "       'profession_Computer hardware engineer', 'profession_Computer operator',\n",
       "       'profession_Consultant', 'profession_Dentist',\n",
       "       'profession_Design Engineer', 'profession_Designer',\n",
       "       'profession_Drafter', 'profession_Economist', 'profession_Engineer',\n",
       "       'profession_Fashion Designer', 'profession_Financial Analyst',\n",
       "       'profession_Firefighter', 'profession_Flight attendant',\n",
       "       'profession_Geologist', 'profession_Graphic Designer',\n",
       "       'profession_Hotel Manager', 'profession_Industrial Engineer',\n",
       "       'profession_Lawyer', 'profession_Librarian', 'profession_Magistrate',\n",
       "       'profession_Mechanical engineer', 'profession_Microbiologist',\n",
       "       'profession_Official', 'profession_Petroleum Engineer',\n",
       "       'profession_Physician', 'profession_Police officer',\n",
       "       'profession_Politician', 'profession_Psychologist',\n",
       "       'profession_Scientist', 'profession_Secretary',\n",
       "       'profession_Software Developer', 'profession_Statistician',\n",
       "       'profession_Surgeon', 'profession_Surveyor',\n",
       "       'profession_Technical writer', 'profession_Technician',\n",
       "       'profession_Technology specialist', 'profession_Web designer',\n",
       "       'state_Andhra Pradesh', 'state_Assam', 'state_Bihar',\n",
       "       'state_Chandigarh', 'state_Chhattisgarh', 'state_Delhi',\n",
       "       'state_Gujarat', 'state_Haryana', 'state_Himachal Pradesh',\n",
       "       'state_Jammu and Kashmir', 'state_Jharkhand', 'state_Karnataka',\n",
       "       'state_Kerala', 'state_Madhya Pradesh', 'state_Maharashtra',\n",
       "       'state_Manipur', 'state_Mizoram', 'state_Odisha', 'state_Puducherry',\n",
       "       'state_Punjab', 'state_Rajasthan', 'state_Sikkim', 'state_Tamil Nadu',\n",
       "       'state_Telangana', 'state_Tripura', 'state_Uttar Pradesh',\n",
       "       'state_Uttar Pradesh[5]', 'state_Uttarakhand', 'state_West Bengal'],\n",
       "      dtype='object')"
      ]
     },
     "execution_count": 58,
     "metadata": {},
     "output_type": "execute_result"
    }
   ],
   "source": [
    "\n",
    "\n",
    "x_test = pd.get_dummies(x_test)\n",
    "\n",
    "x_test.columns"
   ]
  },
  {
   "cell_type": "markdown",
   "id": "023efc2d",
   "metadata": {
    "papermill": {
     "duration": 0.122336,
     "end_time": "2021-08-16T10:44:45.815640",
     "exception": false,
     "start_time": "2021-08-16T10:44:45.693304",
     "status": "completed"
    },
    "tags": []
   },
   "source": [
    "**Spllitting of training set**"
   ]
  },
  {
   "cell_type": "code",
   "execution_count": 59,
   "id": "a389b102",
   "metadata": {
    "execution": {
     "iopub.execute_input": "2021-08-16T10:44:46.065286Z",
     "iopub.status.busy": "2021-08-16T10:44:46.064671Z",
     "iopub.status.idle": "2021-08-16T10:44:46.089704Z",
     "shell.execute_reply": "2021-08-16T10:44:46.090408Z",
     "shell.execute_reply.started": "2021-08-16T10:14:40.880423Z"
    },
    "papermill": {
     "duration": 0.151727,
     "end_time": "2021-08-16T10:44:46.090664",
     "exception": false,
     "start_time": "2021-08-16T10:44:45.938937",
     "status": "completed"
    },
    "tags": []
   },
   "outputs": [
    {
     "name": "stdout",
     "output_type": "stream",
     "text": [
      "Shape of x: (252000, 10)\n",
      "Shape of y: (252000,)\n"
     ]
    }
   ],
   "source": [
    "\n",
    "\n",
    "x = train_data.iloc[:, :-1]\n",
    "y = train_data.iloc[:, -1]\n",
    "\n",
    "print(\"Shape of x:\", x.shape)\n",
    "print(\"Shape of y:\", y.shape)"
   ]
  },
  {
   "cell_type": "code",
   "execution_count": 60,
   "id": "c217f787",
   "metadata": {
    "execution": {
     "iopub.execute_input": "2021-08-16T10:44:46.371142Z",
     "iopub.status.busy": "2021-08-16T10:44:46.354918Z",
     "iopub.status.idle": "2021-08-16T10:44:46.565300Z",
     "shell.execute_reply": "2021-08-16T10:44:46.564720Z",
     "shell.execute_reply.started": "2021-08-16T10:14:40.908953Z"
    },
    "papermill": {
     "duration": 0.347283,
     "end_time": "2021-08-16T10:44:46.565449",
     "exception": false,
     "start_time": "2021-08-16T10:44:46.218166",
     "status": "completed"
    },
    "tags": []
   },
   "outputs": [
    {
     "data": {
      "text/plain": [
       "Index(['income', 'age', 'experience', 'current_job_years',\n",
       "       'current_house_years', 'married_married', 'married_single',\n",
       "       'house_ownership_norent_noown', 'house_ownership_owned',\n",
       "       'house_ownership_rented', 'car_ownership_no', 'car_ownership_yes',\n",
       "       'profession_Air_traffic_controller', 'profession_Analyst',\n",
       "       'profession_Architect', 'profession_Army_officer', 'profession_Artist',\n",
       "       'profession_Aviator', 'profession_Biomedical_Engineer',\n",
       "       'profession_Chartered_Accountant', 'profession_Chef',\n",
       "       'profession_Chemical_engineer', 'profession_Civil_engineer',\n",
       "       'profession_Civil_servant', 'profession_Comedian',\n",
       "       'profession_Computer_hardware_engineer', 'profession_Computer_operator',\n",
       "       'profession_Consultant', 'profession_Dentist',\n",
       "       'profession_Design_Engineer', 'profession_Designer',\n",
       "       'profession_Drafter', 'profession_Economist', 'profession_Engineer',\n",
       "       'profession_Fashion_Designer', 'profession_Financial_Analyst',\n",
       "       'profession_Firefighter', 'profession_Flight_attendant',\n",
       "       'profession_Geologist', 'profession_Graphic_Designer',\n",
       "       'profession_Hotel_Manager', 'profession_Industrial_Engineer',\n",
       "       'profession_Lawyer', 'profession_Librarian', 'profession_Magistrate',\n",
       "       'profession_Mechanical_engineer', 'profession_Microbiologist',\n",
       "       'profession_Official', 'profession_Petroleum_Engineer',\n",
       "       'profession_Physician', 'profession_Police_officer',\n",
       "       'profession_Politician', 'profession_Psychologist',\n",
       "       'profession_Scientist', 'profession_Secretary',\n",
       "       'profession_Software_Developer', 'profession_Statistician',\n",
       "       'profession_Surgeon', 'profession_Surveyor',\n",
       "       'profession_Technical_writer', 'profession_Technician',\n",
       "       'profession_Technology_specialist', 'profession_Web_designer',\n",
       "       'state_Andhra_Pradesh', 'state_Assam', 'state_Bihar',\n",
       "       'state_Chandigarh', 'state_Chhattisgarh', 'state_Delhi',\n",
       "       'state_Gujarat', 'state_Haryana', 'state_Himachal_Pradesh',\n",
       "       'state_Jammu_and_Kashmir', 'state_Jharkhand', 'state_Karnataka',\n",
       "       'state_Kerala', 'state_Madhya_Pradesh', 'state_Maharashtra',\n",
       "       'state_Manipur', 'state_Mizoram', 'state_Odisha', 'state_Puducherry',\n",
       "       'state_Punjab', 'state_Rajasthan', 'state_Sikkim', 'state_Tamil_Nadu',\n",
       "       'state_Telangana', 'state_Tripura', 'state_Uttar_Pradesh',\n",
       "       'state_Uttar_Pradesh[5]', 'state_Uttarakhand', 'state_West_Bengal'],\n",
       "      dtype='object')"
      ]
     },
     "execution_count": 60,
     "metadata": {},
     "output_type": "execute_result"
    }
   ],
   "source": [
    "\n",
    "\n",
    "x = pd.get_dummies(x)\n",
    "\n",
    "x.columns"
   ]
  },
  {
   "cell_type": "markdown",
   "id": "4b601fc0",
   "metadata": {
    "papermill": {
     "duration": 0.123147,
     "end_time": "2021-08-16T10:44:46.813077",
     "exception": false,
     "start_time": "2021-08-16T10:44:46.689930",
     "status": "completed"
    },
    "tags": []
   },
   "source": [
    "**Oversampling of model**"
   ]
  },
  {
   "cell_type": "code",
   "execution_count": 61,
   "id": "4094da83",
   "metadata": {
    "execution": {
     "iopub.execute_input": "2021-08-16T10:44:47.073720Z",
     "iopub.status.busy": "2021-08-16T10:44:47.067995Z",
     "iopub.status.idle": "2021-08-16T10:45:00.997843Z",
     "shell.execute_reply": "2021-08-16T10:45:00.996270Z",
     "shell.execute_reply.started": "2021-08-16T10:14:41.133121Z"
    },
    "papermill": {
     "duration": 14.059154,
     "end_time": "2021-08-16T10:45:00.998036",
     "exception": false,
     "start_time": "2021-08-16T10:44:46.938882",
     "status": "completed"
    },
    "tags": []
   },
   "outputs": [
    {
     "name": "stdout",
     "output_type": "stream",
     "text": [
      "Collecting imblearn\r\n",
      "  Downloading imblearn-0.0-py2.py3-none-any.whl (1.9 kB)\r\n",
      "Requirement already satisfied: imbalanced-learn in /opt/conda/lib/python3.7/site-packages (from imblearn) (0.8.0)\r\n",
      "Collecting scikit-learn>=0.24\r\n",
      "  Downloading scikit_learn-0.24.2-cp37-cp37m-manylinux2010_x86_64.whl (22.3 MB)\r\n",
      "\u001b[K     |████████████████████████████████| 22.3 MB 146 kB/s \r\n",
      "\u001b[?25hRequirement already satisfied: numpy>=1.13.3 in /opt/conda/lib/python3.7/site-packages (from imbalanced-learn->imblearn) (1.19.5)\r\n",
      "Requirement already satisfied: scipy>=0.19.1 in /opt/conda/lib/python3.7/site-packages (from imbalanced-learn->imblearn) (1.6.3)\r\n",
      "Requirement already satisfied: joblib>=0.11 in /opt/conda/lib/python3.7/site-packages (from imbalanced-learn->imblearn) (1.0.1)\r\n",
      "Requirement already satisfied: threadpoolctl>=2.0.0 in /opt/conda/lib/python3.7/site-packages (from scikit-learn>=0.24->imbalanced-learn->imblearn) (2.1.0)\r\n",
      "Installing collected packages: scikit-learn, imblearn\r\n",
      "  Attempting uninstall: scikit-learn\r\n",
      "    Found existing installation: scikit-learn 0.23.2\r\n",
      "    Uninstalling scikit-learn-0.23.2:\r\n",
      "      Successfully uninstalled scikit-learn-0.23.2\r\n",
      "\u001b[31mERROR: pip's dependency resolver does not currently take into account all the packages that are installed. This behaviour is the source of the following dependency conflicts.\r\n",
      "pyldavis 3.3.1 requires numpy>=1.20.0, but you have numpy 1.19.5 which is incompatible.\r\n",
      "pdpbox 0.2.1 requires matplotlib==3.1.1, but you have matplotlib 3.4.2 which is incompatible.\r\n",
      "hypertools 0.7.0 requires scikit-learn!=0.22,<0.24,>=0.19.1, but you have scikit-learn 0.24.2 which is incompatible.\u001b[0m\r\n",
      "Successfully installed imblearn-0.0 scikit-learn-0.24.2\r\n",
      "\u001b[33mWARNING: Running pip as root will break packages and permissions. You should install packages reliably by using venv: https://pip.pypa.io/warnings/venv\u001b[0m\r\n",
      "Note: you may need to restart the kernel to use updated packages.\n"
     ]
    }
   ],
   "source": [
    "pip install imblearn"
   ]
  },
  {
   "cell_type": "code",
   "execution_count": 62,
   "id": "cddd7be1",
   "metadata": {
    "execution": {
     "iopub.execute_input": "2021-08-16T10:45:01.293132Z",
     "iopub.status.busy": "2021-08-16T10:45:01.292460Z",
     "iopub.status.idle": "2021-08-16T10:45:22.075186Z",
     "shell.execute_reply": "2021-08-16T10:45:22.074276Z",
     "shell.execute_reply.started": "2021-08-16T10:14:54.885229Z"
    },
    "papermill": {
     "duration": 20.931239,
     "end_time": "2021-08-16T10:45:22.075391",
     "exception": false,
     "start_time": "2021-08-16T10:45:01.144152",
     "status": "completed"
    },
    "tags": []
   },
   "outputs": [
    {
     "name": "stdout",
     "output_type": "stream",
     "text": [
      "Size of x-sample : (442008, 92)\n",
      "Size of y-sample : (442008, 1)\n"
     ]
    }
   ],
   "source": [
    "from imblearn.over_sampling import SMOTE\n",
    "\n",
    "x_sample, y_sample = SMOTE().fit_resample(x, y.values.ravel())\n",
    "\n",
    "x_sample = pd.DataFrame(x_sample)\n",
    "y_sample = pd.DataFrame(y_sample)\n",
    "\n",
    "# checking the sizes of the sample data\n",
    "print(\"Size of x-sample :\", x_sample.shape)\n",
    "print(\"Size of y-sample :\", y_sample.shape)"
   ]
  },
  {
   "cell_type": "markdown",
   "id": "0e2e87f8",
   "metadata": {
    "papermill": {
     "duration": 0.140022,
     "end_time": "2021-08-16T10:45:22.357478",
     "exception": false,
     "start_time": "2021-08-16T10:45:22.217456",
     "status": "completed"
    },
    "tags": []
   },
   "source": [
    "**splitting x and y into train and validation sets**"
   ]
  },
  {
   "cell_type": "code",
   "execution_count": 63,
   "id": "d5d0a579",
   "metadata": {
    "execution": {
     "iopub.execute_input": "2021-08-16T10:45:22.647705Z",
     "iopub.status.busy": "2021-08-16T10:45:22.646836Z",
     "iopub.status.idle": "2021-08-16T10:45:22.981547Z",
     "shell.execute_reply": "2021-08-16T10:45:22.980941Z",
     "shell.execute_reply.started": "2021-08-16T10:15:20.025808Z"
    },
    "papermill": {
     "duration": 0.484261,
     "end_time": "2021-08-16T10:45:22.981702",
     "exception": false,
     "start_time": "2021-08-16T10:45:22.497441",
     "status": "completed"
    },
    "tags": []
   },
   "outputs": [
    {
     "name": "stdout",
     "output_type": "stream",
     "text": [
      "Shape of x_train:  (353606, 92)\n",
      "Shape of x_valid:  (88402, 92)\n",
      "Shape of y_train:  (353606, 1)\n",
      "Shape of y_valid:  (88402, 1)\n"
     ]
    }
   ],
   "source": [
    "\n",
    "\n",
    "\n",
    "from sklearn.model_selection import train_test_split\n",
    "\n",
    "x_train, x_valid, y_train, y_valid = train_test_split(x_sample, y_sample, test_size = 0.2, random_state = 0)\n",
    "\n",
    "print(\"Shape of x_train: \", x_train.shape)\n",
    "print(\"Shape of x_valid: \", x_valid.shape)\n",
    "print(\"Shape of y_train: \", y_train.shape)\n",
    "print(\"Shape of y_valid: \", y_valid.shape)"
   ]
  },
  {
   "cell_type": "markdown",
   "id": "178fbff5",
   "metadata": {
    "papermill": {
     "duration": 0.141229,
     "end_time": "2021-08-16T10:45:23.264576",
     "exception": false,
     "start_time": "2021-08-16T10:45:23.123347",
     "status": "completed"
    },
    "tags": []
   },
   "source": [
    "**standard scaling**"
   ]
  },
  {
   "cell_type": "code",
   "execution_count": 64,
   "id": "b85dc52f",
   "metadata": {
    "execution": {
     "iopub.execute_input": "2021-08-16T10:45:23.572206Z",
     "iopub.status.busy": "2021-08-16T10:45:23.570756Z",
     "iopub.status.idle": "2021-08-16T10:45:24.694408Z",
     "shell.execute_reply": "2021-08-16T10:45:24.695038Z",
     "shell.execute_reply.started": "2021-08-16T10:15:20.426603Z"
    },
    "papermill": {
     "duration": 1.291055,
     "end_time": "2021-08-16T10:45:24.695275",
     "exception": false,
     "start_time": "2021-08-16T10:45:23.404220",
     "status": "completed"
    },
    "tags": []
   },
   "outputs": [],
   "source": [
    "\n",
    "\n",
    "from sklearn.preprocessing import StandardScaler\n",
    "\n",
    "sc = StandardScaler()\n",
    "x_train = sc.fit_transform(x_train)\n",
    "x_test  = sc.transform(x_test)\n",
    "x_valid = sc.transform(x_valid)"
   ]
  },
  {
   "cell_type": "markdown",
   "id": "5fdbf40c",
   "metadata": {
    "papermill": {
     "duration": 0.141321,
     "end_time": "2021-08-16T10:45:24.982434",
     "exception": false,
     "start_time": "2021-08-16T10:45:24.841113",
     "status": "completed"
    },
    "tags": []
   },
   "source": [
    "applying pca"
   ]
  },
  {
   "cell_type": "code",
   "execution_count": 65,
   "id": "95c64ce5",
   "metadata": {
    "execution": {
     "iopub.execute_input": "2021-08-16T10:45:25.276295Z",
     "iopub.status.busy": "2021-08-16T10:45:25.275552Z",
     "iopub.status.idle": "2021-08-16T10:45:27.051127Z",
     "shell.execute_reply": "2021-08-16T10:45:27.050180Z",
     "shell.execute_reply.started": "2021-08-16T10:15:22.128897Z"
    },
    "papermill": {
     "duration": 1.924682,
     "end_time": "2021-08-16T10:45:27.051345",
     "exception": false,
     "start_time": "2021-08-16T10:45:25.126663",
     "status": "completed"
    },
    "tags": []
   },
   "outputs": [],
   "source": [
    "\n",
    "\n",
    "from sklearn.decomposition import PCA\n",
    "\n",
    "pca = PCA(n_components = None)\n",
    "x_train = pca.fit_transform(x_train)\n",
    "x_test = pca.transform(x_test)\n",
    "x_valid = pca.transform(x_valid)\n"
   ]
  },
  {
   "cell_type": "markdown",
   "id": "c6d1725a",
   "metadata": {
    "papermill": {
     "duration": 0.143979,
     "end_time": "2021-08-16T10:45:27.396307",
     "exception": false,
     "start_time": "2021-08-16T10:45:27.252328",
     "status": "completed"
    },
    "tags": []
   },
   "source": [
    "# Modelling"
   ]
  },
  {
   "cell_type": "markdown",
   "id": "2d840989",
   "metadata": {
    "papermill": {
     "duration": 0.139441,
     "end_time": "2021-08-16T10:45:27.675517",
     "exception": false,
     "start_time": "2021-08-16T10:45:27.536076",
     "status": "completed"
    },
    "tags": []
   },
   "source": [
    "# 1) Random Forest Classifier"
   ]
  },
  {
   "cell_type": "code",
   "execution_count": 66,
   "id": "0013ca38",
   "metadata": {
    "execution": {
     "iopub.execute_input": "2021-08-16T10:45:27.996277Z",
     "iopub.status.busy": "2021-08-16T10:45:27.995474Z",
     "iopub.status.idle": "2021-08-16T10:50:40.004814Z",
     "shell.execute_reply": "2021-08-16T10:50:40.004147Z",
     "shell.execute_reply.started": "2021-08-16T10:15:24.281918Z"
    },
    "papermill": {
     "duration": 312.159601,
     "end_time": "2021-08-16T10:50:40.004987",
     "exception": false,
     "start_time": "2021-08-16T10:45:27.845386",
     "status": "completed"
    },
    "tags": []
   },
   "outputs": [
    {
     "name": "stderr",
     "output_type": "stream",
     "text": [
      "/opt/conda/lib/python3.7/site-packages/ipykernel_launcher.py:7: DataConversionWarning: A column-vector y was passed when a 1d array was expected. Please change the shape of y to (n_samples,), for example using ravel().\n",
      "  import sys\n"
     ]
    },
    {
     "name": "stdout",
     "output_type": "stream",
     "text": [
      "Training Accuracy : 0.957410224939622\n",
      "Validation Accuracy : 0.9403407162733874\n"
     ]
    }
   ],
   "source": [
    "from sklearn.ensemble import RandomForestClassifier\n",
    "from sklearn.metrics import confusion_matrix\n",
    "from sklearn.metrics import classification_report\n",
    "from sklearn.metrics import average_precision_score\n",
    "\n",
    "rfc = RandomForestClassifier()\n",
    "rfc.fit(x_train, y_train)\n",
    "\n",
    "rfc_pred = rfc.predict(x_test)\n",
    "\n",
    "print(\"Training Accuracy :\", rfc.score(x_train, y_train))\n",
    "\n",
    "print(\"Validation Accuracy :\", rfc.score(x_valid, y_valid))\n"
   ]
  },
  {
   "cell_type": "markdown",
   "id": "238ec7e4",
   "metadata": {
    "papermill": {
     "duration": 0.146491,
     "end_time": "2021-08-16T10:50:40.308057",
     "exception": false,
     "start_time": "2021-08-16T10:50:40.161566",
     "status": "completed"
    },
    "tags": []
   },
   "source": [
    " # 2) XG Boost Classifier"
   ]
  },
  {
   "cell_type": "code",
   "execution_count": 67,
   "id": "9be2b89f",
   "metadata": {
    "execution": {
     "iopub.execute_input": "2021-08-16T10:50:40.600803Z",
     "iopub.status.busy": "2021-08-16T10:50:40.600054Z",
     "iopub.status.idle": "2021-08-16T10:52:56.197124Z",
     "shell.execute_reply": "2021-08-16T10:52:56.197676Z",
     "shell.execute_reply.started": "2021-08-16T10:21:08.447216Z"
    },
    "papermill": {
     "duration": 135.747353,
     "end_time": "2021-08-16T10:52:56.197875",
     "exception": false,
     "start_time": "2021-08-16T10:50:40.450522",
     "status": "completed"
    },
    "tags": []
   },
   "outputs": [
    {
     "name": "stderr",
     "output_type": "stream",
     "text": [
      "/opt/conda/lib/python3.7/site-packages/xgboost/sklearn.py:1146: UserWarning: The use of label encoder in XGBClassifier is deprecated and will be removed in a future release. To remove this warning, do the following: 1) Pass option use_label_encoder=False when constructing XGBClassifier object; and 2) Encode your labels (y) as integers starting with 0, i.e. 0, 1, 2, ..., [num_class - 1].\n",
      "  warnings.warn(label_encoder_deprecation_msg, UserWarning)\n",
      "/opt/conda/lib/python3.7/site-packages/sklearn/utils/validation.py:63: DataConversionWarning: A column-vector y was passed when a 1d array was expected. Please change the shape of y to (n_samples, ), for example using ravel().\n",
      "  return f(*args, **kwargs)\n"
     ]
    },
    {
     "name": "stdout",
     "output_type": "stream",
     "text": [
      "[10:50:43] WARNING: ../src/learner.cc:1095: Starting in XGBoost 1.3.0, the default evaluation metric used with the objective 'binary:logistic' was changed from 'error' to 'logloss'. Explicitly set eval_metric if you'd like to restore the old behavior.\n",
      "Training Accuracy : 0.9349190907394105\n",
      "Validation Accuracy : 0.9317549376710934\n"
     ]
    }
   ],
   "source": [
    "from xgboost.sklearn import XGBClassifier\n",
    "from sklearn.metrics import confusion_matrix\n",
    "from sklearn.metrics import classification_report\n",
    "from sklearn.metrics import average_precision_score\n",
    "\n",
    "xgb = XGBClassifier()\n",
    "xgb.fit(x_train, y_train)\n",
    "\n",
    "xgb_pred = xgb.predict(x_test)\n",
    "\n",
    "print(\"Training Accuracy :\", xgb.score(x_train, y_train))\n",
    "\n",
    "print(\"Validation Accuracy :\", xgb.score(x_valid, y_valid))\n",
    "\n",
    "\n"
   ]
  },
  {
   "cell_type": "markdown",
   "id": "f4c7cb50",
   "metadata": {
    "papermill": {
     "duration": 0.143744,
     "end_time": "2021-08-16T10:52:56.485928",
     "exception": false,
     "start_time": "2021-08-16T10:52:56.342184",
     "status": "completed"
    },
    "tags": []
   },
   "source": [
    "# 3)Light Gradient Boosting"
   ]
  },
  {
   "cell_type": "code",
   "execution_count": 68,
   "id": "e5bddd89",
   "metadata": {
    "execution": {
     "iopub.execute_input": "2021-08-16T10:52:56.778098Z",
     "iopub.status.busy": "2021-08-16T10:52:56.777421Z",
     "iopub.status.idle": "2021-08-16T10:53:04.083045Z",
     "shell.execute_reply": "2021-08-16T10:53:04.082463Z",
     "shell.execute_reply.started": "2021-08-16T10:23:36.158056Z"
    },
    "papermill": {
     "duration": 7.454326,
     "end_time": "2021-08-16T10:53:04.083187",
     "exception": false,
     "start_time": "2021-08-16T10:52:56.628861",
     "status": "completed"
    },
    "tags": []
   },
   "outputs": [
    {
     "name": "stdout",
     "output_type": "stream",
     "text": [
      "Requirement already satisfied: lightgbm in /opt/conda/lib/python3.7/site-packages (3.2.1)\r\n",
      "Requirement already satisfied: wheel in /opt/conda/lib/python3.7/site-packages (from lightgbm) (0.36.2)\r\n",
      "Requirement already satisfied: scipy in /opt/conda/lib/python3.7/site-packages (from lightgbm) (1.6.3)\r\n",
      "Requirement already satisfied: scikit-learn!=0.22.0 in /opt/conda/lib/python3.7/site-packages (from lightgbm) (0.24.2)\r\n",
      "Requirement already satisfied: numpy in /opt/conda/lib/python3.7/site-packages (from lightgbm) (1.19.5)\r\n",
      "Requirement already satisfied: joblib>=0.11 in /opt/conda/lib/python3.7/site-packages (from scikit-learn!=0.22.0->lightgbm) (1.0.1)\r\n",
      "Requirement already satisfied: threadpoolctl>=2.0.0 in /opt/conda/lib/python3.7/site-packages (from scikit-learn!=0.22.0->lightgbm) (2.1.0)\r\n",
      "\u001b[33mWARNING: Running pip as root will break packages and permissions. You should install packages reliably by using venv: https://pip.pypa.io/warnings/venv\u001b[0m\r\n",
      "Note: you may need to restart the kernel to use updated packages.\n"
     ]
    }
   ],
   "source": [
    "pip install lightgbm"
   ]
  },
  {
   "cell_type": "code",
   "execution_count": 69,
   "id": "62923b29",
   "metadata": {
    "execution": {
     "iopub.execute_input": "2021-08-16T10:53:04.393117Z",
     "iopub.status.busy": "2021-08-16T10:53:04.392263Z",
     "iopub.status.idle": "2021-08-16T10:53:16.929771Z",
     "shell.execute_reply": "2021-08-16T10:53:16.929153Z",
     "shell.execute_reply.started": "2021-08-16T10:23:43.456739Z"
    },
    "papermill": {
     "duration": 12.70171,
     "end_time": "2021-08-16T10:53:16.929930",
     "exception": false,
     "start_time": "2021-08-16T10:53:04.228220",
     "status": "completed"
    },
    "tags": []
   },
   "outputs": [
    {
     "data": {
      "text/html": [
       "<style type='text/css'>\n",
       ".datatable table.frame { margin-bottom: 0; }\n",
       ".datatable table.frame thead { border-bottom: none; }\n",
       ".datatable table.frame tr.coltypes td {  color: #FFFFFF;  line-height: 6px;  padding: 0 0.5em;}\n",
       ".datatable .bool    { background: #DDDD99; }\n",
       ".datatable .object  { background: #565656; }\n",
       ".datatable .int     { background: #5D9E5D; }\n",
       ".datatable .float   { background: #4040CC; }\n",
       ".datatable .str     { background: #CC4040; }\n",
       ".datatable .time    { background: #40CC40; }\n",
       ".datatable .row_index {  background: var(--jp-border-color3);  border-right: 1px solid var(--jp-border-color0);  color: var(--jp-ui-font-color3);  font-size: 9px;}\n",
       ".datatable .frame tbody td { text-align: left; }\n",
       ".datatable .frame tr.coltypes .row_index {  background: var(--jp-border-color0);}\n",
       ".datatable th:nth-child(2) { padding-left: 12px; }\n",
       ".datatable .hellipsis {  color: var(--jp-cell-editor-border-color);}\n",
       ".datatable .vellipsis {  background: var(--jp-layout-color0);  color: var(--jp-cell-editor-border-color);}\n",
       ".datatable .na {  color: var(--jp-cell-editor-border-color);  font-size: 80%;}\n",
       ".datatable .sp {  opacity: 0.25;}\n",
       ".datatable .footer { font-size: 9px; }\n",
       ".datatable .frame_dimensions {  background: var(--jp-border-color3);  border-top: 1px solid var(--jp-border-color0);  color: var(--jp-ui-font-color3);  display: inline-block;  opacity: 0.6;  padding: 1px 10px 1px 5px;}\n",
       "</style>\n"
      ],
      "text/plain": [
       "<IPython.core.display.HTML object>"
      ]
     },
     "metadata": {},
     "output_type": "display_data"
    },
    {
     "name": "stderr",
     "output_type": "stream",
     "text": [
      "/opt/conda/lib/python3.7/site-packages/sklearn/utils/validation.py:63: DataConversionWarning: A column-vector y was passed when a 1d array was expected. Please change the shape of y to (n_samples, ), for example using ravel().\n",
      "  return f(*args, **kwargs)\n"
     ]
    },
    {
     "name": "stdout",
     "output_type": "stream",
     "text": [
      "Training Accuracy : 0.9127192411893463\n",
      "Validation Accuracy : 0.9111558562023484\n"
     ]
    }
   ],
   "source": [
    "from lightgbm import LGBMClassifier\n",
    "from sklearn.metrics import confusion_matrix\n",
    "from sklearn.metrics import classification_report\n",
    "from sklearn.metrics import average_precision_score\n",
    "\n",
    "lgb = LGBMClassifier()\n",
    "lgb.fit(x_train, y_train)\n",
    "\n",
    "lgb_pred = lgb.predict(x_test)\n",
    "\n",
    "print(\"Training Accuracy :\", lgb.score(x_train, y_train))\n",
    "\n",
    "print(\"Validation Accuracy :\", lgb.score(x_valid, y_valid))\n",
    "\n"
   ]
  },
  {
   "cell_type": "markdown",
   "id": "41f7fee9",
   "metadata": {
    "papermill": {
     "duration": 0.146249,
     "end_time": "2021-08-16T10:53:17.222637",
     "exception": false,
     "start_time": "2021-08-16T10:53:17.076388",
     "status": "completed"
    },
    "tags": []
   },
   "source": [
    "# 4) CAT boost"
   ]
  },
  {
   "cell_type": "code",
   "execution_count": 70,
   "id": "2e53f4d1",
   "metadata": {
    "execution": {
     "iopub.execute_input": "2021-08-16T10:53:17.529078Z",
     "iopub.status.busy": "2021-08-16T10:53:17.519035Z",
     "iopub.status.idle": "2021-08-16T10:53:24.730887Z",
     "shell.execute_reply": "2021-08-16T10:53:24.730210Z",
     "shell.execute_reply.started": "2021-08-16T10:23:56.375811Z"
    },
    "papermill": {
     "duration": 7.362742,
     "end_time": "2021-08-16T10:53:24.731031",
     "exception": false,
     "start_time": "2021-08-16T10:53:17.368289",
     "status": "completed"
    },
    "tags": []
   },
   "outputs": [
    {
     "name": "stdout",
     "output_type": "stream",
     "text": [
      "Requirement already satisfied: catboost in /opt/conda/lib/python3.7/site-packages (0.26)\r\n",
      "Requirement already satisfied: scipy in /opt/conda/lib/python3.7/site-packages (from catboost) (1.6.3)\r\n",
      "Requirement already satisfied: six in /opt/conda/lib/python3.7/site-packages (from catboost) (1.15.0)\r\n",
      "Requirement already satisfied: graphviz in /opt/conda/lib/python3.7/site-packages (from catboost) (0.8.4)\r\n",
      "Requirement already satisfied: matplotlib in /opt/conda/lib/python3.7/site-packages (from catboost) (3.4.2)\r\n",
      "Requirement already satisfied: numpy>=1.16.0 in /opt/conda/lib/python3.7/site-packages (from catboost) (1.19.5)\r\n",
      "Requirement already satisfied: plotly in /opt/conda/lib/python3.7/site-packages (from catboost) (5.1.0)\r\n",
      "Requirement already satisfied: pandas>=0.24.0 in /opt/conda/lib/python3.7/site-packages (from catboost) (1.2.4)\r\n",
      "Requirement already satisfied: python-dateutil>=2.7.3 in /opt/conda/lib/python3.7/site-packages (from pandas>=0.24.0->catboost) (2.8.1)\r\n",
      "Requirement already satisfied: pytz>=2017.3 in /opt/conda/lib/python3.7/site-packages (from pandas>=0.24.0->catboost) (2021.1)\r\n",
      "Requirement already satisfied: pyparsing>=2.2.1 in /opt/conda/lib/python3.7/site-packages (from matplotlib->catboost) (2.4.7)\r\n",
      "Requirement already satisfied: pillow>=6.2.0 in /opt/conda/lib/python3.7/site-packages (from matplotlib->catboost) (8.2.0)\r\n",
      "Requirement already satisfied: kiwisolver>=1.0.1 in /opt/conda/lib/python3.7/site-packages (from matplotlib->catboost) (1.3.1)\r\n",
      "Requirement already satisfied: cycler>=0.10 in /opt/conda/lib/python3.7/site-packages (from matplotlib->catboost) (0.10.0)\r\n",
      "Requirement already satisfied: tenacity>=6.2.0 in /opt/conda/lib/python3.7/site-packages (from plotly->catboost) (7.0.0)\r\n",
      "\u001b[33mWARNING: Running pip as root will break packages and permissions. You should install packages reliably by using venv: https://pip.pypa.io/warnings/venv\u001b[0m\r\n",
      "Note: you may need to restart the kernel to use updated packages.\n"
     ]
    }
   ],
   "source": [
    "pip install catboost"
   ]
  },
  {
   "cell_type": "code",
   "execution_count": 71,
   "id": "57fa146b",
   "metadata": {
    "execution": {
     "iopub.execute_input": "2021-08-16T10:53:25.037545Z",
     "iopub.status.busy": "2021-08-16T10:53:25.036875Z",
     "iopub.status.idle": "2021-08-16T10:55:53.107239Z",
     "shell.execute_reply": "2021-08-16T10:55:53.106679Z",
     "shell.execute_reply.started": "2021-08-16T10:24:03.706006Z"
    },
    "papermill": {
     "duration": 148.22731,
     "end_time": "2021-08-16T10:55:53.107403",
     "exception": false,
     "start_time": "2021-08-16T10:53:24.880093",
     "status": "completed"
    },
    "tags": []
   },
   "outputs": [
    {
     "name": "stdout",
     "output_type": "stream",
     "text": [
      "0:\tlearn: 0.6912563\ttotal: 172ms\tremaining: 2m 52s\n",
      "1:\tlearn: 0.6898170\ttotal: 278ms\tremaining: 2m 18s\n",
      "2:\tlearn: 0.6880933\ttotal: 393ms\tremaining: 2m 10s\n",
      "3:\tlearn: 0.6868092\ttotal: 511ms\tremaining: 2m 7s\n",
      "4:\tlearn: 0.6851337\ttotal: 628ms\tremaining: 2m 4s\n",
      "5:\tlearn: 0.6835984\ttotal: 741ms\tremaining: 2m 2s\n",
      "6:\tlearn: 0.6826129\ttotal: 866ms\tremaining: 2m 2s\n",
      "7:\tlearn: 0.6809387\ttotal: 973ms\tremaining: 2m\n",
      "8:\tlearn: 0.6794564\ttotal: 1.08s\tremaining: 1m 59s\n",
      "9:\tlearn: 0.6778895\ttotal: 1.21s\tremaining: 1m 59s\n",
      "10:\tlearn: 0.6765956\ttotal: 1.32s\tremaining: 1m 59s\n",
      "11:\tlearn: 0.6755051\ttotal: 1.5s\tremaining: 2m 3s\n",
      "12:\tlearn: 0.6740343\ttotal: 1.67s\tremaining: 2m 7s\n",
      "13:\tlearn: 0.6731136\ttotal: 1.85s\tremaining: 2m 10s\n",
      "14:\tlearn: 0.6722994\ttotal: 2.02s\tremaining: 2m 12s\n",
      "15:\tlearn: 0.6714303\ttotal: 2.19s\tremaining: 2m 14s\n",
      "16:\tlearn: 0.6704694\ttotal: 2.36s\tremaining: 2m 16s\n",
      "17:\tlearn: 0.6695902\ttotal: 2.52s\tremaining: 2m 17s\n",
      "18:\tlearn: 0.6686995\ttotal: 2.65s\tremaining: 2m 16s\n",
      "19:\tlearn: 0.6679186\ttotal: 2.77s\tremaining: 2m 15s\n",
      "20:\tlearn: 0.6667202\ttotal: 2.89s\tremaining: 2m 14s\n",
      "21:\tlearn: 0.6654121\ttotal: 3s\tremaining: 2m 13s\n",
      "22:\tlearn: 0.6641616\ttotal: 3.12s\tremaining: 2m 12s\n",
      "23:\tlearn: 0.6633979\ttotal: 3.23s\tremaining: 2m 11s\n",
      "24:\tlearn: 0.6625619\ttotal: 3.35s\tremaining: 2m 10s\n",
      "25:\tlearn: 0.6613970\ttotal: 3.46s\tremaining: 2m 9s\n",
      "26:\tlearn: 0.6601835\ttotal: 3.57s\tremaining: 2m 8s\n",
      "27:\tlearn: 0.6591115\ttotal: 3.68s\tremaining: 2m 7s\n",
      "28:\tlearn: 0.6580509\ttotal: 3.79s\tremaining: 2m 7s\n",
      "29:\tlearn: 0.6569835\ttotal: 3.92s\tremaining: 2m 6s\n",
      "30:\tlearn: 0.6560436\ttotal: 4.04s\tremaining: 2m 6s\n",
      "31:\tlearn: 0.6553193\ttotal: 4.14s\tremaining: 2m 5s\n",
      "32:\tlearn: 0.6542780\ttotal: 4.26s\tremaining: 2m 4s\n",
      "33:\tlearn: 0.6534917\ttotal: 4.38s\tremaining: 2m 4s\n",
      "34:\tlearn: 0.6525515\ttotal: 4.5s\tremaining: 2m 3s\n",
      "35:\tlearn: 0.6515679\ttotal: 4.61s\tremaining: 2m 3s\n",
      "36:\tlearn: 0.6507433\ttotal: 4.73s\tremaining: 2m 3s\n",
      "37:\tlearn: 0.6498099\ttotal: 4.83s\tremaining: 2m 2s\n",
      "38:\tlearn: 0.6489976\ttotal: 4.96s\tremaining: 2m 2s\n",
      "39:\tlearn: 0.6481162\ttotal: 5.07s\tremaining: 2m 1s\n",
      "40:\tlearn: 0.6475254\ttotal: 5.18s\tremaining: 2m 1s\n",
      "41:\tlearn: 0.6466655\ttotal: 5.3s\tremaining: 2m\n",
      "42:\tlearn: 0.6458241\ttotal: 5.42s\tremaining: 2m\n",
      "43:\tlearn: 0.6452765\ttotal: 5.54s\tremaining: 2m\n",
      "44:\tlearn: 0.6444634\ttotal: 5.65s\tremaining: 1m 59s\n",
      "45:\tlearn: 0.6439985\ttotal: 5.77s\tremaining: 1m 59s\n",
      "46:\tlearn: 0.6434947\ttotal: 5.9s\tremaining: 1m 59s\n",
      "47:\tlearn: 0.6430237\ttotal: 6s\tremaining: 1m 59s\n",
      "48:\tlearn: 0.6422727\ttotal: 6.12s\tremaining: 1m 58s\n",
      "49:\tlearn: 0.6417354\ttotal: 6.24s\tremaining: 1m 58s\n",
      "50:\tlearn: 0.6411215\ttotal: 6.36s\tremaining: 1m 58s\n",
      "51:\tlearn: 0.6404948\ttotal: 6.47s\tremaining: 1m 58s\n",
      "52:\tlearn: 0.6400592\ttotal: 6.59s\tremaining: 1m 57s\n",
      "53:\tlearn: 0.6395397\ttotal: 6.72s\tremaining: 1m 57s\n",
      "54:\tlearn: 0.6388578\ttotal: 6.83s\tremaining: 1m 57s\n",
      "55:\tlearn: 0.6381969\ttotal: 6.94s\tremaining: 1m 57s\n",
      "56:\tlearn: 0.6376291\ttotal: 7.07s\tremaining: 1m 56s\n",
      "57:\tlearn: 0.6369791\ttotal: 7.17s\tremaining: 1m 56s\n",
      "58:\tlearn: 0.6363642\ttotal: 7.29s\tremaining: 1m 56s\n",
      "59:\tlearn: 0.6358618\ttotal: 7.4s\tremaining: 1m 55s\n",
      "60:\tlearn: 0.6354899\ttotal: 7.52s\tremaining: 1m 55s\n",
      "61:\tlearn: 0.6351363\ttotal: 7.63s\tremaining: 1m 55s\n",
      "62:\tlearn: 0.6345595\ttotal: 7.74s\tremaining: 1m 55s\n",
      "63:\tlearn: 0.6339581\ttotal: 7.85s\tremaining: 1m 54s\n",
      "64:\tlearn: 0.6334094\ttotal: 7.95s\tremaining: 1m 54s\n",
      "65:\tlearn: 0.6328743\ttotal: 8.06s\tremaining: 1m 54s\n",
      "66:\tlearn: 0.6325417\ttotal: 8.17s\tremaining: 1m 53s\n",
      "67:\tlearn: 0.6320324\ttotal: 8.29s\tremaining: 1m 53s\n",
      "68:\tlearn: 0.6315369\ttotal: 8.41s\tremaining: 1m 53s\n",
      "69:\tlearn: 0.6310359\ttotal: 8.52s\tremaining: 1m 53s\n",
      "70:\tlearn: 0.6307042\ttotal: 8.64s\tremaining: 1m 53s\n",
      "71:\tlearn: 0.6302162\ttotal: 8.74s\tremaining: 1m 52s\n",
      "72:\tlearn: 0.6297434\ttotal: 8.87s\tremaining: 1m 52s\n",
      "73:\tlearn: 0.6292760\ttotal: 8.99s\tremaining: 1m 52s\n",
      "74:\tlearn: 0.6289937\ttotal: 9.11s\tremaining: 1m 52s\n",
      "75:\tlearn: 0.6285388\ttotal: 9.22s\tremaining: 1m 52s\n",
      "76:\tlearn: 0.6281221\ttotal: 9.34s\tremaining: 1m 51s\n",
      "77:\tlearn: 0.6278443\ttotal: 9.46s\tremaining: 1m 51s\n",
      "78:\tlearn: 0.6275825\ttotal: 9.58s\tremaining: 1m 51s\n",
      "79:\tlearn: 0.6271664\ttotal: 9.69s\tremaining: 1m 51s\n",
      "80:\tlearn: 0.6269161\ttotal: 9.81s\tremaining: 1m 51s\n",
      "81:\tlearn: 0.6265043\ttotal: 9.96s\tremaining: 1m 51s\n",
      "82:\tlearn: 0.6261304\ttotal: 10.1s\tremaining: 1m 51s\n",
      "83:\tlearn: 0.6258554\ttotal: 10.2s\tremaining: 1m 51s\n",
      "84:\tlearn: 0.6254533\ttotal: 10.3s\tremaining: 1m 51s\n",
      "85:\tlearn: 0.6250775\ttotal: 10.4s\tremaining: 1m 51s\n",
      "86:\tlearn: 0.6248514\ttotal: 10.6s\tremaining: 1m 50s\n",
      "87:\tlearn: 0.6245880\ttotal: 10.7s\tremaining: 1m 50s\n",
      "88:\tlearn: 0.6242140\ttotal: 10.8s\tremaining: 1m 50s\n",
      "89:\tlearn: 0.6239741\ttotal: 10.9s\tremaining: 1m 50s\n",
      "90:\tlearn: 0.6236447\ttotal: 11s\tremaining: 1m 50s\n",
      "91:\tlearn: 0.6232813\ttotal: 11.1s\tremaining: 1m 49s\n",
      "92:\tlearn: 0.6230621\ttotal: 11.2s\tremaining: 1m 49s\n",
      "93:\tlearn: 0.6227196\ttotal: 11.3s\tremaining: 1m 49s\n",
      "94:\tlearn: 0.6224264\ttotal: 11.5s\tremaining: 1m 49s\n",
      "95:\tlearn: 0.6221018\ttotal: 11.6s\tremaining: 1m 48s\n",
      "96:\tlearn: 0.6217696\ttotal: 11.7s\tremaining: 1m 48s\n",
      "97:\tlearn: 0.6214779\ttotal: 11.8s\tremaining: 1m 48s\n",
      "98:\tlearn: 0.6212861\ttotal: 11.9s\tremaining: 1m 48s\n",
      "99:\tlearn: 0.6210876\ttotal: 12s\tremaining: 1m 48s\n",
      "100:\tlearn: 0.6209499\ttotal: 12.2s\tremaining: 1m 48s\n",
      "101:\tlearn: 0.6206354\ttotal: 12.3s\tremaining: 1m 47s\n",
      "102:\tlearn: 0.6203320\ttotal: 12.4s\tremaining: 1m 47s\n",
      "103:\tlearn: 0.6201196\ttotal: 12.5s\tremaining: 1m 47s\n",
      "104:\tlearn: 0.6199159\ttotal: 12.6s\tremaining: 1m 47s\n",
      "105:\tlearn: 0.6196722\ttotal: 12.7s\tremaining: 1m 47s\n",
      "106:\tlearn: 0.6195223\ttotal: 12.8s\tremaining: 1m 47s\n",
      "107:\tlearn: 0.6193729\ttotal: 12.9s\tremaining: 1m 46s\n",
      "108:\tlearn: 0.6192203\ttotal: 13.1s\tremaining: 1m 46s\n",
      "109:\tlearn: 0.6190846\ttotal: 13.2s\tremaining: 1m 46s\n",
      "110:\tlearn: 0.6188943\ttotal: 13.3s\tremaining: 1m 46s\n",
      "111:\tlearn: 0.6187464\ttotal: 13.4s\tremaining: 1m 46s\n",
      "112:\tlearn: 0.6184846\ttotal: 13.6s\tremaining: 1m 46s\n",
      "113:\tlearn: 0.6182261\ttotal: 13.7s\tremaining: 1m 46s\n",
      "114:\tlearn: 0.6181031\ttotal: 13.8s\tremaining: 1m 46s\n",
      "115:\tlearn: 0.6179602\ttotal: 13.9s\tremaining: 1m 45s\n",
      "116:\tlearn: 0.6178101\ttotal: 14s\tremaining: 1m 45s\n",
      "117:\tlearn: 0.6176884\ttotal: 14.2s\tremaining: 1m 45s\n",
      "118:\tlearn: 0.6175493\ttotal: 14.3s\tremaining: 1m 45s\n",
      "119:\tlearn: 0.6174080\ttotal: 14.4s\tremaining: 1m 45s\n",
      "120:\tlearn: 0.6172642\ttotal: 14.5s\tremaining: 1m 45s\n",
      "121:\tlearn: 0.6171272\ttotal: 14.6s\tremaining: 1m 45s\n",
      "122:\tlearn: 0.6169737\ttotal: 14.7s\tremaining: 1m 45s\n",
      "123:\tlearn: 0.6168343\ttotal: 14.9s\tremaining: 1m 45s\n",
      "124:\tlearn: 0.6167037\ttotal: 15s\tremaining: 1m 44s\n",
      "125:\tlearn: 0.6165649\ttotal: 15.1s\tremaining: 1m 44s\n",
      "126:\tlearn: 0.6164134\ttotal: 15.2s\tremaining: 1m 44s\n",
      "127:\tlearn: 0.6162673\ttotal: 15.4s\tremaining: 1m 44s\n",
      "128:\tlearn: 0.6160084\ttotal: 15.5s\tremaining: 1m 44s\n",
      "129:\tlearn: 0.6158678\ttotal: 15.6s\tremaining: 1m 44s\n",
      "130:\tlearn: 0.6157236\ttotal: 15.7s\tremaining: 1m 44s\n",
      "131:\tlearn: 0.6154699\ttotal: 15.8s\tremaining: 1m 44s\n",
      "132:\tlearn: 0.6153229\ttotal: 16s\tremaining: 1m 44s\n",
      "133:\tlearn: 0.6151809\ttotal: 16.1s\tremaining: 1m 43s\n",
      "134:\tlearn: 0.6150484\ttotal: 16.2s\tremaining: 1m 43s\n",
      "135:\tlearn: 0.6149118\ttotal: 16.3s\tremaining: 1m 43s\n",
      "136:\tlearn: 0.6147623\ttotal: 16.4s\tremaining: 1m 43s\n",
      "137:\tlearn: 0.6146355\ttotal: 16.5s\tremaining: 1m 43s\n",
      "138:\tlearn: 0.6145011\ttotal: 16.6s\tremaining: 1m 43s\n",
      "139:\tlearn: 0.6143529\ttotal: 16.7s\tremaining: 1m 42s\n",
      "140:\tlearn: 0.6142162\ttotal: 16.9s\tremaining: 1m 42s\n",
      "141:\tlearn: 0.6140811\ttotal: 17s\tremaining: 1m 42s\n",
      "142:\tlearn: 0.6139379\ttotal: 17.1s\tremaining: 1m 42s\n",
      "143:\tlearn: 0.6136948\ttotal: 17.2s\tremaining: 1m 42s\n",
      "144:\tlearn: 0.6135479\ttotal: 17.4s\tremaining: 1m 42s\n",
      "145:\tlearn: 0.6134022\ttotal: 17.5s\tremaining: 1m 42s\n",
      "146:\tlearn: 0.6132535\ttotal: 17.6s\tremaining: 1m 42s\n",
      "147:\tlearn: 0.6131254\ttotal: 17.7s\tremaining: 1m 41s\n",
      "148:\tlearn: 0.6129779\ttotal: 17.8s\tremaining: 1m 41s\n",
      "149:\tlearn: 0.6128340\ttotal: 18s\tremaining: 1m 41s\n",
      "150:\tlearn: 0.6126533\ttotal: 18.1s\tremaining: 1m 41s\n",
      "151:\tlearn: 0.6125074\ttotal: 18.2s\tremaining: 1m 41s\n",
      "152:\tlearn: 0.6122780\ttotal: 18.3s\tremaining: 1m 41s\n",
      "153:\tlearn: 0.6121439\ttotal: 18.4s\tremaining: 1m 41s\n",
      "154:\tlearn: 0.6120214\ttotal: 18.5s\tremaining: 1m 41s\n",
      "155:\tlearn: 0.6118830\ttotal: 18.7s\tremaining: 1m 40s\n",
      "156:\tlearn: 0.6117576\ttotal: 18.8s\tremaining: 1m 40s\n",
      "157:\tlearn: 0.6116202\ttotal: 18.9s\tremaining: 1m 40s\n",
      "158:\tlearn: 0.6115029\ttotal: 19s\tremaining: 1m 40s\n",
      "159:\tlearn: 0.6113622\ttotal: 19.1s\tremaining: 1m 40s\n",
      "160:\tlearn: 0.6112133\ttotal: 19.2s\tremaining: 1m 40s\n",
      "161:\tlearn: 0.6110786\ttotal: 19.4s\tremaining: 1m 40s\n",
      "162:\tlearn: 0.6109502\ttotal: 19.5s\tremaining: 1m 39s\n",
      "163:\tlearn: 0.6108262\ttotal: 19.6s\tremaining: 1m 39s\n",
      "164:\tlearn: 0.6106968\ttotal: 19.7s\tremaining: 1m 39s\n",
      "165:\tlearn: 0.6105562\ttotal: 19.8s\tremaining: 1m 39s\n",
      "166:\tlearn: 0.6104213\ttotal: 20s\tremaining: 1m 39s\n",
      "167:\tlearn: 0.6103078\ttotal: 20.1s\tremaining: 1m 39s\n",
      "168:\tlearn: 0.6101724\ttotal: 20.2s\tremaining: 1m 39s\n",
      "169:\tlearn: 0.6100494\ttotal: 20.3s\tremaining: 1m 39s\n",
      "170:\tlearn: 0.6099331\ttotal: 20.4s\tremaining: 1m 39s\n",
      "171:\tlearn: 0.6097939\ttotal: 20.5s\tremaining: 1m 38s\n",
      "172:\tlearn: 0.6096477\ttotal: 20.7s\tremaining: 1m 38s\n",
      "173:\tlearn: 0.6095225\ttotal: 20.8s\tremaining: 1m 38s\n",
      "174:\tlearn: 0.6093879\ttotal: 20.9s\tremaining: 1m 38s\n",
      "175:\tlearn: 0.6092753\ttotal: 21.1s\tremaining: 1m 38s\n",
      "176:\tlearn: 0.6091335\ttotal: 21.2s\tremaining: 1m 38s\n",
      "177:\tlearn: 0.6090206\ttotal: 21.3s\tremaining: 1m 38s\n",
      "178:\tlearn: 0.6088921\ttotal: 21.4s\tremaining: 1m 38s\n",
      "179:\tlearn: 0.6087758\ttotal: 21.5s\tremaining: 1m 38s\n",
      "180:\tlearn: 0.6086537\ttotal: 21.6s\tremaining: 1m 37s\n",
      "181:\tlearn: 0.6085108\ttotal: 21.8s\tremaining: 1m 37s\n",
      "182:\tlearn: 0.6083995\ttotal: 21.9s\tremaining: 1m 37s\n",
      "183:\tlearn: 0.6082795\ttotal: 22s\tremaining: 1m 37s\n",
      "184:\tlearn: 0.6081426\ttotal: 22.1s\tremaining: 1m 37s\n",
      "185:\tlearn: 0.6079826\ttotal: 22.2s\tremaining: 1m 37s\n",
      "186:\tlearn: 0.6078625\ttotal: 22.4s\tremaining: 1m 37s\n",
      "187:\tlearn: 0.6077194\ttotal: 22.5s\tremaining: 1m 37s\n",
      "188:\tlearn: 0.6076155\ttotal: 22.6s\tremaining: 1m 36s\n",
      "189:\tlearn: 0.6075069\ttotal: 22.7s\tremaining: 1m 36s\n",
      "190:\tlearn: 0.6073796\ttotal: 22.8s\tremaining: 1m 36s\n",
      "191:\tlearn: 0.6072563\ttotal: 22.9s\tremaining: 1m 36s\n",
      "192:\tlearn: 0.6071447\ttotal: 23s\tremaining: 1m 36s\n",
      "193:\tlearn: 0.6070216\ttotal: 23.1s\tremaining: 1m 36s\n",
      "194:\tlearn: 0.6068921\ttotal: 23.3s\tremaining: 1m 36s\n",
      "195:\tlearn: 0.6067492\ttotal: 23.4s\tremaining: 1m 35s\n",
      "196:\tlearn: 0.6066331\ttotal: 23.5s\tremaining: 1m 35s\n",
      "197:\tlearn: 0.6065003\ttotal: 23.6s\tremaining: 1m 35s\n",
      "198:\tlearn: 0.6063673\ttotal: 23.7s\tremaining: 1m 35s\n",
      "199:\tlearn: 0.6062520\ttotal: 23.9s\tremaining: 1m 35s\n",
      "200:\tlearn: 0.6061395\ttotal: 24s\tremaining: 1m 35s\n",
      "201:\tlearn: 0.6060165\ttotal: 24.1s\tremaining: 1m 35s\n",
      "202:\tlearn: 0.6058906\ttotal: 24.2s\tremaining: 1m 35s\n",
      "203:\tlearn: 0.6057975\ttotal: 24.3s\tremaining: 1m 34s\n",
      "204:\tlearn: 0.6056711\ttotal: 24.4s\tremaining: 1m 34s\n",
      "205:\tlearn: 0.6055476\ttotal: 24.6s\tremaining: 1m 34s\n",
      "206:\tlearn: 0.6054191\ttotal: 24.7s\tremaining: 1m 34s\n",
      "207:\tlearn: 0.6052840\ttotal: 24.8s\tremaining: 1m 34s\n",
      "208:\tlearn: 0.6051938\ttotal: 24.9s\tremaining: 1m 34s\n",
      "209:\tlearn: 0.6050663\ttotal: 25s\tremaining: 1m 34s\n",
      "210:\tlearn: 0.6049375\ttotal: 25.1s\tremaining: 1m 33s\n",
      "211:\tlearn: 0.6048229\ttotal: 25.2s\tremaining: 1m 33s\n",
      "212:\tlearn: 0.6047303\ttotal: 25.4s\tremaining: 1m 33s\n",
      "213:\tlearn: 0.6046338\ttotal: 25.5s\tremaining: 1m 33s\n",
      "214:\tlearn: 0.6045109\ttotal: 25.6s\tremaining: 1m 33s\n",
      "215:\tlearn: 0.6043906\ttotal: 25.7s\tremaining: 1m 33s\n",
      "216:\tlearn: 0.6042776\ttotal: 25.8s\tremaining: 1m 33s\n",
      "217:\tlearn: 0.6041492\ttotal: 25.9s\tremaining: 1m 32s\n",
      "218:\tlearn: 0.6040183\ttotal: 26s\tremaining: 1m 32s\n",
      "219:\tlearn: 0.6038954\ttotal: 26.1s\tremaining: 1m 32s\n",
      "220:\tlearn: 0.6037631\ttotal: 26.3s\tremaining: 1m 32s\n",
      "221:\tlearn: 0.6036373\ttotal: 26.4s\tremaining: 1m 32s\n",
      "222:\tlearn: 0.6035020\ttotal: 26.5s\tremaining: 1m 32s\n",
      "223:\tlearn: 0.6034035\ttotal: 26.6s\tremaining: 1m 32s\n",
      "224:\tlearn: 0.6032707\ttotal: 26.7s\tremaining: 1m 32s\n",
      "225:\tlearn: 0.6031694\ttotal: 26.9s\tremaining: 1m 31s\n",
      "226:\tlearn: 0.6030381\ttotal: 27s\tremaining: 1m 31s\n",
      "227:\tlearn: 0.6029112\ttotal: 27.1s\tremaining: 1m 31s\n",
      "228:\tlearn: 0.6028055\ttotal: 27.2s\tremaining: 1m 31s\n",
      "229:\tlearn: 0.6027024\ttotal: 27.3s\tremaining: 1m 31s\n",
      "230:\tlearn: 0.6025961\ttotal: 27.4s\tremaining: 1m 31s\n",
      "231:\tlearn: 0.6024792\ttotal: 27.5s\tremaining: 1m 31s\n",
      "232:\tlearn: 0.6023670\ttotal: 27.7s\tremaining: 1m 31s\n",
      "233:\tlearn: 0.6022441\ttotal: 27.8s\tremaining: 1m 30s\n",
      "234:\tlearn: 0.6021141\ttotal: 27.9s\tremaining: 1m 30s\n",
      "235:\tlearn: 0.6019822\ttotal: 28s\tremaining: 1m 30s\n",
      "236:\tlearn: 0.6018581\ttotal: 28.1s\tremaining: 1m 30s\n",
      "237:\tlearn: 0.6017348\ttotal: 28.3s\tremaining: 1m 30s\n",
      "238:\tlearn: 0.6016371\ttotal: 28.4s\tremaining: 1m 30s\n",
      "239:\tlearn: 0.6015092\ttotal: 28.5s\tremaining: 1m 30s\n",
      "240:\tlearn: 0.6013775\ttotal: 28.7s\tremaining: 1m 30s\n",
      "241:\tlearn: 0.6012670\ttotal: 28.8s\tremaining: 1m 30s\n",
      "242:\tlearn: 0.6011406\ttotal: 29s\tremaining: 1m 30s\n",
      "243:\tlearn: 0.6010287\ttotal: 29.1s\tremaining: 1m 30s\n",
      "244:\tlearn: 0.6009001\ttotal: 29.2s\tremaining: 1m 29s\n",
      "245:\tlearn: 0.6007837\ttotal: 29.3s\tremaining: 1m 29s\n",
      "246:\tlearn: 0.6006754\ttotal: 29.4s\tremaining: 1m 29s\n",
      "247:\tlearn: 0.6005662\ttotal: 29.5s\tremaining: 1m 29s\n",
      "248:\tlearn: 0.6004665\ttotal: 29.7s\tremaining: 1m 29s\n",
      "249:\tlearn: 0.6003330\ttotal: 29.8s\tremaining: 1m 29s\n",
      "250:\tlearn: 0.6002118\ttotal: 29.9s\tremaining: 1m 29s\n",
      "251:\tlearn: 0.6001015\ttotal: 30s\tremaining: 1m 29s\n",
      "252:\tlearn: 0.5999731\ttotal: 30.1s\tremaining: 1m 28s\n",
      "253:\tlearn: 0.5998171\ttotal: 30.2s\tremaining: 1m 28s\n",
      "254:\tlearn: 0.5996908\ttotal: 30.4s\tremaining: 1m 28s\n",
      "255:\tlearn: 0.5995820\ttotal: 30.5s\tremaining: 1m 28s\n",
      "256:\tlearn: 0.5994587\ttotal: 30.6s\tremaining: 1m 28s\n",
      "257:\tlearn: 0.5993493\ttotal: 30.7s\tremaining: 1m 28s\n",
      "258:\tlearn: 0.5992182\ttotal: 30.8s\tremaining: 1m 28s\n",
      "259:\tlearn: 0.5991067\ttotal: 31s\tremaining: 1m 28s\n",
      "260:\tlearn: 0.5989946\ttotal: 31.1s\tremaining: 1m 27s\n",
      "261:\tlearn: 0.5988830\ttotal: 31.2s\tremaining: 1m 27s\n",
      "262:\tlearn: 0.5987653\ttotal: 31.3s\tremaining: 1m 27s\n",
      "263:\tlearn: 0.5986483\ttotal: 31.4s\tremaining: 1m 27s\n",
      "264:\tlearn: 0.5985186\ttotal: 31.6s\tremaining: 1m 27s\n",
      "265:\tlearn: 0.5983775\ttotal: 31.7s\tremaining: 1m 27s\n",
      "266:\tlearn: 0.5982714\ttotal: 31.8s\tremaining: 1m 27s\n",
      "267:\tlearn: 0.5981415\ttotal: 32s\tremaining: 1m 27s\n",
      "268:\tlearn: 0.5980329\ttotal: 32.1s\tremaining: 1m 27s\n",
      "269:\tlearn: 0.5979182\ttotal: 32.2s\tremaining: 1m 27s\n",
      "270:\tlearn: 0.5978112\ttotal: 32.4s\tremaining: 1m 27s\n",
      "271:\tlearn: 0.5976983\ttotal: 32.5s\tremaining: 1m 26s\n",
      "272:\tlearn: 0.5975817\ttotal: 32.6s\tremaining: 1m 26s\n",
      "273:\tlearn: 0.5974566\ttotal: 32.7s\tremaining: 1m 26s\n",
      "274:\tlearn: 0.5973505\ttotal: 32.9s\tremaining: 1m 26s\n",
      "275:\tlearn: 0.5972299\ttotal: 33s\tremaining: 1m 26s\n",
      "276:\tlearn: 0.5971447\ttotal: 33.1s\tremaining: 1m 26s\n",
      "277:\tlearn: 0.5970419\ttotal: 33.2s\tremaining: 1m 26s\n",
      "278:\tlearn: 0.5969275\ttotal: 33.3s\tremaining: 1m 26s\n",
      "279:\tlearn: 0.5968112\ttotal: 33.4s\tremaining: 1m 25s\n",
      "280:\tlearn: 0.5967097\ttotal: 33.5s\tremaining: 1m 25s\n",
      "281:\tlearn: 0.5966028\ttotal: 33.7s\tremaining: 1m 25s\n",
      "282:\tlearn: 0.5964931\ttotal: 33.8s\tremaining: 1m 25s\n",
      "283:\tlearn: 0.5963735\ttotal: 33.9s\tremaining: 1m 25s\n",
      "284:\tlearn: 0.5962647\ttotal: 34s\tremaining: 1m 25s\n",
      "285:\tlearn: 0.5961607\ttotal: 34.1s\tremaining: 1m 25s\n",
      "286:\tlearn: 0.5960511\ttotal: 34.3s\tremaining: 1m 25s\n",
      "287:\tlearn: 0.5959563\ttotal: 34.4s\tremaining: 1m 24s\n",
      "288:\tlearn: 0.5958614\ttotal: 34.5s\tremaining: 1m 24s\n",
      "289:\tlearn: 0.5957489\ttotal: 34.6s\tremaining: 1m 24s\n",
      "290:\tlearn: 0.5956384\ttotal: 34.7s\tremaining: 1m 24s\n",
      "291:\tlearn: 0.5955182\ttotal: 34.8s\tremaining: 1m 24s\n",
      "292:\tlearn: 0.5954091\ttotal: 35s\tremaining: 1m 24s\n",
      "293:\tlearn: 0.5952865\ttotal: 35.2s\tremaining: 1m 24s\n",
      "294:\tlearn: 0.5951727\ttotal: 35.4s\tremaining: 1m 24s\n",
      "295:\tlearn: 0.5950530\ttotal: 35.5s\tremaining: 1m 24s\n",
      "296:\tlearn: 0.5949458\ttotal: 35.7s\tremaining: 1m 24s\n",
      "297:\tlearn: 0.5948226\ttotal: 35.9s\tremaining: 1m 24s\n",
      "298:\tlearn: 0.5947198\ttotal: 36s\tremaining: 1m 24s\n",
      "299:\tlearn: 0.5946017\ttotal: 36.2s\tremaining: 1m 24s\n",
      "300:\tlearn: 0.5944863\ttotal: 36.3s\tremaining: 1m 24s\n",
      "301:\tlearn: 0.5943812\ttotal: 36.4s\tremaining: 1m 24s\n",
      "302:\tlearn: 0.5942853\ttotal: 36.5s\tremaining: 1m 24s\n",
      "303:\tlearn: 0.5941760\ttotal: 36.7s\tremaining: 1m 23s\n",
      "304:\tlearn: 0.5940789\ttotal: 36.8s\tremaining: 1m 23s\n",
      "305:\tlearn: 0.5939797\ttotal: 36.9s\tremaining: 1m 23s\n",
      "306:\tlearn: 0.5938565\ttotal: 37s\tremaining: 1m 23s\n",
      "307:\tlearn: 0.5937567\ttotal: 37.1s\tremaining: 1m 23s\n",
      "308:\tlearn: 0.5936464\ttotal: 37.2s\tremaining: 1m 23s\n",
      "309:\tlearn: 0.5935265\ttotal: 37.4s\tremaining: 1m 23s\n",
      "310:\tlearn: 0.5934329\ttotal: 37.5s\tremaining: 1m 23s\n",
      "311:\tlearn: 0.5933302\ttotal: 37.6s\tremaining: 1m 22s\n",
      "312:\tlearn: 0.5932099\ttotal: 37.7s\tremaining: 1m 22s\n",
      "313:\tlearn: 0.5931096\ttotal: 37.8s\tremaining: 1m 22s\n",
      "314:\tlearn: 0.5930035\ttotal: 37.9s\tremaining: 1m 22s\n",
      "315:\tlearn: 0.5929077\ttotal: 38s\tremaining: 1m 22s\n",
      "316:\tlearn: 0.5928204\ttotal: 38.2s\tremaining: 1m 22s\n",
      "317:\tlearn: 0.5927222\ttotal: 38.3s\tremaining: 1m 22s\n",
      "318:\tlearn: 0.5925905\ttotal: 38.4s\tremaining: 1m 22s\n",
      "319:\tlearn: 0.5925045\ttotal: 38.6s\tremaining: 1m 21s\n",
      "320:\tlearn: 0.5924124\ttotal: 38.7s\tremaining: 1m 21s\n",
      "321:\tlearn: 0.5922958\ttotal: 38.8s\tremaining: 1m 21s\n",
      "322:\tlearn: 0.5921870\ttotal: 39s\tremaining: 1m 21s\n",
      "323:\tlearn: 0.5920971\ttotal: 39.1s\tremaining: 1m 21s\n",
      "324:\tlearn: 0.5919833\ttotal: 39.2s\tremaining: 1m 21s\n",
      "325:\tlearn: 0.5918614\ttotal: 39.4s\tremaining: 1m 21s\n",
      "326:\tlearn: 0.5917396\ttotal: 39.5s\tremaining: 1m 21s\n",
      "327:\tlearn: 0.5916414\ttotal: 39.7s\tremaining: 1m 21s\n",
      "328:\tlearn: 0.5915476\ttotal: 39.8s\tremaining: 1m 21s\n",
      "329:\tlearn: 0.5914271\ttotal: 39.9s\tremaining: 1m 21s\n",
      "330:\tlearn: 0.5913129\ttotal: 40.1s\tremaining: 1m 21s\n",
      "331:\tlearn: 0.5912078\ttotal: 40.2s\tremaining: 1m 20s\n",
      "332:\tlearn: 0.5911142\ttotal: 40.4s\tremaining: 1m 20s\n",
      "333:\tlearn: 0.5909935\ttotal: 40.5s\tremaining: 1m 20s\n",
      "334:\tlearn: 0.5908980\ttotal: 40.7s\tremaining: 1m 20s\n",
      "335:\tlearn: 0.5907909\ttotal: 40.8s\tremaining: 1m 20s\n",
      "336:\tlearn: 0.5906992\ttotal: 41s\tremaining: 1m 20s\n",
      "337:\tlearn: 0.5905978\ttotal: 41.1s\tremaining: 1m 20s\n",
      "338:\tlearn: 0.5904926\ttotal: 41.3s\tremaining: 1m 20s\n",
      "339:\tlearn: 0.5904011\ttotal: 41.4s\tremaining: 1m 20s\n",
      "340:\tlearn: 0.5902561\ttotal: 41.6s\tremaining: 1m 20s\n",
      "341:\tlearn: 0.5901435\ttotal: 41.7s\tremaining: 1m 20s\n",
      "342:\tlearn: 0.5900363\ttotal: 41.9s\tremaining: 1m 20s\n",
      "343:\tlearn: 0.5899324\ttotal: 42.1s\tremaining: 1m 20s\n",
      "344:\tlearn: 0.5898294\ttotal: 42.2s\tremaining: 1m 20s\n",
      "345:\tlearn: 0.5897138\ttotal: 42.4s\tremaining: 1m 20s\n",
      "346:\tlearn: 0.5896081\ttotal: 42.6s\tremaining: 1m 20s\n",
      "347:\tlearn: 0.5895176\ttotal: 42.7s\tremaining: 1m 20s\n",
      "348:\tlearn: 0.5894347\ttotal: 42.9s\tremaining: 1m 20s\n",
      "349:\tlearn: 0.5893329\ttotal: 43.1s\tremaining: 1m 20s\n",
      "350:\tlearn: 0.5892453\ttotal: 43.3s\tremaining: 1m 20s\n",
      "351:\tlearn: 0.5891155\ttotal: 43.4s\tremaining: 1m 19s\n",
      "352:\tlearn: 0.5890248\ttotal: 43.6s\tremaining: 1m 19s\n",
      "353:\tlearn: 0.5889101\ttotal: 43.7s\tremaining: 1m 19s\n",
      "354:\tlearn: 0.5888042\ttotal: 43.9s\tremaining: 1m 19s\n",
      "355:\tlearn: 0.5886910\ttotal: 44.1s\tremaining: 1m 19s\n",
      "356:\tlearn: 0.5885919\ttotal: 44.2s\tremaining: 1m 19s\n",
      "357:\tlearn: 0.5885113\ttotal: 44.4s\tremaining: 1m 19s\n",
      "358:\tlearn: 0.5884082\ttotal: 44.5s\tremaining: 1m 19s\n",
      "359:\tlearn: 0.5883190\ttotal: 44.7s\tremaining: 1m 19s\n",
      "360:\tlearn: 0.5882233\ttotal: 44.8s\tremaining: 1m 19s\n",
      "361:\tlearn: 0.5880989\ttotal: 45s\tremaining: 1m 19s\n",
      "362:\tlearn: 0.5879877\ttotal: 45.1s\tremaining: 1m 19s\n",
      "363:\tlearn: 0.5878752\ttotal: 45.3s\tremaining: 1m 19s\n",
      "364:\tlearn: 0.5877592\ttotal: 45.4s\tremaining: 1m 19s\n",
      "365:\tlearn: 0.5876663\ttotal: 45.6s\tremaining: 1m 18s\n",
      "366:\tlearn: 0.5875629\ttotal: 45.7s\tremaining: 1m 18s\n",
      "367:\tlearn: 0.5874854\ttotal: 45.9s\tremaining: 1m 18s\n",
      "368:\tlearn: 0.5873829\ttotal: 46s\tremaining: 1m 18s\n",
      "369:\tlearn: 0.5872850\ttotal: 46.2s\tremaining: 1m 18s\n",
      "370:\tlearn: 0.5872010\ttotal: 46.3s\tremaining: 1m 18s\n",
      "371:\tlearn: 0.5871011\ttotal: 46.5s\tremaining: 1m 18s\n",
      "372:\tlearn: 0.5870064\ttotal: 46.6s\tremaining: 1m 18s\n",
      "373:\tlearn: 0.5868998\ttotal: 46.8s\tremaining: 1m 18s\n",
      "374:\tlearn: 0.5867970\ttotal: 46.9s\tremaining: 1m 18s\n",
      "375:\tlearn: 0.5866976\ttotal: 47.1s\tremaining: 1m 18s\n",
      "376:\tlearn: 0.5866224\ttotal: 47.2s\tremaining: 1m 18s\n",
      "377:\tlearn: 0.5865334\ttotal: 47.4s\tremaining: 1m 18s\n",
      "378:\tlearn: 0.5864116\ttotal: 47.6s\tremaining: 1m 18s\n",
      "379:\tlearn: 0.5863405\ttotal: 47.8s\tremaining: 1m 17s\n",
      "380:\tlearn: 0.5862241\ttotal: 48s\tremaining: 1m 17s\n",
      "381:\tlearn: 0.5861344\ttotal: 48.2s\tremaining: 1m 17s\n",
      "382:\tlearn: 0.5860113\ttotal: 48.4s\tremaining: 1m 17s\n",
      "383:\tlearn: 0.5859053\ttotal: 48.6s\tremaining: 1m 17s\n",
      "384:\tlearn: 0.5858093\ttotal: 48.8s\tremaining: 1m 17s\n",
      "385:\tlearn: 0.5857176\ttotal: 49s\tremaining: 1m 17s\n",
      "386:\tlearn: 0.5856277\ttotal: 49.2s\tremaining: 1m 17s\n",
      "387:\tlearn: 0.5855145\ttotal: 49.3s\tremaining: 1m 17s\n",
      "388:\tlearn: 0.5854287\ttotal: 49.4s\tremaining: 1m 17s\n",
      "389:\tlearn: 0.5853424\ttotal: 49.6s\tremaining: 1m 17s\n",
      "390:\tlearn: 0.5852419\ttotal: 49.7s\tremaining: 1m 17s\n",
      "391:\tlearn: 0.5851337\ttotal: 49.8s\tremaining: 1m 17s\n",
      "392:\tlearn: 0.5850386\ttotal: 49.9s\tremaining: 1m 17s\n",
      "393:\tlearn: 0.5849488\ttotal: 50s\tremaining: 1m 16s\n",
      "394:\tlearn: 0.5848380\ttotal: 50.1s\tremaining: 1m 16s\n",
      "395:\tlearn: 0.5847409\ttotal: 50.3s\tremaining: 1m 16s\n",
      "396:\tlearn: 0.5846560\ttotal: 50.4s\tremaining: 1m 16s\n",
      "397:\tlearn: 0.5845570\ttotal: 50.5s\tremaining: 1m 16s\n",
      "398:\tlearn: 0.5844521\ttotal: 50.6s\tremaining: 1m 16s\n",
      "399:\tlearn: 0.5843545\ttotal: 50.7s\tremaining: 1m 16s\n",
      "400:\tlearn: 0.5842548\ttotal: 50.9s\tremaining: 1m 15s\n",
      "401:\tlearn: 0.5841453\ttotal: 51s\tremaining: 1m 15s\n",
      "402:\tlearn: 0.5840606\ttotal: 51.1s\tremaining: 1m 15s\n",
      "403:\tlearn: 0.5839463\ttotal: 51.2s\tremaining: 1m 15s\n",
      "404:\tlearn: 0.5838417\ttotal: 51.4s\tremaining: 1m 15s\n",
      "405:\tlearn: 0.5837442\ttotal: 51.5s\tremaining: 1m 15s\n",
      "406:\tlearn: 0.5836537\ttotal: 51.6s\tremaining: 1m 15s\n",
      "407:\tlearn: 0.5835655\ttotal: 51.7s\tremaining: 1m 15s\n",
      "408:\tlearn: 0.5834544\ttotal: 51.8s\tremaining: 1m 14s\n",
      "409:\tlearn: 0.5833589\ttotal: 52s\tremaining: 1m 14s\n",
      "410:\tlearn: 0.5832777\ttotal: 52.1s\tremaining: 1m 14s\n",
      "411:\tlearn: 0.5831797\ttotal: 52.2s\tremaining: 1m 14s\n",
      "412:\tlearn: 0.5830867\ttotal: 52.3s\tremaining: 1m 14s\n",
      "413:\tlearn: 0.5829924\ttotal: 52.4s\tremaining: 1m 14s\n",
      "414:\tlearn: 0.5828942\ttotal: 52.5s\tremaining: 1m 14s\n",
      "415:\tlearn: 0.5828098\ttotal: 52.6s\tremaining: 1m 13s\n",
      "416:\tlearn: 0.5827289\ttotal: 52.8s\tremaining: 1m 13s\n",
      "417:\tlearn: 0.5826400\ttotal: 52.9s\tremaining: 1m 13s\n",
      "418:\tlearn: 0.5825450\ttotal: 53s\tremaining: 1m 13s\n",
      "419:\tlearn: 0.5824533\ttotal: 53.1s\tremaining: 1m 13s\n",
      "420:\tlearn: 0.5823713\ttotal: 53.2s\tremaining: 1m 13s\n",
      "421:\tlearn: 0.5822653\ttotal: 53.3s\tremaining: 1m 13s\n",
      "422:\tlearn: 0.5821456\ttotal: 53.5s\tremaining: 1m 12s\n",
      "423:\tlearn: 0.5820362\ttotal: 53.6s\tremaining: 1m 12s\n",
      "424:\tlearn: 0.5819318\ttotal: 53.7s\tremaining: 1m 12s\n",
      "425:\tlearn: 0.5818419\ttotal: 53.9s\tremaining: 1m 12s\n",
      "426:\tlearn: 0.5817442\ttotal: 54s\tremaining: 1m 12s\n",
      "427:\tlearn: 0.5816515\ttotal: 54.1s\tremaining: 1m 12s\n",
      "428:\tlearn: 0.5815504\ttotal: 54.2s\tremaining: 1m 12s\n",
      "429:\tlearn: 0.5814397\ttotal: 54.4s\tremaining: 1m 12s\n",
      "430:\tlearn: 0.5813260\ttotal: 54.5s\tremaining: 1m 11s\n",
      "431:\tlearn: 0.5812167\ttotal: 54.6s\tremaining: 1m 11s\n",
      "432:\tlearn: 0.5811218\ttotal: 54.7s\tremaining: 1m 11s\n",
      "433:\tlearn: 0.5810359\ttotal: 54.8s\tremaining: 1m 11s\n",
      "434:\tlearn: 0.5809559\ttotal: 55s\tremaining: 1m 11s\n",
      "435:\tlearn: 0.5808446\ttotal: 55.1s\tremaining: 1m 11s\n",
      "436:\tlearn: 0.5807424\ttotal: 55.2s\tremaining: 1m 11s\n",
      "437:\tlearn: 0.5806539\ttotal: 55.3s\tremaining: 1m 10s\n",
      "438:\tlearn: 0.5805508\ttotal: 55.4s\tremaining: 1m 10s\n",
      "439:\tlearn: 0.5804609\ttotal: 55.6s\tremaining: 1m 10s\n",
      "440:\tlearn: 0.5803851\ttotal: 55.7s\tremaining: 1m 10s\n",
      "441:\tlearn: 0.5802822\ttotal: 55.8s\tremaining: 1m 10s\n",
      "442:\tlearn: 0.5801618\ttotal: 55.9s\tremaining: 1m 10s\n",
      "443:\tlearn: 0.5800675\ttotal: 56s\tremaining: 1m 10s\n",
      "444:\tlearn: 0.5799521\ttotal: 56.2s\tremaining: 1m 10s\n",
      "445:\tlearn: 0.5798636\ttotal: 56.3s\tremaining: 1m 9s\n",
      "446:\tlearn: 0.5797894\ttotal: 56.4s\tremaining: 1m 9s\n",
      "447:\tlearn: 0.5797088\ttotal: 56.5s\tremaining: 1m 9s\n",
      "448:\tlearn: 0.5796044\ttotal: 56.6s\tremaining: 1m 9s\n",
      "449:\tlearn: 0.5795033\ttotal: 56.7s\tremaining: 1m 9s\n",
      "450:\tlearn: 0.5794097\ttotal: 56.9s\tremaining: 1m 9s\n",
      "451:\tlearn: 0.5793103\ttotal: 57s\tremaining: 1m 9s\n",
      "452:\tlearn: 0.5792338\ttotal: 57.1s\tremaining: 1m 8s\n",
      "453:\tlearn: 0.5791283\ttotal: 57.2s\tremaining: 1m 8s\n",
      "454:\tlearn: 0.5790255\ttotal: 57.3s\tremaining: 1m 8s\n",
      "455:\tlearn: 0.5789331\ttotal: 57.5s\tremaining: 1m 8s\n",
      "456:\tlearn: 0.5788278\ttotal: 57.6s\tremaining: 1m 8s\n",
      "457:\tlearn: 0.5787371\ttotal: 57.7s\tremaining: 1m 8s\n",
      "458:\tlearn: 0.5786332\ttotal: 57.8s\tremaining: 1m 8s\n",
      "459:\tlearn: 0.5785509\ttotal: 58s\tremaining: 1m 8s\n",
      "460:\tlearn: 0.5784456\ttotal: 58.1s\tremaining: 1m 7s\n",
      "461:\tlearn: 0.5783529\ttotal: 58.2s\tremaining: 1m 7s\n",
      "462:\tlearn: 0.5782525\ttotal: 58.3s\tremaining: 1m 7s\n",
      "463:\tlearn: 0.5781773\ttotal: 58.4s\tremaining: 1m 7s\n",
      "464:\tlearn: 0.5780655\ttotal: 58.6s\tremaining: 1m 7s\n",
      "465:\tlearn: 0.5779625\ttotal: 58.7s\tremaining: 1m 7s\n",
      "466:\tlearn: 0.5778932\ttotal: 58.9s\tremaining: 1m 7s\n",
      "467:\tlearn: 0.5777775\ttotal: 59s\tremaining: 1m 7s\n",
      "468:\tlearn: 0.5776958\ttotal: 59.1s\tremaining: 1m 6s\n",
      "469:\tlearn: 0.5776121\ttotal: 59.3s\tremaining: 1m 6s\n",
      "470:\tlearn: 0.5775399\ttotal: 59.4s\tremaining: 1m 6s\n",
      "471:\tlearn: 0.5774567\ttotal: 59.5s\tremaining: 1m 6s\n",
      "472:\tlearn: 0.5773738\ttotal: 59.6s\tremaining: 1m 6s\n",
      "473:\tlearn: 0.5772760\ttotal: 59.7s\tremaining: 1m 6s\n",
      "474:\tlearn: 0.5771848\ttotal: 59.8s\tremaining: 1m 6s\n",
      "475:\tlearn: 0.5770781\ttotal: 60s\tremaining: 1m 6s\n",
      "476:\tlearn: 0.5769720\ttotal: 1m\tremaining: 1m 5s\n",
      "477:\tlearn: 0.5768682\ttotal: 1m\tremaining: 1m 5s\n",
      "478:\tlearn: 0.5767893\ttotal: 1m\tremaining: 1m 5s\n",
      "479:\tlearn: 0.5767021\ttotal: 1m\tremaining: 1m 5s\n",
      "480:\tlearn: 0.5766262\ttotal: 1m\tremaining: 1m 5s\n",
      "481:\tlearn: 0.5765541\ttotal: 1m\tremaining: 1m 5s\n",
      "482:\tlearn: 0.5763583\ttotal: 1m\tremaining: 1m 5s\n",
      "483:\tlearn: 0.5762619\ttotal: 1m\tremaining: 1m 4s\n",
      "484:\tlearn: 0.5761785\ttotal: 1m 1s\tremaining: 1m 4s\n",
      "485:\tlearn: 0.5760838\ttotal: 1m 1s\tremaining: 1m 4s\n",
      "486:\tlearn: 0.5759993\ttotal: 1m 1s\tremaining: 1m 4s\n",
      "487:\tlearn: 0.5759133\ttotal: 1m 1s\tremaining: 1m 4s\n",
      "488:\tlearn: 0.5758200\ttotal: 1m 1s\tremaining: 1m 4s\n",
      "489:\tlearn: 0.5757228\ttotal: 1m 1s\tremaining: 1m 4s\n",
      "490:\tlearn: 0.5756208\ttotal: 1m 1s\tremaining: 1m 4s\n",
      "491:\tlearn: 0.5755465\ttotal: 1m 1s\tremaining: 1m 3s\n",
      "492:\tlearn: 0.5754396\ttotal: 1m 1s\tremaining: 1m 3s\n",
      "493:\tlearn: 0.5753606\ttotal: 1m 2s\tremaining: 1m 3s\n",
      "494:\tlearn: 0.5752634\ttotal: 1m 2s\tremaining: 1m 3s\n",
      "495:\tlearn: 0.5751784\ttotal: 1m 2s\tremaining: 1m 3s\n",
      "496:\tlearn: 0.5751112\ttotal: 1m 2s\tremaining: 1m 3s\n",
      "497:\tlearn: 0.5750218\ttotal: 1m 2s\tremaining: 1m 3s\n",
      "498:\tlearn: 0.5749288\ttotal: 1m 2s\tremaining: 1m 2s\n",
      "499:\tlearn: 0.5748282\ttotal: 1m 2s\tremaining: 1m 2s\n",
      "500:\tlearn: 0.5747275\ttotal: 1m 2s\tremaining: 1m 2s\n",
      "501:\tlearn: 0.5746413\ttotal: 1m 3s\tremaining: 1m 2s\n",
      "502:\tlearn: 0.5745521\ttotal: 1m 3s\tremaining: 1m 2s\n",
      "503:\tlearn: 0.5744578\ttotal: 1m 3s\tremaining: 1m 2s\n",
      "504:\tlearn: 0.5743603\ttotal: 1m 3s\tremaining: 1m 2s\n",
      "505:\tlearn: 0.5742610\ttotal: 1m 3s\tremaining: 1m 2s\n",
      "506:\tlearn: 0.5741633\ttotal: 1m 3s\tremaining: 1m 1s\n",
      "507:\tlearn: 0.5740549\ttotal: 1m 3s\tremaining: 1m 1s\n",
      "508:\tlearn: 0.5739344\ttotal: 1m 3s\tremaining: 1m 1s\n",
      "509:\tlearn: 0.5738289\ttotal: 1m 4s\tremaining: 1m 1s\n",
      "510:\tlearn: 0.5737639\ttotal: 1m 4s\tremaining: 1m 1s\n",
      "511:\tlearn: 0.5736682\ttotal: 1m 4s\tremaining: 1m 1s\n",
      "512:\tlearn: 0.5735553\ttotal: 1m 4s\tremaining: 1m 1s\n",
      "513:\tlearn: 0.5734531\ttotal: 1m 4s\tremaining: 1m 1s\n",
      "514:\tlearn: 0.5733816\ttotal: 1m 4s\tremaining: 1m\n",
      "515:\tlearn: 0.5732959\ttotal: 1m 4s\tremaining: 1m\n",
      "516:\tlearn: 0.5732206\ttotal: 1m 4s\tremaining: 1m\n",
      "517:\tlearn: 0.5731352\ttotal: 1m 5s\tremaining: 1m\n",
      "518:\tlearn: 0.5730514\ttotal: 1m 5s\tremaining: 1m\n",
      "519:\tlearn: 0.5729437\ttotal: 1m 5s\tremaining: 1m\n",
      "520:\tlearn: 0.5728408\ttotal: 1m 5s\tremaining: 1m\n",
      "521:\tlearn: 0.5727656\ttotal: 1m 5s\tremaining: 1m\n",
      "522:\tlearn: 0.5726899\ttotal: 1m 5s\tremaining: 59.9s\n",
      "523:\tlearn: 0.5725817\ttotal: 1m 5s\tremaining: 59.8s\n",
      "524:\tlearn: 0.5724772\ttotal: 1m 5s\tremaining: 59.6s\n",
      "525:\tlearn: 0.5723714\ttotal: 1m 6s\tremaining: 59.5s\n",
      "526:\tlearn: 0.5722962\ttotal: 1m 6s\tremaining: 59.4s\n",
      "527:\tlearn: 0.5720999\ttotal: 1m 6s\tremaining: 59.2s\n",
      "528:\tlearn: 0.5720095\ttotal: 1m 6s\tremaining: 59.1s\n",
      "529:\tlearn: 0.5719293\ttotal: 1m 6s\tremaining: 59s\n",
      "530:\tlearn: 0.5718358\ttotal: 1m 6s\tremaining: 58.8s\n",
      "531:\tlearn: 0.5717672\ttotal: 1m 6s\tremaining: 58.7s\n",
      "532:\tlearn: 0.5716842\ttotal: 1m 6s\tremaining: 58.6s\n",
      "533:\tlearn: 0.5715933\ttotal: 1m 6s\tremaining: 58.4s\n",
      "534:\tlearn: 0.5715229\ttotal: 1m 7s\tremaining: 58.3s\n",
      "535:\tlearn: 0.5714343\ttotal: 1m 7s\tremaining: 58.2s\n",
      "536:\tlearn: 0.5713521\ttotal: 1m 7s\tremaining: 58s\n",
      "537:\tlearn: 0.5712634\ttotal: 1m 7s\tremaining: 57.9s\n",
      "538:\tlearn: 0.5711783\ttotal: 1m 7s\tremaining: 57.8s\n",
      "539:\tlearn: 0.5710957\ttotal: 1m 7s\tremaining: 57.6s\n",
      "540:\tlearn: 0.5709999\ttotal: 1m 7s\tremaining: 57.5s\n",
      "541:\tlearn: 0.5709234\ttotal: 1m 7s\tremaining: 57.4s\n",
      "542:\tlearn: 0.5708514\ttotal: 1m 8s\tremaining: 57.2s\n",
      "543:\tlearn: 0.5707661\ttotal: 1m 8s\tremaining: 57.1s\n",
      "544:\tlearn: 0.5706895\ttotal: 1m 8s\tremaining: 57s\n",
      "545:\tlearn: 0.5705929\ttotal: 1m 8s\tremaining: 56.9s\n",
      "546:\tlearn: 0.5704812\ttotal: 1m 8s\tremaining: 56.8s\n",
      "547:\tlearn: 0.5704177\ttotal: 1m 8s\tremaining: 56.7s\n",
      "548:\tlearn: 0.5703224\ttotal: 1m 8s\tremaining: 56.6s\n",
      "549:\tlearn: 0.5702428\ttotal: 1m 9s\tremaining: 56.5s\n",
      "550:\tlearn: 0.5701517\ttotal: 1m 9s\tremaining: 56.4s\n",
      "551:\tlearn: 0.5700635\ttotal: 1m 9s\tremaining: 56.3s\n",
      "552:\tlearn: 0.5699824\ttotal: 1m 9s\tremaining: 56.3s\n",
      "553:\tlearn: 0.5699003\ttotal: 1m 9s\tremaining: 56.1s\n",
      "554:\tlearn: 0.5698122\ttotal: 1m 9s\tremaining: 56s\n",
      "555:\tlearn: 0.5697422\ttotal: 1m 9s\tremaining: 55.9s\n",
      "556:\tlearn: 0.5696447\ttotal: 1m 10s\tremaining: 55.7s\n",
      "557:\tlearn: 0.5695594\ttotal: 1m 10s\tremaining: 55.6s\n",
      "558:\tlearn: 0.5694618\ttotal: 1m 10s\tremaining: 55.5s\n",
      "559:\tlearn: 0.5693798\ttotal: 1m 10s\tremaining: 55.3s\n",
      "560:\tlearn: 0.5692880\ttotal: 1m 10s\tremaining: 55.2s\n",
      "561:\tlearn: 0.5692177\ttotal: 1m 10s\tremaining: 55.1s\n",
      "562:\tlearn: 0.5691330\ttotal: 1m 10s\tremaining: 54.9s\n",
      "563:\tlearn: 0.5690482\ttotal: 1m 10s\tremaining: 54.8s\n",
      "564:\tlearn: 0.5689683\ttotal: 1m 11s\tremaining: 54.7s\n",
      "565:\tlearn: 0.5688645\ttotal: 1m 11s\tremaining: 54.6s\n",
      "566:\tlearn: 0.5687880\ttotal: 1m 11s\tremaining: 54.4s\n",
      "567:\tlearn: 0.5687110\ttotal: 1m 11s\tremaining: 54.3s\n",
      "568:\tlearn: 0.5686207\ttotal: 1m 11s\tremaining: 54.2s\n",
      "569:\tlearn: 0.5685316\ttotal: 1m 11s\tremaining: 54s\n",
      "570:\tlearn: 0.5684659\ttotal: 1m 11s\tremaining: 53.9s\n",
      "571:\tlearn: 0.5683913\ttotal: 1m 11s\tremaining: 53.8s\n",
      "572:\tlearn: 0.5683236\ttotal: 1m 11s\tremaining: 53.7s\n",
      "573:\tlearn: 0.5682523\ttotal: 1m 12s\tremaining: 53.5s\n",
      "574:\tlearn: 0.5681923\ttotal: 1m 12s\tremaining: 53.4s\n",
      "575:\tlearn: 0.5680920\ttotal: 1m 12s\tremaining: 53.3s\n",
      "576:\tlearn: 0.5679876\ttotal: 1m 12s\tremaining: 53.2s\n",
      "577:\tlearn: 0.5679268\ttotal: 1m 12s\tremaining: 53s\n",
      "578:\tlearn: 0.5678372\ttotal: 1m 12s\tremaining: 52.9s\n",
      "579:\tlearn: 0.5677465\ttotal: 1m 12s\tremaining: 52.8s\n",
      "580:\tlearn: 0.5676619\ttotal: 1m 13s\tremaining: 52.7s\n",
      "581:\tlearn: 0.5675671\ttotal: 1m 13s\tremaining: 52.5s\n",
      "582:\tlearn: 0.5674902\ttotal: 1m 13s\tremaining: 52.4s\n",
      "583:\tlearn: 0.5673974\ttotal: 1m 13s\tremaining: 52.3s\n",
      "584:\tlearn: 0.5673136\ttotal: 1m 13s\tremaining: 52.2s\n",
      "585:\tlearn: 0.5672501\ttotal: 1m 13s\tremaining: 52s\n",
      "586:\tlearn: 0.5671800\ttotal: 1m 13s\tremaining: 51.9s\n",
      "587:\tlearn: 0.5670880\ttotal: 1m 13s\tremaining: 51.8s\n",
      "588:\tlearn: 0.5670148\ttotal: 1m 13s\tremaining: 51.6s\n",
      "589:\tlearn: 0.5669207\ttotal: 1m 14s\tremaining: 51.5s\n",
      "590:\tlearn: 0.5668260\ttotal: 1m 14s\tremaining: 51.4s\n",
      "591:\tlearn: 0.5667373\ttotal: 1m 14s\tremaining: 51.3s\n",
      "592:\tlearn: 0.5666641\ttotal: 1m 14s\tremaining: 51.1s\n",
      "593:\tlearn: 0.5665697\ttotal: 1m 14s\tremaining: 51s\n",
      "594:\tlearn: 0.5664704\ttotal: 1m 14s\tremaining: 50.9s\n",
      "595:\tlearn: 0.5663873\ttotal: 1m 14s\tremaining: 50.8s\n",
      "596:\tlearn: 0.5662783\ttotal: 1m 15s\tremaining: 50.7s\n",
      "597:\tlearn: 0.5661860\ttotal: 1m 15s\tremaining: 50.6s\n",
      "598:\tlearn: 0.5660988\ttotal: 1m 15s\tremaining: 50.4s\n",
      "599:\tlearn: 0.5660244\ttotal: 1m 15s\tremaining: 50.3s\n",
      "600:\tlearn: 0.5659509\ttotal: 1m 15s\tremaining: 50.2s\n",
      "601:\tlearn: 0.5658569\ttotal: 1m 15s\tremaining: 50s\n",
      "602:\tlearn: 0.5657488\ttotal: 1m 15s\tremaining: 50s\n",
      "603:\tlearn: 0.5656787\ttotal: 1m 16s\tremaining: 49.8s\n",
      "604:\tlearn: 0.5655957\ttotal: 1m 16s\tremaining: 49.7s\n",
      "605:\tlearn: 0.5655146\ttotal: 1m 16s\tremaining: 49.6s\n",
      "606:\tlearn: 0.5654408\ttotal: 1m 16s\tremaining: 49.4s\n",
      "607:\tlearn: 0.5653599\ttotal: 1m 16s\tremaining: 49.3s\n",
      "608:\tlearn: 0.5652731\ttotal: 1m 16s\tremaining: 49.2s\n",
      "609:\tlearn: 0.5651815\ttotal: 1m 16s\tremaining: 49.1s\n",
      "610:\tlearn: 0.5650998\ttotal: 1m 16s\tremaining: 48.9s\n",
      "611:\tlearn: 0.5650243\ttotal: 1m 16s\tremaining: 48.8s\n",
      "612:\tlearn: 0.5649446\ttotal: 1m 17s\tremaining: 48.7s\n",
      "613:\tlearn: 0.5648693\ttotal: 1m 17s\tremaining: 48.5s\n",
      "614:\tlearn: 0.5647849\ttotal: 1m 17s\tremaining: 48.4s\n",
      "615:\tlearn: 0.5647118\ttotal: 1m 17s\tremaining: 48.3s\n",
      "616:\tlearn: 0.5646332\ttotal: 1m 17s\tremaining: 48.1s\n",
      "617:\tlearn: 0.5645465\ttotal: 1m 17s\tremaining: 48s\n",
      "618:\tlearn: 0.5644474\ttotal: 1m 17s\tremaining: 47.9s\n",
      "619:\tlearn: 0.5643636\ttotal: 1m 17s\tremaining: 47.8s\n",
      "620:\tlearn: 0.5642658\ttotal: 1m 18s\tremaining: 47.6s\n",
      "621:\tlearn: 0.5641803\ttotal: 1m 18s\tremaining: 47.5s\n",
      "622:\tlearn: 0.5640975\ttotal: 1m 18s\tremaining: 47.4s\n",
      "623:\tlearn: 0.5640000\ttotal: 1m 18s\tremaining: 47.3s\n",
      "624:\tlearn: 0.5639150\ttotal: 1m 18s\tremaining: 47.1s\n",
      "625:\tlearn: 0.5638227\ttotal: 1m 18s\tremaining: 47s\n",
      "626:\tlearn: 0.5637542\ttotal: 1m 18s\tremaining: 46.9s\n",
      "627:\tlearn: 0.5636880\ttotal: 1m 18s\tremaining: 46.7s\n",
      "628:\tlearn: 0.5636139\ttotal: 1m 19s\tremaining: 46.6s\n",
      "629:\tlearn: 0.5635098\ttotal: 1m 19s\tremaining: 46.5s\n",
      "630:\tlearn: 0.5634322\ttotal: 1m 19s\tremaining: 46.4s\n",
      "631:\tlearn: 0.5633456\ttotal: 1m 19s\tremaining: 46.2s\n",
      "632:\tlearn: 0.5632761\ttotal: 1m 19s\tremaining: 46.1s\n",
      "633:\tlearn: 0.5632033\ttotal: 1m 19s\tremaining: 46s\n",
      "634:\tlearn: 0.5631194\ttotal: 1m 19s\tremaining: 45.8s\n",
      "635:\tlearn: 0.5630438\ttotal: 1m 19s\tremaining: 45.7s\n",
      "636:\tlearn: 0.5629685\ttotal: 1m 19s\tremaining: 45.6s\n",
      "637:\tlearn: 0.5628807\ttotal: 1m 20s\tremaining: 45.5s\n",
      "638:\tlearn: 0.5627819\ttotal: 1m 20s\tremaining: 45.3s\n",
      "639:\tlearn: 0.5627074\ttotal: 1m 20s\tremaining: 45.2s\n",
      "640:\tlearn: 0.5626299\ttotal: 1m 20s\tremaining: 45.1s\n",
      "641:\tlearn: 0.5625667\ttotal: 1m 20s\tremaining: 44.9s\n",
      "642:\tlearn: 0.5624779\ttotal: 1m 20s\tremaining: 44.8s\n",
      "643:\tlearn: 0.5623907\ttotal: 1m 20s\tremaining: 44.7s\n",
      "644:\tlearn: 0.5622936\ttotal: 1m 20s\tremaining: 44.5s\n",
      "645:\tlearn: 0.5622083\ttotal: 1m 21s\tremaining: 44.4s\n",
      "646:\tlearn: 0.5621156\ttotal: 1m 21s\tremaining: 44.3s\n",
      "647:\tlearn: 0.5620539\ttotal: 1m 21s\tremaining: 44.2s\n",
      "648:\tlearn: 0.5619753\ttotal: 1m 21s\tremaining: 44s\n",
      "649:\tlearn: 0.5618851\ttotal: 1m 21s\tremaining: 43.9s\n",
      "650:\tlearn: 0.5618049\ttotal: 1m 21s\tremaining: 43.8s\n",
      "651:\tlearn: 0.5616991\ttotal: 1m 21s\tremaining: 43.6s\n",
      "652:\tlearn: 0.5616090\ttotal: 1m 21s\tremaining: 43.5s\n",
      "653:\tlearn: 0.5615299\ttotal: 1m 22s\tremaining: 43.4s\n",
      "654:\tlearn: 0.5614523\ttotal: 1m 22s\tremaining: 43.3s\n",
      "655:\tlearn: 0.5613725\ttotal: 1m 22s\tremaining: 43.1s\n",
      "656:\tlearn: 0.5613061\ttotal: 1m 22s\tremaining: 43s\n",
      "657:\tlearn: 0.5612198\ttotal: 1m 22s\tremaining: 42.9s\n",
      "658:\tlearn: 0.5611368\ttotal: 1m 22s\tremaining: 42.7s\n",
      "659:\tlearn: 0.5610291\ttotal: 1m 22s\tremaining: 42.6s\n",
      "660:\tlearn: 0.5609353\ttotal: 1m 22s\tremaining: 42.5s\n",
      "661:\tlearn: 0.5607791\ttotal: 1m 22s\tremaining: 42.4s\n",
      "662:\tlearn: 0.5606920\ttotal: 1m 23s\tremaining: 42.2s\n",
      "663:\tlearn: 0.5606116\ttotal: 1m 23s\tremaining: 42.1s\n",
      "664:\tlearn: 0.5605323\ttotal: 1m 23s\tremaining: 42s\n",
      "665:\tlearn: 0.5604608\ttotal: 1m 23s\tremaining: 41.9s\n",
      "666:\tlearn: 0.5603757\ttotal: 1m 23s\tremaining: 41.7s\n",
      "667:\tlearn: 0.5602977\ttotal: 1m 23s\tremaining: 41.6s\n",
      "668:\tlearn: 0.5602158\ttotal: 1m 23s\tremaining: 41.5s\n",
      "669:\tlearn: 0.5601376\ttotal: 1m 23s\tremaining: 41.4s\n",
      "670:\tlearn: 0.5600419\ttotal: 1m 24s\tremaining: 41.2s\n",
      "671:\tlearn: 0.5599736\ttotal: 1m 24s\tremaining: 41.1s\n",
      "672:\tlearn: 0.5599123\ttotal: 1m 24s\tremaining: 41s\n",
      "673:\tlearn: 0.5598155\ttotal: 1m 24s\tremaining: 40.9s\n",
      "674:\tlearn: 0.5597272\ttotal: 1m 24s\tremaining: 40.7s\n",
      "675:\tlearn: 0.5596667\ttotal: 1m 24s\tremaining: 40.6s\n",
      "676:\tlearn: 0.5595799\ttotal: 1m 24s\tremaining: 40.5s\n",
      "677:\tlearn: 0.5594868\ttotal: 1m 24s\tremaining: 40.4s\n",
      "678:\tlearn: 0.5594121\ttotal: 1m 25s\tremaining: 40.2s\n",
      "679:\tlearn: 0.5593261\ttotal: 1m 25s\tremaining: 40.1s\n",
      "680:\tlearn: 0.5592424\ttotal: 1m 25s\tremaining: 40s\n",
      "681:\tlearn: 0.5591649\ttotal: 1m 25s\tremaining: 39.8s\n",
      "682:\tlearn: 0.5590730\ttotal: 1m 25s\tremaining: 39.7s\n",
      "683:\tlearn: 0.5590031\ttotal: 1m 25s\tremaining: 39.6s\n",
      "684:\tlearn: 0.5589288\ttotal: 1m 25s\tremaining: 39.5s\n",
      "685:\tlearn: 0.5588646\ttotal: 1m 25s\tremaining: 39.3s\n",
      "686:\tlearn: 0.5587905\ttotal: 1m 26s\tremaining: 39.2s\n",
      "687:\tlearn: 0.5587137\ttotal: 1m 26s\tremaining: 39.1s\n",
      "688:\tlearn: 0.5586177\ttotal: 1m 26s\tremaining: 39s\n",
      "689:\tlearn: 0.5585340\ttotal: 1m 26s\tremaining: 38.8s\n",
      "690:\tlearn: 0.5584637\ttotal: 1m 26s\tremaining: 38.7s\n",
      "691:\tlearn: 0.5583913\ttotal: 1m 26s\tremaining: 38.6s\n",
      "692:\tlearn: 0.5583138\ttotal: 1m 26s\tremaining: 38.5s\n",
      "693:\tlearn: 0.5582544\ttotal: 1m 26s\tremaining: 38.4s\n",
      "694:\tlearn: 0.5581732\ttotal: 1m 27s\tremaining: 38.2s\n",
      "695:\tlearn: 0.5580830\ttotal: 1m 27s\tremaining: 38.1s\n",
      "696:\tlearn: 0.5580009\ttotal: 1m 27s\tremaining: 38s\n",
      "697:\tlearn: 0.5579321\ttotal: 1m 27s\tremaining: 37.8s\n",
      "698:\tlearn: 0.5578518\ttotal: 1m 27s\tremaining: 37.7s\n",
      "699:\tlearn: 0.5577709\ttotal: 1m 27s\tremaining: 37.6s\n",
      "700:\tlearn: 0.5576849\ttotal: 1m 27s\tremaining: 37.5s\n",
      "701:\tlearn: 0.5575912\ttotal: 1m 27s\tremaining: 37.3s\n",
      "702:\tlearn: 0.5575209\ttotal: 1m 28s\tremaining: 37.2s\n",
      "703:\tlearn: 0.5574428\ttotal: 1m 28s\tremaining: 37.1s\n",
      "704:\tlearn: 0.5573441\ttotal: 1m 28s\tremaining: 36.9s\n",
      "705:\tlearn: 0.5572603\ttotal: 1m 28s\tremaining: 36.8s\n",
      "706:\tlearn: 0.5571705\ttotal: 1m 28s\tremaining: 36.7s\n",
      "707:\tlearn: 0.5571035\ttotal: 1m 28s\tremaining: 36.6s\n",
      "708:\tlearn: 0.5570117\ttotal: 1m 28s\tremaining: 36.4s\n",
      "709:\tlearn: 0.5569425\ttotal: 1m 28s\tremaining: 36.3s\n",
      "710:\tlearn: 0.5568632\ttotal: 1m 29s\tremaining: 36.2s\n",
      "711:\tlearn: 0.5567707\ttotal: 1m 29s\tremaining: 36.1s\n",
      "712:\tlearn: 0.5566924\ttotal: 1m 29s\tremaining: 36s\n",
      "713:\tlearn: 0.5566301\ttotal: 1m 29s\tremaining: 35.8s\n",
      "714:\tlearn: 0.5565612\ttotal: 1m 29s\tremaining: 35.7s\n",
      "715:\tlearn: 0.5564969\ttotal: 1m 29s\tremaining: 35.6s\n",
      "716:\tlearn: 0.5564152\ttotal: 1m 29s\tremaining: 35.5s\n",
      "717:\tlearn: 0.5563344\ttotal: 1m 29s\tremaining: 35.3s\n",
      "718:\tlearn: 0.5562390\ttotal: 1m 30s\tremaining: 35.2s\n",
      "719:\tlearn: 0.5561566\ttotal: 1m 30s\tremaining: 35.1s\n",
      "720:\tlearn: 0.5560777\ttotal: 1m 30s\tremaining: 35s\n",
      "721:\tlearn: 0.5559911\ttotal: 1m 30s\tremaining: 34.8s\n",
      "722:\tlearn: 0.5559371\ttotal: 1m 30s\tremaining: 34.7s\n",
      "723:\tlearn: 0.5558456\ttotal: 1m 30s\tremaining: 34.6s\n",
      "724:\tlearn: 0.5557779\ttotal: 1m 30s\tremaining: 34.5s\n",
      "725:\tlearn: 0.5557103\ttotal: 1m 30s\tremaining: 34.3s\n",
      "726:\tlearn: 0.5556448\ttotal: 1m 31s\tremaining: 34.2s\n",
      "727:\tlearn: 0.5555642\ttotal: 1m 31s\tremaining: 34.1s\n",
      "728:\tlearn: 0.5554884\ttotal: 1m 31s\tremaining: 33.9s\n",
      "729:\tlearn: 0.5553892\ttotal: 1m 31s\tremaining: 33.8s\n",
      "730:\tlearn: 0.5553006\ttotal: 1m 31s\tremaining: 33.7s\n",
      "731:\tlearn: 0.5552295\ttotal: 1m 31s\tremaining: 33.6s\n",
      "732:\tlearn: 0.5551674\ttotal: 1m 31s\tremaining: 33.5s\n",
      "733:\tlearn: 0.5550831\ttotal: 1m 31s\tremaining: 33.3s\n",
      "734:\tlearn: 0.5550067\ttotal: 1m 32s\tremaining: 33.2s\n",
      "735:\tlearn: 0.5549303\ttotal: 1m 32s\tremaining: 33.1s\n",
      "736:\tlearn: 0.5548386\ttotal: 1m 32s\tremaining: 33s\n",
      "737:\tlearn: 0.5547801\ttotal: 1m 32s\tremaining: 32.8s\n",
      "738:\tlearn: 0.5546921\ttotal: 1m 32s\tremaining: 32.7s\n",
      "739:\tlearn: 0.5546205\ttotal: 1m 32s\tremaining: 32.6s\n",
      "740:\tlearn: 0.5545523\ttotal: 1m 32s\tremaining: 32.4s\n",
      "741:\tlearn: 0.5544689\ttotal: 1m 32s\tremaining: 32.3s\n",
      "742:\tlearn: 0.5543895\ttotal: 1m 33s\tremaining: 32.2s\n",
      "743:\tlearn: 0.5543174\ttotal: 1m 33s\tremaining: 32s\n",
      "744:\tlearn: 0.5542382\ttotal: 1m 33s\tremaining: 31.9s\n",
      "745:\tlearn: 0.5541697\ttotal: 1m 33s\tremaining: 31.8s\n",
      "746:\tlearn: 0.5540760\ttotal: 1m 33s\tremaining: 31.7s\n",
      "747:\tlearn: 0.5540160\ttotal: 1m 33s\tremaining: 31.5s\n",
      "748:\tlearn: 0.5539301\ttotal: 1m 33s\tremaining: 31.4s\n",
      "749:\tlearn: 0.5538601\ttotal: 1m 33s\tremaining: 31.3s\n",
      "750:\tlearn: 0.5537738\ttotal: 1m 33s\tremaining: 31.2s\n",
      "751:\tlearn: 0.5537136\ttotal: 1m 34s\tremaining: 31s\n",
      "752:\tlearn: 0.5536424\ttotal: 1m 34s\tremaining: 30.9s\n",
      "753:\tlearn: 0.5535478\ttotal: 1m 34s\tremaining: 30.8s\n",
      "754:\tlearn: 0.5534618\ttotal: 1m 34s\tremaining: 30.6s\n",
      "755:\tlearn: 0.5533700\ttotal: 1m 34s\tremaining: 30.5s\n",
      "756:\tlearn: 0.5532876\ttotal: 1m 34s\tremaining: 30.4s\n",
      "757:\tlearn: 0.5531805\ttotal: 1m 34s\tremaining: 30.3s\n",
      "758:\tlearn: 0.5531014\ttotal: 1m 34s\tremaining: 30.2s\n",
      "759:\tlearn: 0.5530187\ttotal: 1m 35s\tremaining: 30s\n",
      "760:\tlearn: 0.5529477\ttotal: 1m 35s\tremaining: 29.9s\n",
      "761:\tlearn: 0.5528626\ttotal: 1m 35s\tremaining: 29.8s\n",
      "762:\tlearn: 0.5527868\ttotal: 1m 35s\tremaining: 29.6s\n",
      "763:\tlearn: 0.5527182\ttotal: 1m 35s\tremaining: 29.5s\n",
      "764:\tlearn: 0.5526473\ttotal: 1m 35s\tremaining: 29.4s\n",
      "765:\tlearn: 0.5525680\ttotal: 1m 35s\tremaining: 29.3s\n",
      "766:\tlearn: 0.5524754\ttotal: 1m 35s\tremaining: 29.2s\n",
      "767:\tlearn: 0.5524180\ttotal: 1m 36s\tremaining: 29s\n",
      "768:\tlearn: 0.5523473\ttotal: 1m 36s\tremaining: 28.9s\n",
      "769:\tlearn: 0.5522763\ttotal: 1m 36s\tremaining: 28.8s\n",
      "770:\tlearn: 0.5522025\ttotal: 1m 36s\tremaining: 28.6s\n",
      "771:\tlearn: 0.5521338\ttotal: 1m 36s\tremaining: 28.5s\n",
      "772:\tlearn: 0.5520560\ttotal: 1m 36s\tremaining: 28.4s\n",
      "773:\tlearn: 0.5519969\ttotal: 1m 36s\tremaining: 28.3s\n",
      "774:\tlearn: 0.5519132\ttotal: 1m 36s\tremaining: 28.1s\n",
      "775:\tlearn: 0.5518247\ttotal: 1m 37s\tremaining: 28s\n",
      "776:\tlearn: 0.5517440\ttotal: 1m 37s\tremaining: 27.9s\n",
      "777:\tlearn: 0.5516776\ttotal: 1m 37s\tremaining: 27.8s\n",
      "778:\tlearn: 0.5515989\ttotal: 1m 37s\tremaining: 27.6s\n",
      "779:\tlearn: 0.5515318\ttotal: 1m 37s\tremaining: 27.5s\n",
      "780:\tlearn: 0.5514307\ttotal: 1m 37s\tremaining: 27.4s\n",
      "781:\tlearn: 0.5513374\ttotal: 1m 37s\tremaining: 27.3s\n",
      "782:\tlearn: 0.5512787\ttotal: 1m 38s\tremaining: 27.2s\n",
      "783:\tlearn: 0.5511999\ttotal: 1m 38s\tremaining: 27s\n",
      "784:\tlearn: 0.5511263\ttotal: 1m 38s\tremaining: 26.9s\n",
      "785:\tlearn: 0.5510406\ttotal: 1m 38s\tremaining: 26.8s\n",
      "786:\tlearn: 0.5509576\ttotal: 1m 38s\tremaining: 26.7s\n",
      "787:\tlearn: 0.5508741\ttotal: 1m 38s\tremaining: 26.5s\n",
      "788:\tlearn: 0.5507944\ttotal: 1m 38s\tremaining: 26.4s\n",
      "789:\tlearn: 0.5507221\ttotal: 1m 38s\tremaining: 26.3s\n",
      "790:\tlearn: 0.5506501\ttotal: 1m 38s\tremaining: 26.2s\n",
      "791:\tlearn: 0.5505738\ttotal: 1m 39s\tremaining: 26s\n",
      "792:\tlearn: 0.5505031\ttotal: 1m 39s\tremaining: 25.9s\n",
      "793:\tlearn: 0.5504193\ttotal: 1m 39s\tremaining: 25.8s\n",
      "794:\tlearn: 0.5503497\ttotal: 1m 39s\tremaining: 25.7s\n",
      "795:\tlearn: 0.5502704\ttotal: 1m 39s\tremaining: 25.5s\n",
      "796:\tlearn: 0.5501997\ttotal: 1m 39s\tremaining: 25.4s\n",
      "797:\tlearn: 0.5501276\ttotal: 1m 39s\tremaining: 25.3s\n",
      "798:\tlearn: 0.5500719\ttotal: 1m 39s\tremaining: 25.2s\n",
      "799:\tlearn: 0.5499953\ttotal: 1m 40s\tremaining: 25s\n",
      "800:\tlearn: 0.5499272\ttotal: 1m 40s\tremaining: 24.9s\n",
      "801:\tlearn: 0.5498630\ttotal: 1m 40s\tremaining: 24.8s\n",
      "802:\tlearn: 0.5497731\ttotal: 1m 40s\tremaining: 24.6s\n",
      "803:\tlearn: 0.5496862\ttotal: 1m 40s\tremaining: 24.5s\n",
      "804:\tlearn: 0.5496183\ttotal: 1m 40s\tremaining: 24.4s\n",
      "805:\tlearn: 0.5495536\ttotal: 1m 40s\tremaining: 24.3s\n",
      "806:\tlearn: 0.5494500\ttotal: 1m 41s\tremaining: 24.2s\n",
      "807:\tlearn: 0.5493756\ttotal: 1m 41s\tremaining: 24s\n",
      "808:\tlearn: 0.5492975\ttotal: 1m 41s\tremaining: 23.9s\n",
      "809:\tlearn: 0.5492354\ttotal: 1m 41s\tremaining: 23.8s\n",
      "810:\tlearn: 0.5491609\ttotal: 1m 41s\tremaining: 23.7s\n",
      "811:\tlearn: 0.5490770\ttotal: 1m 41s\tremaining: 23.5s\n",
      "812:\tlearn: 0.5489878\ttotal: 1m 41s\tremaining: 23.4s\n",
      "813:\tlearn: 0.5488965\ttotal: 1m 41s\tremaining: 23.3s\n",
      "814:\tlearn: 0.5488187\ttotal: 1m 42s\tremaining: 23.2s\n",
      "815:\tlearn: 0.5487399\ttotal: 1m 42s\tremaining: 23.1s\n",
      "816:\tlearn: 0.5486593\ttotal: 1m 42s\tremaining: 22.9s\n",
      "817:\tlearn: 0.5485829\ttotal: 1m 42s\tremaining: 22.8s\n",
      "818:\tlearn: 0.5485070\ttotal: 1m 42s\tremaining: 22.7s\n",
      "819:\tlearn: 0.5484392\ttotal: 1m 42s\tremaining: 22.6s\n",
      "820:\tlearn: 0.5483634\ttotal: 1m 43s\tremaining: 22.5s\n",
      "821:\tlearn: 0.5482654\ttotal: 1m 43s\tremaining: 22.4s\n",
      "822:\tlearn: 0.5481952\ttotal: 1m 43s\tremaining: 22.2s\n",
      "823:\tlearn: 0.5481258\ttotal: 1m 43s\tremaining: 22.1s\n",
      "824:\tlearn: 0.5480495\ttotal: 1m 43s\tremaining: 22s\n",
      "825:\tlearn: 0.5479686\ttotal: 1m 43s\tremaining: 21.9s\n",
      "826:\tlearn: 0.5479131\ttotal: 1m 43s\tremaining: 21.7s\n",
      "827:\tlearn: 0.5478238\ttotal: 1m 43s\tremaining: 21.6s\n",
      "828:\tlearn: 0.5477466\ttotal: 1m 44s\tremaining: 21.5s\n",
      "829:\tlearn: 0.5476673\ttotal: 1m 44s\tremaining: 21.3s\n",
      "830:\tlearn: 0.5475972\ttotal: 1m 44s\tremaining: 21.2s\n",
      "831:\tlearn: 0.5474952\ttotal: 1m 44s\tremaining: 21.1s\n",
      "832:\tlearn: 0.5474329\ttotal: 1m 44s\tremaining: 21s\n",
      "833:\tlearn: 0.5473649\ttotal: 1m 44s\tremaining: 20.8s\n",
      "834:\tlearn: 0.5472746\ttotal: 1m 44s\tremaining: 20.7s\n",
      "835:\tlearn: 0.5471849\ttotal: 1m 44s\tremaining: 20.6s\n",
      "836:\tlearn: 0.5471023\ttotal: 1m 45s\tremaining: 20.5s\n",
      "837:\tlearn: 0.5470393\ttotal: 1m 45s\tremaining: 20.3s\n",
      "838:\tlearn: 0.5469639\ttotal: 1m 45s\tremaining: 20.2s\n",
      "839:\tlearn: 0.5468885\ttotal: 1m 45s\tremaining: 20.1s\n",
      "840:\tlearn: 0.5468150\ttotal: 1m 45s\tremaining: 20s\n",
      "841:\tlearn: 0.5467413\ttotal: 1m 45s\tremaining: 19.8s\n",
      "842:\tlearn: 0.5466630\ttotal: 1m 45s\tremaining: 19.7s\n",
      "843:\tlearn: 0.5465890\ttotal: 1m 45s\tremaining: 19.6s\n",
      "844:\tlearn: 0.5465228\ttotal: 1m 46s\tremaining: 19.5s\n",
      "845:\tlearn: 0.5464409\ttotal: 1m 46s\tremaining: 19.3s\n",
      "846:\tlearn: 0.5463588\ttotal: 1m 46s\tremaining: 19.2s\n",
      "847:\tlearn: 0.5462872\ttotal: 1m 46s\tremaining: 19.1s\n",
      "848:\tlearn: 0.5462159\ttotal: 1m 46s\tremaining: 19s\n",
      "849:\tlearn: 0.5461444\ttotal: 1m 46s\tremaining: 18.8s\n",
      "850:\tlearn: 0.5460869\ttotal: 1m 46s\tremaining: 18.7s\n",
      "851:\tlearn: 0.5460211\ttotal: 1m 46s\tremaining: 18.6s\n",
      "852:\tlearn: 0.5459585\ttotal: 1m 47s\tremaining: 18.4s\n",
      "853:\tlearn: 0.5458892\ttotal: 1m 47s\tremaining: 18.3s\n",
      "854:\tlearn: 0.5458195\ttotal: 1m 47s\tremaining: 18.2s\n",
      "855:\tlearn: 0.5457179\ttotal: 1m 47s\tremaining: 18.1s\n",
      "856:\tlearn: 0.5456281\ttotal: 1m 47s\tremaining: 17.9s\n",
      "857:\tlearn: 0.5455534\ttotal: 1m 47s\tremaining: 17.8s\n",
      "858:\tlearn: 0.5454892\ttotal: 1m 47s\tremaining: 17.7s\n",
      "859:\tlearn: 0.5454157\ttotal: 1m 47s\tremaining: 17.6s\n",
      "860:\tlearn: 0.5453315\ttotal: 1m 47s\tremaining: 17.4s\n",
      "861:\tlearn: 0.5452528\ttotal: 1m 48s\tremaining: 17.3s\n",
      "862:\tlearn: 0.5451752\ttotal: 1m 48s\tremaining: 17.2s\n",
      "863:\tlearn: 0.5451063\ttotal: 1m 48s\tremaining: 17.1s\n",
      "864:\tlearn: 0.5450290\ttotal: 1m 48s\tremaining: 16.9s\n",
      "865:\tlearn: 0.5449549\ttotal: 1m 48s\tremaining: 16.8s\n",
      "866:\tlearn: 0.5448838\ttotal: 1m 48s\tremaining: 16.7s\n",
      "867:\tlearn: 0.5448228\ttotal: 1m 48s\tremaining: 16.6s\n",
      "868:\tlearn: 0.5447481\ttotal: 1m 48s\tremaining: 16.4s\n",
      "869:\tlearn: 0.5446887\ttotal: 1m 49s\tremaining: 16.3s\n",
      "870:\tlearn: 0.5445973\ttotal: 1m 49s\tremaining: 16.2s\n",
      "871:\tlearn: 0.5445429\ttotal: 1m 49s\tremaining: 16s\n",
      "872:\tlearn: 0.5444631\ttotal: 1m 49s\tremaining: 15.9s\n",
      "873:\tlearn: 0.5443888\ttotal: 1m 49s\tremaining: 15.8s\n",
      "874:\tlearn: 0.5443118\ttotal: 1m 49s\tremaining: 15.7s\n",
      "875:\tlearn: 0.5442401\ttotal: 1m 49s\tremaining: 15.5s\n",
      "876:\tlearn: 0.5441554\ttotal: 1m 49s\tremaining: 15.4s\n",
      "877:\tlearn: 0.5440903\ttotal: 1m 50s\tremaining: 15.3s\n",
      "878:\tlearn: 0.5440190\ttotal: 1m 50s\tremaining: 15.2s\n",
      "879:\tlearn: 0.5439482\ttotal: 1m 50s\tremaining: 15s\n",
      "880:\tlearn: 0.5438809\ttotal: 1m 50s\tremaining: 14.9s\n",
      "881:\tlearn: 0.5437970\ttotal: 1m 50s\tremaining: 14.8s\n",
      "882:\tlearn: 0.5437318\ttotal: 1m 50s\tremaining: 14.7s\n",
      "883:\tlearn: 0.5436699\ttotal: 1m 50s\tremaining: 14.5s\n",
      "884:\tlearn: 0.5435853\ttotal: 1m 50s\tremaining: 14.4s\n",
      "885:\tlearn: 0.5435140\ttotal: 1m 51s\tremaining: 14.3s\n",
      "886:\tlearn: 0.5434376\ttotal: 1m 51s\tremaining: 14.2s\n",
      "887:\tlearn: 0.5433466\ttotal: 1m 51s\tremaining: 14s\n",
      "888:\tlearn: 0.5432879\ttotal: 1m 51s\tremaining: 13.9s\n",
      "889:\tlearn: 0.5432268\ttotal: 1m 51s\tremaining: 13.8s\n",
      "890:\tlearn: 0.5431504\ttotal: 1m 51s\tremaining: 13.7s\n",
      "891:\tlearn: 0.5430707\ttotal: 1m 51s\tremaining: 13.5s\n",
      "892:\tlearn: 0.5429857\ttotal: 1m 51s\tremaining: 13.4s\n",
      "893:\tlearn: 0.5429235\ttotal: 1m 52s\tremaining: 13.3s\n",
      "894:\tlearn: 0.5428305\ttotal: 1m 52s\tremaining: 13.2s\n",
      "895:\tlearn: 0.5427542\ttotal: 1m 52s\tremaining: 13s\n",
      "896:\tlearn: 0.5426873\ttotal: 1m 52s\tremaining: 12.9s\n",
      "897:\tlearn: 0.5426077\ttotal: 1m 52s\tremaining: 12.8s\n",
      "898:\tlearn: 0.5425307\ttotal: 1m 52s\tremaining: 12.7s\n",
      "899:\tlearn: 0.5424606\ttotal: 1m 52s\tremaining: 12.5s\n",
      "900:\tlearn: 0.5423845\ttotal: 1m 52s\tremaining: 12.4s\n",
      "901:\tlearn: 0.5423146\ttotal: 1m 53s\tremaining: 12.3s\n",
      "902:\tlearn: 0.5422322\ttotal: 1m 53s\tremaining: 12.2s\n",
      "903:\tlearn: 0.5421561\ttotal: 1m 53s\tremaining: 12s\n",
      "904:\tlearn: 0.5420876\ttotal: 1m 53s\tremaining: 11.9s\n",
      "905:\tlearn: 0.5419831\ttotal: 1m 53s\tremaining: 11.8s\n",
      "906:\tlearn: 0.5418971\ttotal: 1m 53s\tremaining: 11.7s\n",
      "907:\tlearn: 0.5418168\ttotal: 1m 53s\tremaining: 11.5s\n",
      "908:\tlearn: 0.5417487\ttotal: 1m 53s\tremaining: 11.4s\n",
      "909:\tlearn: 0.5416861\ttotal: 1m 53s\tremaining: 11.3s\n",
      "910:\tlearn: 0.5416294\ttotal: 1m 54s\tremaining: 11.1s\n",
      "911:\tlearn: 0.5415648\ttotal: 1m 54s\tremaining: 11s\n",
      "912:\tlearn: 0.5415076\ttotal: 1m 54s\tremaining: 10.9s\n",
      "913:\tlearn: 0.5414284\ttotal: 1m 54s\tremaining: 10.8s\n",
      "914:\tlearn: 0.5413446\ttotal: 1m 54s\tremaining: 10.6s\n",
      "915:\tlearn: 0.5412719\ttotal: 1m 54s\tremaining: 10.5s\n",
      "916:\tlearn: 0.5412032\ttotal: 1m 54s\tremaining: 10.4s\n",
      "917:\tlearn: 0.5411271\ttotal: 1m 54s\tremaining: 10.3s\n",
      "918:\tlearn: 0.5410497\ttotal: 1m 55s\tremaining: 10.1s\n",
      "919:\tlearn: 0.5409624\ttotal: 1m 55s\tremaining: 10s\n",
      "920:\tlearn: 0.5408923\ttotal: 1m 55s\tremaining: 9.89s\n",
      "921:\tlearn: 0.5408127\ttotal: 1m 55s\tremaining: 9.77s\n",
      "922:\tlearn: 0.5407391\ttotal: 1m 55s\tremaining: 9.64s\n",
      "923:\tlearn: 0.5406866\ttotal: 1m 55s\tremaining: 9.52s\n",
      "924:\tlearn: 0.5406082\ttotal: 1m 55s\tremaining: 9.39s\n",
      "925:\tlearn: 0.5405529\ttotal: 1m 55s\tremaining: 9.26s\n",
      "926:\tlearn: 0.5404833\ttotal: 1m 56s\tremaining: 9.14s\n",
      "927:\tlearn: 0.5403993\ttotal: 1m 56s\tremaining: 9.01s\n",
      "928:\tlearn: 0.5403340\ttotal: 1m 56s\tremaining: 8.89s\n",
      "929:\tlearn: 0.5402626\ttotal: 1m 56s\tremaining: 8.76s\n",
      "930:\tlearn: 0.5401941\ttotal: 1m 56s\tremaining: 8.64s\n",
      "931:\tlearn: 0.5401226\ttotal: 1m 56s\tremaining: 8.51s\n",
      "932:\tlearn: 0.5400500\ttotal: 1m 56s\tremaining: 8.39s\n",
      "933:\tlearn: 0.5399694\ttotal: 1m 56s\tremaining: 8.26s\n",
      "934:\tlearn: 0.5399100\ttotal: 1m 57s\tremaining: 8.14s\n",
      "935:\tlearn: 0.5398249\ttotal: 1m 57s\tremaining: 8.01s\n",
      "936:\tlearn: 0.5397481\ttotal: 1m 57s\tremaining: 7.88s\n",
      "937:\tlearn: 0.5396609\ttotal: 1m 57s\tremaining: 7.76s\n",
      "938:\tlearn: 0.5395890\ttotal: 1m 57s\tremaining: 7.63s\n",
      "939:\tlearn: 0.5394956\ttotal: 1m 57s\tremaining: 7.51s\n",
      "940:\tlearn: 0.5394410\ttotal: 1m 57s\tremaining: 7.38s\n",
      "941:\tlearn: 0.5393599\ttotal: 1m 57s\tremaining: 7.26s\n",
      "942:\tlearn: 0.5392775\ttotal: 1m 58s\tremaining: 7.13s\n",
      "943:\tlearn: 0.5392080\ttotal: 1m 58s\tremaining: 7.01s\n",
      "944:\tlearn: 0.5390694\ttotal: 1m 58s\tremaining: 6.88s\n",
      "945:\tlearn: 0.5390062\ttotal: 1m 58s\tremaining: 6.76s\n",
      "946:\tlearn: 0.5389123\ttotal: 1m 58s\tremaining: 6.63s\n",
      "947:\tlearn: 0.5388535\ttotal: 1m 58s\tremaining: 6.51s\n",
      "948:\tlearn: 0.5387648\ttotal: 1m 58s\tremaining: 6.38s\n",
      "949:\tlearn: 0.5386962\ttotal: 1m 58s\tremaining: 6.26s\n",
      "950:\tlearn: 0.5386158\ttotal: 1m 59s\tremaining: 6.13s\n",
      "951:\tlearn: 0.5385402\ttotal: 1m 59s\tremaining: 6.01s\n",
      "952:\tlearn: 0.5384718\ttotal: 1m 59s\tremaining: 5.88s\n",
      "953:\tlearn: 0.5384082\ttotal: 1m 59s\tremaining: 5.76s\n",
      "954:\tlearn: 0.5383519\ttotal: 1m 59s\tremaining: 5.63s\n",
      "955:\tlearn: 0.5382863\ttotal: 1m 59s\tremaining: 5.51s\n",
      "956:\tlearn: 0.5382088\ttotal: 1m 59s\tremaining: 5.39s\n",
      "957:\tlearn: 0.5381323\ttotal: 2m\tremaining: 5.27s\n",
      "958:\tlearn: 0.5380547\ttotal: 2m\tremaining: 5.14s\n",
      "959:\tlearn: 0.5379766\ttotal: 2m\tremaining: 5.02s\n",
      "960:\tlearn: 0.5379083\ttotal: 2m\tremaining: 4.89s\n",
      "961:\tlearn: 0.5378414\ttotal: 2m\tremaining: 4.76s\n",
      "962:\tlearn: 0.5377600\ttotal: 2m\tremaining: 4.64s\n",
      "963:\tlearn: 0.5377064\ttotal: 2m\tremaining: 4.51s\n",
      "964:\tlearn: 0.5376297\ttotal: 2m 1s\tremaining: 4.39s\n",
      "965:\tlearn: 0.5375697\ttotal: 2m 1s\tremaining: 4.26s\n",
      "966:\tlearn: 0.5375069\ttotal: 2m 1s\tremaining: 4.14s\n",
      "967:\tlearn: 0.5374472\ttotal: 2m 1s\tremaining: 4.01s\n",
      "968:\tlearn: 0.5373741\ttotal: 2m 1s\tremaining: 3.89s\n",
      "969:\tlearn: 0.5373128\ttotal: 2m 1s\tremaining: 3.76s\n",
      "970:\tlearn: 0.5372510\ttotal: 2m 1s\tremaining: 3.64s\n",
      "971:\tlearn: 0.5371815\ttotal: 2m 1s\tremaining: 3.51s\n",
      "972:\tlearn: 0.5371040\ttotal: 2m 2s\tremaining: 3.39s\n",
      "973:\tlearn: 0.5370297\ttotal: 2m 2s\tremaining: 3.26s\n",
      "974:\tlearn: 0.5369545\ttotal: 2m 2s\tremaining: 3.13s\n",
      "975:\tlearn: 0.5368925\ttotal: 2m 2s\tremaining: 3.01s\n",
      "976:\tlearn: 0.5368206\ttotal: 2m 2s\tremaining: 2.88s\n",
      "977:\tlearn: 0.5367496\ttotal: 2m 2s\tremaining: 2.76s\n",
      "978:\tlearn: 0.5366819\ttotal: 2m 2s\tremaining: 2.63s\n",
      "979:\tlearn: 0.5366268\ttotal: 2m 2s\tremaining: 2.51s\n",
      "980:\tlearn: 0.5365499\ttotal: 2m 3s\tremaining: 2.38s\n",
      "981:\tlearn: 0.5364787\ttotal: 2m 3s\tremaining: 2.26s\n",
      "982:\tlearn: 0.5364087\ttotal: 2m 3s\tremaining: 2.13s\n",
      "983:\tlearn: 0.5363235\ttotal: 2m 3s\tremaining: 2.01s\n",
      "984:\tlearn: 0.5362560\ttotal: 2m 3s\tremaining: 1.88s\n",
      "985:\tlearn: 0.5361979\ttotal: 2m 3s\tremaining: 1.76s\n",
      "986:\tlearn: 0.5361205\ttotal: 2m 3s\tremaining: 1.63s\n",
      "987:\tlearn: 0.5360497\ttotal: 2m 3s\tremaining: 1.5s\n",
      "988:\tlearn: 0.5359762\ttotal: 2m 4s\tremaining: 1.38s\n",
      "989:\tlearn: 0.5359028\ttotal: 2m 4s\tremaining: 1.25s\n",
      "990:\tlearn: 0.5358370\ttotal: 2m 4s\tremaining: 1.13s\n",
      "991:\tlearn: 0.5357642\ttotal: 2m 4s\tremaining: 1s\n",
      "992:\tlearn: 0.5356972\ttotal: 2m 4s\tremaining: 879ms\n",
      "993:\tlearn: 0.5356173\ttotal: 2m 4s\tremaining: 753ms\n",
      "994:\tlearn: 0.5355470\ttotal: 2m 4s\tremaining: 628ms\n",
      "995:\tlearn: 0.5354727\ttotal: 2m 5s\tremaining: 502ms\n",
      "996:\tlearn: 0.5353980\ttotal: 2m 5s\tremaining: 377ms\n",
      "997:\tlearn: 0.5353317\ttotal: 2m 5s\tremaining: 251ms\n",
      "998:\tlearn: 0.5352798\ttotal: 2m 5s\tremaining: 126ms\n",
      "999:\tlearn: 0.5352106\ttotal: 2m 5s\tremaining: 0us\n",
      "Training Accuracy : 0.957410224939622\n",
      "Validation Accuracy : 0.9403407162733874\n"
     ]
    }
   ],
   "source": [
    "from catboost import CatBoostClassifier\n",
    "\n",
    "cbc = CatBoostClassifier(learning_rate = 0.004, early_stopping_rounds = 100)\n",
    "cbc.fit(x_train, y_train)\n",
    "\n",
    "cbc_pred = cbc.predict(x_test)\n",
    "\n",
    "print(\"Training Accuracy :\", rfc.score(x_train, y_train))\n",
    "\n",
    "print(\"Validation Accuracy :\", rfc.score(x_valid, y_valid))\n",
    "\n",
    "\n"
   ]
  },
  {
   "cell_type": "markdown",
   "id": "8561e0c8",
   "metadata": {
    "papermill": {
     "duration": 0.315595,
     "end_time": "2021-08-16T10:55:53.733982",
     "exception": false,
     "start_time": "2021-08-16T10:55:53.418387",
     "status": "completed"
    },
    "tags": []
   },
   "source": [
    "# END OF NOTEBOOK ❤❤"
   ]
  }
 ],
 "metadata": {
  "kernelspec": {
   "display_name": "Python 3",
   "language": "python",
   "name": "python3"
  },
  "language_info": {
   "codemirror_mode": {
    "name": "ipython",
    "version": 3
   },
   "file_extension": ".py",
   "mimetype": "text/x-python",
   "name": "python",
   "nbconvert_exporter": "python",
   "pygments_lexer": "ipython3",
   "version": "3.7.10"
  },
  "papermill": {
   "default_parameters": {},
   "duration": 720.312442,
   "end_time": "2021-08-16T10:55:55.437961",
   "environment_variables": {},
   "exception": null,
   "input_path": "__notebook__.ipynb",
   "output_path": "__notebook__.ipynb",
   "parameters": {},
   "start_time": "2021-08-16T10:43:55.125519",
   "version": "2.3.3"
  }
 },
 "nbformat": 4,
 "nbformat_minor": 5
}
